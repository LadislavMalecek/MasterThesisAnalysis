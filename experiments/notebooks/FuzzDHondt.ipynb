{
 "cells": [
  {
   "cell_type": "code",
   "execution_count": 8,
   "metadata": {},
   "outputs": [
    {
     "name": "stdout",
     "output_type": "stream",
     "text": [
      "(200, 162541)\n",
      "(200, 59047)\n"
     ]
    },
    {
     "data": {
      "text/plain": [
       "(59047, 3)"
      ]
     },
     "execution_count": 8,
     "metadata": {},
     "output_type": "execute_result"
    }
   ],
   "source": [
    "import numpy as np\n",
    "import pandas as pd\n",
    "from typing import List\n",
    "\n",
    "from collections import defaultdict\n",
    "import itertools\n",
    "import math\n",
    "\n",
    "from tqdm import tqdm\n",
    "\n",
    "u_features = np.load('../datasets/movie_lens/mf/U_features.npy')\n",
    "i_features = np.load('../datasets/movie_lens/mf/I_features.npy')\n",
    "print(u_features.shape)\n",
    "print(i_features.shape)\n",
    "\n",
    "def get_items_for_user(user_id):\n",
    "    items_ratings = u_features[:, user_id] @ i_features\n",
    "    items_ids_w_ratings = [(item_id, rating) for item_id, rating in enumerate(items_ratings)]\n",
    "    items_ids_w_ratings.sort(key=lambda x: x[1], reverse=True)\n",
    "    return items_ids_w_ratings\n",
    "\n",
    "def get_items_for_users(users_id: List):\n",
    "    items_ratings = i_features.T @ u_features[:, users_id]\n",
    "    # items_ratings = np.minimum(5, np.maximum(0, i_features.T @ u_features[:, users_id]))\n",
    "    return items_ratings\n",
    "    \n",
    "ratings = get_items_for_users([10,20,30])\n",
    "ratings.shape\n"
   ]
  },
  {
   "cell_type": "code",
   "execution_count": 9,
   "metadata": {},
   "outputs": [],
   "source": [
    "def select_top_n_idx(score_list, top_n, top='max', sort=True, exclude_idx=[]):\n",
    "    if top != 'max' and top != 'min':\n",
    "        raise ValueError('top must be either Max or Min')\n",
    "    if top == 'max':\n",
    "        score_list = -score_list\n",
    "\n",
    "    select_top_n = top_n + len(exclude_idx)\n",
    "    top_n_ind = np.argpartition(score_list, select_top_n)[:select_top_n]\n",
    "\n",
    "    if sort:\n",
    "        top_n_ind = top_n_ind[np.argsort(score_list[top_n_ind])]\n",
    "\n",
    "    if exclude_idx:\n",
    "        top_n_ind = [idx for idx in top_n_ind if idx not in exclude_idx]\n",
    "    return top_n_ind[0:top_n]\n",
    "\n",
    "\n",
    "a = np.array([2,1,6,7,8,9,3,4,5,10])\n",
    "assert np.array_equal(select_top_n_idx(a, 3, top='max'), [9, 5, 4])\n",
    "assert np.array_equal(select_top_n_idx(a, 3, top='min'), [1, 0, 6])\n",
    "assert set(select_top_n_idx(a, 3, top='max', sort=False)) == {9, 5, 4}\n",
    "assert set(select_top_n_idx(a, 3, top='min', sort=False)) == {0, 1, 6}\n",
    "\n",
    "assert np.array_equal(select_top_n_idx(a, 3, top='max', exclude_idx=[1]), [9, 5, 4])\n",
    "assert np.array_equal(select_top_n_idx(a, 3, top='min', exclude_idx=[1]), [0, 6, 7])\n",
    "assert set(select_top_n_idx(a, 3, top='max', sort=False, exclude_idx=[1])) == {9, 5, 4}\n",
    "assert set(select_top_n_idx(a, 3, top='min', sort=False, exclude_idx=[1])) == {0, 6, 7}"
   ]
  },
  {
   "cell_type": "code",
   "execution_count": 12,
   "metadata": {},
   "outputs": [
    {
     "name": "stderr",
     "output_type": "stream",
     "text": [
      "100%|██████████| 1000/1000 [00:19<00:00, 52.55it/s]\n"
     ]
    }
   ],
   "source": [
    "import os\n",
    "from time import sleep\n",
    "from matplotlib.pyplot import axis\n",
    "\n",
    "\n",
    "def dhondt_do_algorithm(group_items, top_n, n_candidates=1000, member_weight=None):\n",
    "    group_size = group_items.shape[1]\n",
    "    if not member_weight:\n",
    "        # will be normalized to 1 in the next step anyway, we can skip it here\n",
    "        member_weight = [1] * group_size\n",
    "    starting_voting_support = np.array(member_weight) / sum(member_weight)\n",
    "\n",
    "    top_candidates_ids_per_member = np.apply_along_axis(lambda u_items: select_top_n_idx(u_items, n_candidates), 0, group_items)\n",
    "    # these are the original items ids\n",
    "    top_candidates_idx = np.array(sorted(set(top_candidates_ids_per_member.flatten())))\n",
    "    candidate_group_items = group_items[top_candidates_idx, :] # this is the first id mapping (to go back to original, index by top_candidates_idx)\n",
    "\n",
    "    # candidate_group_items = group_items # this is the first id mapping (to go back to original, index by top_candidates_idx)\n",
    "\n",
    "    current_voting_support = starting_voting_support.copy()\n",
    "    selected_items_relevance = np.zeros(group_size)\n",
    "    selected_items = []\n",
    "    # top-n times select one item to the final list\n",
    "    for i in range(top_n):\n",
    "        candidate_relevance = np.sum(candidate_group_items * current_voting_support, axis=1)\n",
    "        idx_of_top_item = list(select_top_n_idx(candidate_relevance, 1, exclude_idx=selected_items))[0]\n",
    "\n",
    "        selected_items.append(idx_of_top_item)\n",
    "        selected_items_relevance += candidate_group_items[idx_of_top_item]\n",
    "        current_voting_support = starting_voting_support / selected_items_relevance\n",
    "\n",
    "    # now we need to get the original item ids from the final_candidates list and then top_candidates_idx\n",
    "    final_top_candidates = top_candidates_idx[selected_items]\n",
    "    return final_top_candidates\n",
    "\n",
    "group_size = 5\n",
    "group_type = 'top_k'\n",
    "\n",
    "# load groups\n",
    "groups = pd.read_csv('../notebooks/dfs/groups/kgrec/top_k_10.csv')\n",
    "#concatenate first 5 columns to array of ints\n",
    "groups = groups.iloc[:,:group_size].values\n",
    "rec_it = []\n",
    "\n",
    "for group_members in tqdm(groups):\n",
    "    items = get_items_for_users(group_members)\n",
    "    top_n_items = dhondt_do_algorithm(items, 10, n_candidates=1000)\n",
    "    # print(items[top_n_items, :])\n",
    "    rec_it.append(top_n_items)\n",
    "\n",
    "os.makedirs(f'../results/gs-{group_size}/{group_type}', exist_ok=True)\n",
    "np.save(f'../results/gs-{group_size}/{group_type}/fuzz_dhondt.npy', rec_it)\n",
    "    "
   ]
  },
  {
   "cell_type": "code",
   "execution_count": null,
   "metadata": {},
   "outputs": [],
   "source": []
  }
 ],
 "metadata": {
  "kernelspec": {
   "display_name": "Python 3.9.13 ('.venv': poetry)",
   "language": "python",
   "name": "python3"
  },
  "language_info": {
   "codemirror_mode": {
    "name": "ipython",
    "version": 3
   },
   "file_extension": ".py",
   "mimetype": "text/x-python",
   "name": "python",
   "nbconvert_exporter": "python",
   "pygments_lexer": "ipython3",
   "version": "3.9.13 (main, Jun  7 2022, 13:28:04) \n[Clang 13.1.6 (clang-1316.0.21.2.5)]"
  },
  "orig_nbformat": 4,
  "vscode": {
   "interpreter": {
    "hash": "72e4c8b5f0869b81e3c54c1a9c17a5176fed7dccc000e70ae85e6cab596ae0d3"
   }
  }
 },
 "nbformat": 4,
 "nbformat_minor": 2
}
