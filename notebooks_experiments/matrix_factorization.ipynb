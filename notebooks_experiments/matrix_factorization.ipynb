{
 "cells": [
  {
   "cell_type": "markdown",
   "metadata": {},
   "source": [
    "## Alternating Least Squares (ALS)"
   ]
  },
  {
   "cell_type": "code",
   "execution_count": 2,
   "metadata": {},
   "outputs": [],
   "source": [
    "'''\n",
    "Implements Alternating Least Squares (ALS) to create a recommender system for a subset of the Netflix dataset.\n",
    "'''\n",
    "import matplotlib.pyplot as plt\n",
    "import numpy as np\n",
    "import argparse\n",
    "from scipy.sparse import csc_array, csr_array, csc_matrix, csr_matrix\n",
    "import pandas as pd\n",
    "from tqdm import tqdm\n",
    "from sklearn.model_selection import train_test_split\n",
    "import ray\n",
    "from random import shuffle\n",
    "\n",
    "\n",
    "from more_itertools import chunked"
   ]
  },
  {
   "cell_type": "code",
   "execution_count": 3,
   "metadata": {},
   "outputs": [
    {
     "data": {
      "text/plain": [
       "RayContext(dashboard_url='', python_version='3.9.13', ray_version='1.13.0', ray_commit='e4ce38d001dbbe09cd21c497fedd03d692b2be3e', address_info={'node_ip_address': '127.0.0.1', 'raylet_ip_address': '127.0.0.1', 'redis_address': None, 'object_store_address': '/tmp/ray/session_2022-07-11_01-39-29_738956_2587/sockets/plasma_store', 'raylet_socket_name': '/tmp/ray/session_2022-07-11_01-39-29_738956_2587/sockets/raylet', 'webui_url': '', 'session_dir': '/tmp/ray/session_2022-07-11_01-39-29_738956_2587', 'metrics_export_port': 53279, 'gcs_address': '127.0.0.1:50788', 'address': '127.0.0.1:50788', 'node_id': '4bc09a47edada935a71f08879629b5bfdf815dd6bb41b34d883180a7'})"
      ]
     },
     "execution_count": 3,
     "metadata": {},
     "output_type": "execute_result"
    }
   ],
   "source": [
    "ray_cores = 8\n",
    "ray.init(num_cpus=ray_cores, ignore_reinit_error=True)"
   ]
  },
  {
   "cell_type": "code",
   "execution_count": 4,
   "metadata": {},
   "outputs": [
    {
     "name": "stdout",
     "output_type": "stream",
     "text": [
      "   user_id  item_id\n",
      "0   549000        0\n",
      "1   549000        1\n",
      "2   549000        2\n",
      "3   549000        3\n",
      "4   549000        4\n"
     ]
    }
   ],
   "source": [
    "# file, out_dir, n_features = '../datasets/netflix/ratings.csv.gz', '../datasets/netflix/mf/', 300\n",
    "# file, out_dir, n_features = '../datasets/movie_lens/ratings.csv.gz', '../datasets/movie_lens/mf/', 200\n",
    "# file, out_dir, n_features = '../datasets/kgrec/music_ratings.csv.gz', '../datasets/kgrec/mf/', 50\n",
    "file, out_dir, n_features = '../datasets/spotify/ratings.csv.gz', '../datasets/spotify/mf/', 300\n",
    "original_data = pd.read_csv(file)\n",
    "\n",
    "print(original_data.head())\n",
    "# chceck ids\n",
    "assert original_data['user_id'].nunique() == original_data['user_id'].max() + 1\n",
    "assert original_data['item_id'].nunique() == original_data['item_id'].max() + 1"
   ]
  },
  {
   "cell_type": "code",
   "execution_count": 5,
   "metadata": {},
   "outputs": [],
   "source": [
    "# keep only users with at least n ratings\n",
    "n = 10\n",
    "num_ratings = original_data.groupby('user_id').size()\n",
    "index_size_ok = num_ratings[num_ratings >= n].index\n",
    "index_size_low = num_ratings[num_ratings < n].index\n",
    "original_data_ok = original_data[original_data['user_id'].isin(index_size_ok)]\n",
    "original_data_low = original_data[original_data['user_id'].isin(index_size_low)]"
   ]
  },
  {
   "cell_type": "code",
   "execution_count": 6,
   "metadata": {},
   "outputs": [
    {
     "name": "stdout",
     "output_type": "stream",
     "text": [
      "(1000000, 2262292)\n",
      "(1000000, 2262292)\n",
      "(2262292, 1000000)\n"
     ]
    }
   ],
   "source": [
    "def load_and_process_df(file):\n",
    "    '''\n",
    "    Loads a dataframe from a file and returns a sparse matricies.\n",
    "    '''\n",
    "    # df = pd.read_csv(file)\n",
    "    df = original_data_ok.copy()\n",
    "    df_low = original_data_low.copy()\n",
    "\n",
    "    if 'user_id' not in df.columns or 'item_id' not in df.columns:\n",
    "        raise Exception('Dataframe does not have user_id and item_id columns')\n",
    "    if not 'rating' in df.columns:\n",
    "        df['rating'] = 1\n",
    "        df_low['rating'] = 1\n",
    "    \n",
    "    df = df[['user_id', 'item_id', 'rating']]\n",
    "    df_low = df_low[['user_id', 'item_id', 'rating']]\n",
    "\n",
    "\n",
    "    # split to training and testing data 80:20 for each user\n",
    "    training, testing = train_test_split(df, test_size=0.2, stratify=df['user_id'])\n",
    "    # training = pd.concat([training, df_low])\n",
    "\n",
    "    num_of_users = df['user_id'].max() + 1\n",
    "    num_of_items = df['item_id'].max() + 1\n",
    "\n",
    "    training_data_csc = csc_matrix((training['rating'], (training['user_id'], training['item_id'])), shape=(num_of_users, num_of_items))\n",
    "    training_data_t_csc = csc_matrix((training['rating'], (training['item_id'], training['user_id'])), shape=(num_of_items, num_of_users))\n",
    "    testing_data_csc = csc_matrix((testing['rating'], (testing['user_id'], testing['item_id'])), shape=(num_of_users, num_of_items))\n",
    "    \n",
    "    # check if the last value is only in training data xor testing data\n",
    "    # print(training_data)\n",
    "    uid = int(df.iloc[-1]['user_id'])\n",
    "    iid = int(df.iloc[-1]['item_id'])\n",
    "    rating = df.iloc[-1].rating\n",
    "    in_train = training_data_csc[uid, iid] == rating\n",
    "    in_test = testing_data_csc[df.iloc[-1]['user_id'], df.iloc[-1]['item_id']] == df.iloc[-1].rating\n",
    "    assert (in_train and not in_test) or (not in_train and in_test), 'Dataframe is not split correctly'\n",
    "    \n",
    "    return training_data_csc, training_data_t_csc, testing_data_csc\n",
    "\n",
    "\n",
    "training_data_csc, training_data_t_csc, testing_data_csc = load_and_process_df('../datasets/netflix/ratings.csv.gz')\n",
    "# training_data_t = training_data.T\n",
    "# testing_data_t = testing_data.T\n",
    "\n",
    "print(training_data_csc.shape)\n",
    "print(testing_data_csc.shape)\n",
    "print(training_data_t_csc.shape)\n",
    "# print(testing_data_t.shape)"
   ]
  },
  {
   "cell_type": "code",
   "execution_count": 9,
   "metadata": {},
   "outputs": [
    {
     "name": "stdout",
     "output_type": "stream",
     "text": [
      "Training error: 1.7961796123996063\n",
      "Testing error: 0.9278640148211375\n",
      "Step #0\n",
      "Fitting M\n"
     ]
    },
    {
     "name": "stderr",
     "output_type": "stream",
     "text": [
      "  3%|▎         | 73654/2262292 [00:10<05:17, 6896.94it/s] \u001b[2m\u001b[36m(raylet)\u001b[0m Spilled 10494 MiB, 9 objects, write throughput 575 MiB/s.\n",
      "100%|██████████| 2262292/2262292 [05:25<00:00, 6947.68it/s]\n",
      "21633it [01:21, 266.85it/s]\n"
     ]
    },
    {
     "ename": "KeyboardInterrupt",
     "evalue": "",
     "output_type": "error",
     "traceback": [
      "\u001b[0;31m---------------------------------------------------------------------------\u001b[0m",
      "\u001b[0;31mKeyboardInterrupt\u001b[0m                         Traceback (most recent call last)",
      "\u001b[1;32m/Users/lada/projects/thesis_analysis/notebooks_experiments/matrix_factorization.ipynb Cell 7\u001b[0m in \u001b[0;36m<cell line: 79>\u001b[0;34m()\u001b[0m\n\u001b[1;32m     <a href='vscode-notebook-cell:/Users/lada/projects/thesis_analysis/notebooks_experiments/matrix_factorization.ipynb#ch0000006?line=85'>86</a>\u001b[0m \u001b[39mprint\u001b[39m(\u001b[39m'\u001b[39m\u001b[39mFitting M\u001b[39m\u001b[39m'\u001b[39m)\n\u001b[1;32m     <a href='vscode-notebook-cell:/Users/lada/projects/thesis_analysis/notebooks_experiments/matrix_factorization.ipynb#ch0000006?line=86'>87</a>\u001b[0m \u001b[39m# cf_ridge_regression_column_wise_m(target_matrix=I_features, fixed_matrix=U_features, data_ray=training_data_csc_ray, l2_lambda=l2_lambda, slice_size=slice_size)\u001b[39;00m\n\u001b[0;32m---> <a href='vscode-notebook-cell:/Users/lada/projects/thesis_analysis/notebooks_experiments/matrix_factorization.ipynb#ch0000006?line=87'>88</a>\u001b[0m cf_ridge_regression_column_wise(target_matrix\u001b[39m=\u001b[39;49mI_features, fixed_matrix\u001b[39m=\u001b[39;49mU_features, data_ray\u001b[39m=\u001b[39;49mtraining_data_csc_ray, l2_lambda\u001b[39m=\u001b[39;49ml2_lambda)\n\u001b[1;32m     <a href='vscode-notebook-cell:/Users/lada/projects/thesis_analysis/notebooks_experiments/matrix_factorization.ipynb#ch0000006?line=88'>89</a>\u001b[0m \u001b[39mprint\u001b[39m(\u001b[39m'\u001b[39m\u001b[39mFitting U\u001b[39m\u001b[39m'\u001b[39m)\n\u001b[1;32m     <a href='vscode-notebook-cell:/Users/lada/projects/thesis_analysis/notebooks_experiments/matrix_factorization.ipynb#ch0000006?line=89'>90</a>\u001b[0m \u001b[39m# cf_ridge_regression_column_wise_m(target_matrix=U_features, fixed_matrix=I_features, data_ray=training_data_t_csc_ray, l2_lambda=l2_lambda, slice_size=slice_size)\u001b[39;00m\n",
      "\u001b[1;32m/Users/lada/projects/thesis_analysis/notebooks_experiments/matrix_factorization.ipynb Cell 7\u001b[0m in \u001b[0;36mcf_ridge_regression_column_wise\u001b[0;34m(target_matrix, fixed_matrix, data_ray, l2_lambda)\u001b[0m\n\u001b[1;32m     <a href='vscode-notebook-cell:/Users/lada/projects/thesis_analysis/notebooks_experiments/matrix_factorization.ipynb#ch0000006?line=32'>33</a>\u001b[0m \u001b[39mfor\u001b[39;00m i, j \u001b[39min\u001b[39;00m tqdm(\u001b[39menumerate\u001b[39m(matrix_column_indexes)):\n\u001b[1;32m     <a href='vscode-notebook-cell:/Users/lada/projects/thesis_analysis/notebooks_experiments/matrix_factorization.ipynb#ch0000006?line=33'>34</a>\u001b[0m     result \u001b[39m=\u001b[39m ray\u001b[39m.\u001b[39mget(futures[i])\n\u001b[0;32m---> <a href='vscode-notebook-cell:/Users/lada/projects/thesis_analysis/notebooks_experiments/matrix_factorization.ipynb#ch0000006?line=34'>35</a>\u001b[0m     target_matrix[:,j] \u001b[39m=\u001b[39m result\n\u001b[1;32m     <a href='vscode-notebook-cell:/Users/lada/projects/thesis_analysis/notebooks_experiments/matrix_factorization.ipynb#ch0000006?line=36'>37</a>\u001b[0m \u001b[39mdel\u001b[39;00m fixed_matrix_ray\n",
      "\u001b[0;31mKeyboardInterrupt\u001b[0m: "
     ]
    }
   ],
   "source": [
    "@ray.remote\n",
    "def process_single_index_ray(j, l2_lambda, data_ray, fixed_matrix_ray):\n",
    "    nonzeros = data_ray[:,j].nonzero()[0]\n",
    "    y = data_ray[nonzeros, j].todense()\n",
    "    X = fixed_matrix_ray[:, nonzeros]\n",
    "    return np.squeeze(np.linalg.inv(X.dot(X.T) + l2_lambda * np.eye(X.shape[0])).dot(X.dot(y)))\n",
    "\n",
    "def cf_ridge_regression_column_wise(target_matrix, fixed_matrix, data_ray, l2_lambda):\n",
    "    '''\n",
    "    Solves a ridge regression problem using a closed form solution:\n",
    "        w_i = (X'X + lambda * I)^-1 X'y\n",
    "    for all i in the target matrix.\n",
    "    '''\n",
    "    fixed_matrix_ray = ray.put(fixed_matrix)\n",
    "    matrix_column_indexes = list(range(target_matrix.shape[1]))\n",
    "    shuffle(matrix_column_indexes)\n",
    "\n",
    "    with tqdm(total=target_matrix.shape[1]) as pbar:\n",
    "        for chunk_j in chunked(matrix_column_indexes, n=100):\n",
    "            futures = []\n",
    "            for j in chunk_j:\n",
    "                futures.append(process_single_index_ray.remote(j, l2_lambda, data_ray, fixed_matrix_ray))\n",
    "            results = ray.get(futures)\n",
    "            for j, result in zip(chunk_j, results):\n",
    "                target_matrix[:,j] = result\n",
    "            pbar.update(len(chunk_j))\n",
    "    \n",
    "    del fixed_matrix_ray\n",
    "\n",
    "\n",
    "def sum_squared_error(gt_data, U, M):\n",
    "    U_small = U[:,0:1000].T\n",
    "    M_small = M[:,0:1000]\n",
    "    resulting = U_small.dot(M_small)\n",
    "    gt_data_subset = gt_data[0:1000,0:1000]\n",
    "    diff = gt_data_subset - resulting\n",
    "    error = diff[gt_data_subset[0:1000,0:1000].nonzero()]\n",
    "    error2 = (np.array(error) ** 2).sum()\n",
    "    return error2\n",
    "    # return (np.array((training_data[0:1000,0:1000] - U[0:1000,:].T.dot(M[0:1000,:]))[training_data[0:1000,0:1000].nonzero()]) ** 2).sum()\n",
    "\n",
    "# Initialize the parameters\n",
    "total_ratings = 100_000_000\n",
    "\n",
    "converge = 1e-6\n",
    "\n",
    "max_steps = 100\n",
    "l2_lambda = 0.1\n",
    "delta = converge + 1.\n",
    "cur_error = 1.\n",
    "cur_step = 0\n",
    "\n",
    "verbose = True\n",
    "\n",
    "U_features = np.ones((n_features, training_data_csc.shape[0])) # features x users\n",
    "I_features = np.ones((n_features, training_data_csc.shape[1])) # features x items\n",
    "\n",
    "training_trace = []\n",
    "testing_trace = []\n",
    "\n",
    "train_error = sum_squared_error(training_data_csc, U_features, I_features)\n",
    "test_error = sum_squared_error(testing_data_csc, U_features, I_features)\n",
    "training_trace.append(np.sqrt(train_error / total_ratings))\n",
    "testing_trace.append(np.sqrt(test_error / total_ratings))\n",
    "\n",
    "print('Training error: {0}'.format(np.sqrt(train_error / total_ratings)))\n",
    "print('Testing error: {0}'.format(np.sqrt(test_error / total_ratings)))\n",
    "\n",
    "\n",
    "while delta > converge and cur_step < max_steps:\n",
    "    print('Step #{0}'.format(cur_step))\n",
    "\n",
    "    # Use the closed-form solution for the ridge-regression subproblems\n",
    "    training_data_csc_ray = ray.put(training_data_csc)\n",
    "    training_data_t_csc_ray = ray.put(training_data_t_csc)\n",
    "    # slice_size = 50\n",
    "    print('Fitting M')\n",
    "    # cf_ridge_regression_column_wise_m(target_matrix=I_features, fixed_matrix=U_features, data_ray=training_data_csc_ray, l2_lambda=l2_lambda, slice_size=slice_size)\n",
    "    cf_ridge_regression_column_wise(target_matrix=I_features, fixed_matrix=U_features, data_ray=training_data_csc_ray, l2_lambda=l2_lambda)\n",
    "    print('Fitting U')\n",
    "    # cf_ridge_regression_column_wise_m(target_matrix=U_features, fixed_matrix=I_features, data_ray=training_data_t_csc_ray, l2_lambda=l2_lambda, slice_size=slice_size)\n",
    "    cf_ridge_regression_column_wise(target_matrix=U_features, fixed_matrix=I_features, data_ray=training_data_t_csc_ray, l2_lambda=l2_lambda)\n",
    "\n",
    "    # Track performance in terms of RMSE on both the testing and training sets\n",
    "    train_error = sum_squared_error(training_data_csc, U_features, I_features)\n",
    "    test_error = sum_squared_error(testing_data_csc, U_features, I_features)\n",
    "    training_trace.append(np.sqrt(train_error / total_ratings))\n",
    "    testing_trace.append(np.sqrt(test_error / total_ratings))\n",
    "\n",
    "    # Track convergence\n",
    "    prev_error = cur_error\n",
    "    cur_error = train_error\n",
    "    delta = np.abs(prev_error - cur_error) / (prev_error + converge)\n",
    "    print('Training error: {0}'.format(np.sqrt(train_error / total_ratings)))\n",
    "    print('Testing error: {0}'.format(np.sqrt(test_error / total_ratings)))\n",
    "    print('Delta: {0}'.format(delta))\n",
    "    # Update the step counter\n",
    "    cur_step += 1\n",
    "\n"
   ]
  },
  {
   "cell_type": "code",
   "execution_count": null,
   "metadata": {},
   "outputs": [],
   "source": [
    "# save features\n",
    "#create output directory\n",
    "from pathlib import Path\n",
    "\n",
    "\n",
    "Path.mkdir(Path(out_dir), exist_ok=True)\n",
    "\n",
    "np.save(out_dir + 'U_features.npy', U_features)\n",
    "np.save(out_dir + 'I_features.npy', I_features)\n",
    "\n",
    "# print statistics about features\n",
    "print('U_features shape: {0}'.format(U_features.shape))\n",
    "print('I_features shape: {0}'.format(I_features.shape))\n",
    "print(U_features)\n",
    "print(I_features)"
   ]
  },
  {
   "cell_type": "code",
   "execution_count": null,
   "metadata": {},
   "outputs": [],
   "source": [
    "\n",
    "plt.figure()\n",
    "plt.plot(np.arange(cur_step + 1), np.array(training_trace), label='Training RMSE')\n",
    "plt.plot(np.arange(cur_step + 1), np.array(testing_trace), label='Testing RMSE')\n",
    "plt.yscale('log')\n",
    "# plt.savefig(args.plot_results, bbox_inches='tight')\n",
    "plt.show()"
   ]
  }
 ],
 "metadata": {
  "kernelspec": {
   "display_name": "Python 3.9.13 ('.venv': poetry)",
   "language": "python",
   "name": "python3"
  },
  "language_info": {
   "codemirror_mode": {
    "name": "ipython",
    "version": 3
   },
   "file_extension": ".py",
   "mimetype": "text/x-python",
   "name": "python",
   "nbconvert_exporter": "python",
   "pygments_lexer": "ipython3",
   "version": "3.9.13"
  },
  "orig_nbformat": 4,
  "vscode": {
   "interpreter": {
    "hash": "72e4c8b5f0869b81e3c54c1a9c17a5176fed7dccc000e70ae85e6cab596ae0d3"
   }
  }
 },
 "nbformat": 4,
 "nbformat_minor": 2
}
