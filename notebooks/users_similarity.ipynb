{
 "cells": [
  {
   "attachments": {},
   "cell_type": "markdown",
   "metadata": {},
   "source": [
    "# This notebook has is testing the different similarity metrics and graphs the results"
   ]
  },
  {
   "cell_type": "code",
   "execution_count": 2,
   "metadata": {},
   "outputs": [],
   "source": [
    "import pandas as pd\n",
    "from matplotlib import pyplot as plt\n",
    "import numpy as np\n",
    "import seaborn as sns\n",
    "from tqdm import tqdm\n",
    "import matplotlib\n",
    "import matplotlib.pyplot as plt\n",
    "import os\n",
    "\n",
    "matplotlib.rcParams.update({\n",
    "    'font.family': 'serif',\n",
    "    'text.usetex': True,\n",
    "    'pgf.rcfonts': False,\n",
    "    })"
   ]
  },
  {
   "cell_type": "code",
   "execution_count": 3,
   "metadata": {},
   "outputs": [],
   "source": [
    "random_sample_size = 1_000_000\n",
    "bin_multiplier = 100 # how many bins to use (assuming the range is [0, 1], double for the range [-1, 1])"
   ]
  },
  {
   "cell_type": "code",
   "execution_count": 4,
   "metadata": {},
   "outputs": [
    {
     "name": "stdout",
     "output_type": "stream",
     "text": [
      "162540\n",
      "59046\n"
     ]
    }
   ],
   "source": [
    "ml_df = pd.read_csv('../datasets/movie_lens/ratings.csv.gz')\n",
    "max_user_id = ml_df['user_id'].max()\n",
    "max_item_id = ml_df['item_id'].max()\n",
    "print(max_user_id)\n",
    "print(max_item_id)"
   ]
  },
  {
   "cell_type": "code",
   "execution_count": 5,
   "metadata": {},
   "outputs": [
    {
     "name": "stderr",
     "output_type": "stream",
     "text": [
      "100%|██████████| 25000095/25000095 [01:15<00:00, 328969.35it/s]\n"
     ]
    }
   ],
   "source": [
    "from scipy.sparse import lil_matrix\n",
    "\n",
    "max_user_id = ml_df['user_id'].max()\n",
    "max_item_id = ml_df['item_id'].max()\n",
    "\n",
    "users_to_items_ratings = lil_matrix((max_user_id + 1, max_item_id + 1), dtype=np.float32)\n",
    "progress = tqdm(total=len(ml_df))\n",
    "for user_id, item_id, rating, _ in ml_df.itertuples(index=False):\n",
    "    users_to_items_ratings[user_id, item_id] = rating\n",
    "    progress.update(1)\n",
    "progress.close()"
   ]
  },
  {
   "cell_type": "code",
   "execution_count": 6,
   "metadata": {},
   "outputs": [],
   "source": [
    "# # iteratively calculate histogram of similarity between users\n",
    "# from scipy.stats import pearsonr\n",
    "# from scipy.spatial.distance import jaccard, cosine\n",
    "# from collections import defaultdict\n",
    "\n",
    "# counts_pearson = defaultdict(int)\n",
    "# counts_jaccard = defaultdict(int)\n",
    "# counts_cosine = defaultdict(int)\n",
    "\n",
    "# users = ml_df['user_id'].unique()\n",
    "# random_sample_size = 100\n",
    "# bin_multiplier = 100\n",
    "# users_random_sample = np.random.choice(users, random_sample_size, replace=False)\n",
    "\n",
    "# counter = tqdm(total=(len(users_random_sample) ** 2 / 2 ))\n",
    "# for user_id in users_random_sample:\n",
    "#     for other_user_id in users_random_sample:\n",
    "#         if user_id <= other_user_id:\n",
    "#             continue\n",
    "#         user_ratings = users_to_items_ratings[user_id, :].toarray().flatten()\n",
    "#         other_user_ratings = users_to_items_ratings[other_user_id, :].toarray().flatten()\n",
    "\n",
    "#         peaerson_similarity, p_value = pearsonr(user_ratings, other_user_ratings)\n",
    "#         peaerson_similarity_bin = int(peaerson_similarity * bin_multiplier)\n",
    "#         counts_pearson[peaerson_similarity_bin] += 1\n",
    "\n",
    "#         user_ratings_bool = user_ratings > 0\n",
    "#         other_user_ratings_bool = other_user_ratings > 0\n",
    "#         jaccard_similarity = np.logical_and(user_ratings_bool, other_user_ratings_bool).sum() / np.logical_or(user_ratings_bool, other_user_ratings_bool).sum()\n",
    "#         jaccard_similarity_bin = int(jaccard_similarity * bin_multiplier)\n",
    "#         counts_jaccard[jaccard_similarity_bin] += 1\n",
    "\n",
    "\n",
    "#         cosine_similarity = cosine(user_ratings, other_user_ratings)\n",
    "#         cosine_similarity_bin = int(cosine_similarity * bin_multiplier)\n",
    "#         counts_cosine[cosine_similarity_bin] += 1\n",
    "\n",
    "#         counter.update(1)\n",
    "# counter.close()"
   ]
  },
  {
   "cell_type": "code",
   "execution_count": 6,
   "metadata": {},
   "outputs": [
    {
     "name": "stderr",
     "output_type": "stream",
     "text": [
      "100%|██████████| 1000000/1000000 [14:25<00:00, 1155.66it/s]\n"
     ]
    }
   ],
   "source": [
    "# iteratively calculate histogram of similarity between users\n",
    "from scipy.stats import pearsonr\n",
    "from scipy.spatial.distance import jaccard, cosine\n",
    "from collections import defaultdict\n",
    "import random\n",
    "\n",
    "counts_pearson = defaultdict(int)\n",
    "counts_jaccard = defaultdict(int)\n",
    "counts_cosine = defaultdict(int)\n",
    "\n",
    "append_exact = True\n",
    "\n",
    "pearson_exact = list()\n",
    "jaccard_exact = list()\n",
    "cosine_exact = list()\n",
    "\n",
    "num_unique_users = users_to_items_ratings.shape[0]\n",
    "\n",
    "def get_random_users(max):\n",
    "    while True:\n",
    "        u1, u2 = random.randint(0, max), random.randint(0, max)\n",
    "        if u1 != u2:\n",
    "            return u1, u2\n",
    "\n",
    "users = ml_df['user_id'].unique()\n",
    "\n",
    "counter = tqdm(total=random_sample_size)\n",
    "for _ in range(random_sample_size):\n",
    "    u1, u2 = get_random_users(num_unique_users - 1)\n",
    "\n",
    "    user_ratings = users_to_items_ratings[u1, :].toarray().flatten()\n",
    "    other_user_ratings = users_to_items_ratings[u2, :].toarray().flatten()\n",
    "\n",
    "    peaerson_similarity, p_value = pearsonr(user_ratings, other_user_ratings)\n",
    "    peaerson_similarity_bin = int(peaerson_similarity * bin_multiplier)\n",
    "    counts_pearson[peaerson_similarity_bin] += 1\n",
    "    if append_exact:\n",
    "        pearson_exact.append(peaerson_similarity)\n",
    "\n",
    "    user_ratings_bool = user_ratings > 0\n",
    "    other_user_ratings_bool = other_user_ratings > 0\n",
    "    jaccard_similarity = np.logical_and(user_ratings_bool, other_user_ratings_bool).sum() / np.logical_or(user_ratings_bool, other_user_ratings_bool).sum()\n",
    "    jaccard_similarity_bin = int(jaccard_similarity * bin_multiplier)\n",
    "    counts_jaccard[jaccard_similarity_bin] += 1\n",
    "    if append_exact:\n",
    "        jaccard_exact.append(jaccard_similarity)\n",
    "\n",
    "    cosine_similarity = cosine(user_ratings, other_user_ratings)\n",
    "    cosine_similarity_bin = int(cosine_similarity * bin_multiplier)\n",
    "    counts_cosine[cosine_similarity_bin] += 1\n",
    "    if append_exact:\n",
    "        cosine_exact.append(cosine_similarity)\n",
    "\n",
    "    counter.update(1)\n",
    "counter.close()"
   ]
  },
  {
   "cell_type": "code",
   "execution_count": 7,
   "metadata": {},
   "outputs": [
    {
     "name": "stdout",
     "output_type": "stream",
     "text": [
      "    bin_orig   count   bin  cum_count  cum_count_norm  bin_inv\n",
      "80        -1       1 -0.01          1        0.000001     1.01\n",
      "2          0  136959  0.00     136960        0.136960     1.00\n",
      "19         1   45047  0.01     182007        0.182007     0.99\n",
      "7          2   57650  0.02     239657        0.239657     0.98\n",
      "8          3   59586  0.03     299243        0.299243     0.97\n",
      "..       ...     ...   ...        ...             ...      ...\n",
      "76        79       2  0.79     999990        0.999990     0.21\n",
      "81        80       3  0.80     999993        0.999993     0.20\n",
      "84        81       2  0.81     999995        0.999995     0.19\n",
      "82        83       1  0.83     999996        0.999996     0.17\n",
      "46        84       4  0.84    1000000        1.000000     0.16\n",
      "\n",
      "[85 rows x 6 columns]\n"
     ]
    }
   ],
   "source": [
    "\n",
    "counts_pearsons_df = pd.DataFrame.from_dict(counts_pearson, orient='index', columns=['count'])\n",
    "counts_pearsons_df.reset_index(inplace=True)\n",
    "counts_pearsons_df.rename(columns={'index': 'bin_orig'}, inplace=True)\n",
    "counts_pearsons_df['bin'] = counts_pearsons_df.bin_orig.astype(float) / 100\n",
    "counts_pearsons_df.sort_values(by='bin', inplace=True)\n",
    "# add cumulative sum of counts\n",
    "counts_pearsons_df['cum_count'] = counts_pearsons_df['count'].cumsum()\n",
    "counts_pearsons_df['cum_count_norm'] = counts_pearsons_df['cum_count'] / random_sample_size\n",
    "\n",
    "# inverse of bins\n",
    "counts_pearsons_df['bin_inv'] = 1 - counts_pearsons_df['bin']\n",
    "\n",
    "if append_exact:\n",
    "    pearson_exact_df = pd.DataFrame(pearson_exact)\n",
    "    pearson_exact_df.columns = ['similarity']\n",
    "\n",
    "print(counts_pearsons_df)"
   ]
  },
  {
   "cell_type": "code",
   "execution_count": 8,
   "metadata": {},
   "outputs": [
    {
     "name": "stdout",
     "output_type": "stream",
     "text": [
      "    bin_orig   count   bin  bin_inv  cum_count  cum_count_norm\n",
      "2          0  201081  0.00     1.00     201081        0.201081\n",
      "3          1  168322  0.01     0.99     369403        0.369403\n",
      "1          2  137010  0.02     0.98     506413        0.506413\n",
      "6          3  106429  0.03     0.97     612842        0.612842\n",
      "0          4   82656  0.04     0.96     695498        0.695498\n",
      "..       ...     ...   ...      ...        ...             ...\n",
      "68        70       3  0.70     0.30     999995        0.999995\n",
      "62        71       1  0.71     0.29     999996        0.999996\n",
      "30        75       2  0.75     0.25     999998        0.999998\n",
      "73        76       1  0.76     0.24     999999        0.999999\n",
      "71        80       1  0.80     0.20    1000000        1.000000\n",
      "\n",
      "[74 rows x 6 columns]\n"
     ]
    }
   ],
   "source": [
    "counts_jaccards_df = pd.DataFrame.from_dict(counts_jaccard, orient='index', columns=['count'])\n",
    "counts_jaccards_df.reset_index(inplace=True)\n",
    "counts_jaccards_df.rename(columns={'index': 'bin_orig'}, inplace=True)\n",
    "counts_jaccards_df['bin'] = counts_jaccards_df.bin_orig.astype(float) / 100\n",
    "counts_jaccards_df['bin_inv'] = 1 - counts_pearsons_df['bin']\n",
    "counts_jaccards_df.sort_values(by='bin', inplace=True)\n",
    "# add cumulative sum of counts\n",
    "counts_jaccards_df['cum_count'] = counts_jaccards_df['count'].cumsum()\n",
    "counts_jaccards_df['cum_count_norm'] = counts_jaccards_df['cum_count'] / random_sample_size\n",
    "# inverse of bins\n",
    "counts_jaccards_df['bin_inv'] = 1 - counts_jaccards_df['bin']\n",
    "\n",
    "if append_exact:\n",
    "    jaccard_exact_df = pd.DataFrame(jaccard_exact)\n",
    "    jaccard_exact_df.columns = ['similarity']\n",
    "\n",
    "print(counts_jaccards_df)"
   ]
  },
  {
   "cell_type": "code",
   "execution_count": 9,
   "metadata": {},
   "outputs": [
    {
     "name": "stdout",
     "output_type": "stream",
     "text": [
      "    bin_orig   count   bin  bin_inv  cum_count  cum_count_norm\n",
      "2        100  116772  1.00     0.00     116772        0.116772\n",
      "17        99   16285  0.99     0.01     133057        0.133057\n",
      "19        98   42762  0.98     0.02     175819        0.175819\n",
      "7         97   57077  0.97     0.03     232896        0.232896\n",
      "8         96   59120  0.96     0.04     292016        0.292016\n",
      "..       ...     ...   ...      ...        ...             ...\n",
      "77        20       2  0.20     0.80     999990        0.999990\n",
      "81        19       3  0.19     0.81     999993        0.999993\n",
      "84        18       2  0.18     0.82     999995        0.999995\n",
      "82        16       1  0.16     0.84     999996        0.999996\n",
      "48        15       4  0.15     0.85    1000000        1.000000\n",
      "\n",
      "[85 rows x 6 columns]\n"
     ]
    }
   ],
   "source": [
    "\n",
    "counts_cosine_df = pd.DataFrame.from_dict(counts_cosine, orient='index', columns=['count'])\n",
    "counts_cosine_df.reset_index(inplace=True)\n",
    "counts_cosine_df.rename(columns={'index': 'bin_orig'}, inplace=True)\n",
    "counts_cosine_df['bin'] = counts_cosine_df.bin_orig.astype(float) / 100\n",
    "counts_cosine_df['bin_inv'] = 1 - counts_cosine_df['bin']\n",
    "counts_cosine_df.sort_values(by='bin_inv', inplace=True)\n",
    "# add cumulative sum of counts\n",
    "counts_cosine_df['cum_count'] = counts_cosine_df['count'].cumsum()\n",
    "counts_cosine_df['cum_count_norm'] = counts_cosine_df['cum_count'] / random_sample_size\n",
    "\n",
    "if append_exact:\n",
    "    cosine_exact_df = pd.DataFrame(cosine_exact)\n",
    "    cosine_exact_df.columns = ['similarity']\n",
    "\n",
    "# inverse of bins\n",
    "print(counts_cosine_df)"
   ]
  },
  {
   "cell_type": "code",
   "execution_count": 10,
   "metadata": {},
   "outputs": [],
   "source": [
    "# create directory dfs if not exits\n",
    "if not os.path.exists('dfs'):\n",
    "    os.makedirs('dfs')\n",
    "# save the dataframes to files\n",
    "counts_pearsons_df.to_csv('dfs/counts_pearsons_df.csv', index=False)\n",
    "counts_jaccards_df.to_csv('dfs/counts_jaccards_df.csv', index=False)\n",
    "counts_cosine_df.to_csv('dfs/counts_cosine_df.csv', index=False)\n",
    "if append_exact:\n",
    "    pearson_exact_df.to_csv('dfs/pearson_exact_df.csv', index=False)\n",
    "    jaccard_exact_df.to_csv('dfs/jaccard_exact_df.csv', index=False)\n",
    "    cosine_exact_df.to_csv('dfs/cosine_exact_df.csv', index=False)\n"
   ]
  },
  {
   "cell_type": "code",
   "execution_count": 5,
   "metadata": {},
   "outputs": [],
   "source": [
    "# load dataframes if not exist\n",
    "# check if counts_pearsons_df variable exist\n",
    "counts_pearsons_df = pd.read_csv('dfs/counts_pearsons_df.csv')\n",
    "counts_jaccards_df = pd.read_csv('dfs/counts_jaccards_df.csv')\n",
    "counts_cosine_df = pd.read_csv('dfs/counts_cosine_df.csv')\n",
    "\n",
    "load_exact = True\n",
    "\n",
    "if load_exact:\n",
    "    pearson_exact_df = pd.read_csv('dfs/pearson_exact_df.csv')\n",
    "    jaccard_exact_df = pd.read_csv('dfs/jaccard_exact_df.csv')\n",
    "    cosine_exact_df = pd.read_csv('dfs/cosine_exact_df.csv')\n"
   ]
  },
  {
   "cell_type": "code",
   "execution_count": 5,
   "metadata": {},
   "outputs": [
    {
     "data": {
      "text/plain": [
       "bin_orig            int64\n",
       "count               int64\n",
       "bin               float64\n",
       "cum_count           int64\n",
       "cum_count_norm    float64\n",
       "bin_inv           float64\n",
       "dtype: object"
      ]
     },
     "execution_count": 5,
     "metadata": {},
     "output_type": "execute_result"
    }
   ],
   "source": [
    "counts_pearsons_df.dtypes"
   ]
  },
  {
   "cell_type": "code",
   "execution_count": 6,
   "metadata": {},
   "outputs": [
    {
     "data": {
      "text/html": [
       "<div>\n",
       "<style scoped>\n",
       "    .dataframe tbody tr th:only-of-type {\n",
       "        vertical-align: middle;\n",
       "    }\n",
       "\n",
       "    .dataframe tbody tr th {\n",
       "        vertical-align: top;\n",
       "    }\n",
       "\n",
       "    .dataframe thead th {\n",
       "        text-align: right;\n",
       "    }\n",
       "</style>\n",
       "<table border=\"1\" class=\"dataframe\">\n",
       "  <thead>\n",
       "    <tr style=\"text-align: right;\">\n",
       "      <th></th>\n",
       "      <th>bin_orig</th>\n",
       "      <th>count</th>\n",
       "      <th>bin</th>\n",
       "      <th>cum_count</th>\n",
       "      <th>cum_count_norm</th>\n",
       "      <th>bin_inv</th>\n",
       "    </tr>\n",
       "  </thead>\n",
       "  <tbody>\n",
       "    <tr>\n",
       "      <th>0</th>\n",
       "      <td>-1</td>\n",
       "      <td>1</td>\n",
       "      <td>-0.01</td>\n",
       "      <td>1</td>\n",
       "      <td>0.000001</td>\n",
       "      <td>1.01</td>\n",
       "    </tr>\n",
       "    <tr>\n",
       "      <th>1</th>\n",
       "      <td>0</td>\n",
       "      <td>136959</td>\n",
       "      <td>0.00</td>\n",
       "      <td>136960</td>\n",
       "      <td>0.136960</td>\n",
       "      <td>1.00</td>\n",
       "    </tr>\n",
       "    <tr>\n",
       "      <th>2</th>\n",
       "      <td>1</td>\n",
       "      <td>45047</td>\n",
       "      <td>0.01</td>\n",
       "      <td>182007</td>\n",
       "      <td>0.182007</td>\n",
       "      <td>0.99</td>\n",
       "    </tr>\n",
       "    <tr>\n",
       "      <th>3</th>\n",
       "      <td>2</td>\n",
       "      <td>57650</td>\n",
       "      <td>0.02</td>\n",
       "      <td>239657</td>\n",
       "      <td>0.239657</td>\n",
       "      <td>0.98</td>\n",
       "    </tr>\n",
       "    <tr>\n",
       "      <th>4</th>\n",
       "      <td>3</td>\n",
       "      <td>59586</td>\n",
       "      <td>0.03</td>\n",
       "      <td>299243</td>\n",
       "      <td>0.299243</td>\n",
       "      <td>0.97</td>\n",
       "    </tr>\n",
       "    <tr>\n",
       "      <th>...</th>\n",
       "      <td>...</td>\n",
       "      <td>...</td>\n",
       "      <td>...</td>\n",
       "      <td>...</td>\n",
       "      <td>...</td>\n",
       "      <td>...</td>\n",
       "    </tr>\n",
       "    <tr>\n",
       "      <th>80</th>\n",
       "      <td>79</td>\n",
       "      <td>2</td>\n",
       "      <td>0.79</td>\n",
       "      <td>999990</td>\n",
       "      <td>0.999990</td>\n",
       "      <td>0.21</td>\n",
       "    </tr>\n",
       "    <tr>\n",
       "      <th>81</th>\n",
       "      <td>80</td>\n",
       "      <td>3</td>\n",
       "      <td>0.80</td>\n",
       "      <td>999993</td>\n",
       "      <td>0.999993</td>\n",
       "      <td>0.20</td>\n",
       "    </tr>\n",
       "    <tr>\n",
       "      <th>82</th>\n",
       "      <td>81</td>\n",
       "      <td>2</td>\n",
       "      <td>0.81</td>\n",
       "      <td>999995</td>\n",
       "      <td>0.999995</td>\n",
       "      <td>0.19</td>\n",
       "    </tr>\n",
       "    <tr>\n",
       "      <th>83</th>\n",
       "      <td>83</td>\n",
       "      <td>1</td>\n",
       "      <td>0.83</td>\n",
       "      <td>999996</td>\n",
       "      <td>0.999996</td>\n",
       "      <td>0.17</td>\n",
       "    </tr>\n",
       "    <tr>\n",
       "      <th>84</th>\n",
       "      <td>84</td>\n",
       "      <td>4</td>\n",
       "      <td>0.84</td>\n",
       "      <td>1000000</td>\n",
       "      <td>1.000000</td>\n",
       "      <td>0.16</td>\n",
       "    </tr>\n",
       "  </tbody>\n",
       "</table>\n",
       "<p>85 rows × 6 columns</p>\n",
       "</div>"
      ],
      "text/plain": [
       "    bin_orig   count   bin  cum_count  cum_count_norm  bin_inv\n",
       "0         -1       1 -0.01          1        0.000001     1.01\n",
       "1          0  136959  0.00     136960        0.136960     1.00\n",
       "2          1   45047  0.01     182007        0.182007     0.99\n",
       "3          2   57650  0.02     239657        0.239657     0.98\n",
       "4          3   59586  0.03     299243        0.299243     0.97\n",
       "..       ...     ...   ...        ...             ...      ...\n",
       "80        79       2  0.79     999990        0.999990     0.21\n",
       "81        80       3  0.80     999993        0.999993     0.20\n",
       "82        81       2  0.81     999995        0.999995     0.19\n",
       "83        83       1  0.83     999996        0.999996     0.17\n",
       "84        84       4  0.84    1000000        1.000000     0.16\n",
       "\n",
       "[85 rows x 6 columns]"
      ]
     },
     "execution_count": 6,
     "metadata": {},
     "output_type": "execute_result"
    }
   ],
   "source": [
    "counts_pearsons_df"
   ]
  },
  {
   "cell_type": "code",
   "execution_count": 9,
   "metadata": {},
   "outputs": [
    {
     "data": {
      "image/png": "[encoded data removed]",
      "text/plain": [
       "<Figure size 400x500 with 2 Axes>"
      ]
     },
     "metadata": {
      "needs_background": "light"
     },
     "output_type": "display_data"
    }
   ],
   "source": [
    "# plot graph and cumulative sum of counts\n",
    "fig, axs = plt.subplots(2, 1, figsize=(4, 5), dpi=100)\n",
    "# set contrasting colors for the two plots\n",
    "\n",
    "colors = ['#1f77b4', '#ff7f0e', '#2ca02c']\n",
    "\n",
    "sns.lineplot(x='bin', y='count', ax=axs[0], data=counts_pearsons_df, label='Pearson C. Coefficient', color=colors[0])\n",
    "sns.lineplot(x='bin', y='count', ax=axs[0], data=counts_jaccards_df, label='Jaccard Similarity', color=colors[1])\n",
    "sns.lineplot(x='bin_inv', y='count', ax=axs[0], data=counts_cosine_df, label='Cosine Similarity', color=colors[2])\n",
    "\n",
    "# set y-axis to log scale\n",
    "axs[0].set_yscale('log')\n",
    "axs[0].legend()\n",
    "axs[0].set_xlabel('Similarity')\n",
    "axs[0].set_ylabel('User pairs count')\n",
    "# axs[0].set_title(f\"Comparison of metrics on Movie Lens dataset\")\n",
    "\n",
    "sns.lineplot(x='bin', y='cum_count_norm', ax=axs[1], data=counts_pearsons_df, label='Pearson C. Coefficient', color=colors[0])\n",
    "sns.lineplot(x='bin', y='cum_count_norm', ax=axs[1], data=counts_jaccards_df, label='Jaccard Similarity', color=colors[1])\n",
    "sns.lineplot(x='bin_inv', y='cum_count_norm', ax=axs[1], data=counts_cosine_df, label='Cosine Similarity', color=colors[2])\n",
    "\n",
    "# axs[1].set_yscale('log')\n",
    "axs[1].legend()\n",
    "axs[1].set_xlabel('Similarity')\n",
    "axs[1].set_ylabel('Total cumulative user pairs count')\n",
    "# axs[1].set_title(f\"Comparison of metrics on Movie Lens dataset\")\n",
    "\n",
    "\n",
    "# tight\n",
    "plt.suptitle(f\"Comparison of metrics on Movie Lens dataset\")\n",
    "plt.tight_layout()\n",
    "plt.savefig('../figures/similarity_metrics.pdf', bbox_inches = 'tight', pad_inches=0.02)\n",
    "plt.show()"
   ]
  },
  {
   "cell_type": "code",
   "execution_count": 15,
   "metadata": {},
   "outputs": [
    {
     "name": "stdout",
     "output_type": "stream",
     "text": [
      "    count  bin  cumulative_count  cumulative_count_norm\n",
      "0  600695  0.0            600695               0.600695\n",
      "1  275598  0.1            876293               0.876293\n",
      "2   85266  0.2            961559               0.961559\n",
      "3   27502  0.3            989061               0.989061\n",
      "4    7721  0.4            996782               0.996782\n",
      "5    2407  0.5            999189               0.999189\n",
      "6     677  0.6            999866               0.999866\n",
      "7     122  0.7            999988               0.999988\n",
      "8      12  0.8           1000000               1.000000\n"
     ]
    }
   ],
   "source": [
    "# histogram for counts for 10 bins of 0.1 size\n",
    "# group by bin and count\n",
    "counts_cosine_df['bin_group'] = counts_cosine_df['bin_inv'].apply(lambda x: int(x * 10))\n",
    "counts_cosine_df_grouped = counts_cosine_df.groupby('bin_group')['count'].sum().reset_index()\n",
    "counts_cosine_df_grouped['bin'] = counts_cosine_df_grouped['bin_group'] / 10\n",
    "counts_cosine_df_grouped.sort_values(by='bin', inplace=True)\n",
    "counts_cosine_df_grouped.drop(columns=['bin_group'], inplace=True)\n",
    "counts_cosine_df_grouped['cumulative_count'] = counts_cosine_df_grouped['count'].cumsum()\n",
    "counts_cosine_df_grouped['cumulative_count_norm'] = counts_cosine_df_grouped['cumulative_count'] / random_sample_size\n",
    "print(counts_cosine_df_grouped)\n"
   ]
  },
  {
   "cell_type": "code",
   "execution_count": 16,
   "metadata": {},
   "outputs": [],
   "source": [
    "# # fit exponential function to the sampled data\n",
    "\n",
    "# from scipy.optimize import curve_fit\n",
    "\n",
    "\n",
    "# def exp_func(x, a, b, c):\n",
    "#     return a * np.exp(-b * x) + c\n",
    "\n",
    "# popt, pcov = curve_fit(exp_func, counts_cosine_df_grouped['bin'], counts_cosine_df_grouped['cumulative_count_norm'])\n",
    "\n",
    "\n",
    "# # exp_params = ss.expon.fit(1-cosine_exact_df['similarity'])\n",
    "# # (e1, e2) = exp_params\n",
    "\n",
    "# # print(*exp_params)\n",
    "\n",
    "# # exp_x = np.linspace(0, 1, 1000)\n",
    "# # exp_pdf_y = ss.expon.pdf(exp_x, *exp_params)\n",
    "\n",
    "\n",
    "# # exp_cdf_y = ss.expon.cdf(exp_x, *exp_params)\n",
    "# # # plt.plot(exp_x, exp_cdf_y)\n",
    "# # plt.plot(exp_x, exp_pdf_y)\n",
    "\n",
    "# # check_sum = 0\n",
    "\n",
    "# # num_intervals = 10\n",
    "# # for i in range(num_intervals):\n",
    "# #     start = (1/num_intervals) * i\n",
    "# #     end = (1/num_intervals * (i+1))\n",
    "# #     prob_on_interval = ss.expon.cdf(end, *exp_params) - ss.expon.cdf(start, *exp_params)\n",
    "# #     check_sum += prob_on_interval\n",
    "# #     print(f'[{round(start,2)},{round(end,2)}] => {prob_on_interval}, samples: {prob_on_interval * random_sample_size}')\n",
    "\n",
    "# # print(check_sum)"
   ]
  },
  {
   "cell_type": "code",
   "execution_count": 17,
   "metadata": {},
   "outputs": [
    {
     "name": "stdout",
     "output_type": "stream",
     "text": [
      "0 0.08913845631868864\n",
      "[0.0,0.1] => 0.6743233482198916, samples: 674323\n",
      "[0.1,0.2] => 0.21961137026540645, samples: 219611\n",
      "[0.2,0.3] => 0.0715222957608792, samples: 71522\n",
      "[0.3,0.4] => 0.023293141811029816, samples: 23293\n",
      "[0.4,0.5] => 0.007586032434455436, samples: 7586\n",
      "[0.5,0.6] => 0.0024705936435487352, samples: 2470\n",
      "[0.6,0.7] => 0.000804614665740111, samples: 804\n",
      "[0.7,0.8] => 0.00026204421031150726, samples: 262\n",
      "[0.8,0.9] => 8.534168103258022e-05, samples: 85\n",
      "[0.9,1.0] => 2.779379293593731e-05, samples: 27\n",
      "0.9999865764852314\n"
     ]
    },
    {
     "data": {
      "image/png": "[encoded data removed]",
      "text/plain": [
       "<Figure size 432x288 with 1 Axes>"
      ]
     },
     "metadata": {
      "needs_background": "light"
     },
     "output_type": "display_data"
    }
   ],
   "source": [
    "# fit exponential function to the sampled data\n",
    "\n",
    "import scipy.stats as ss\n",
    "\n",
    "\n",
    "\n",
    "exp_params = ss.expon.fit(1-cosine_exact_df['similarity'], method='MM')\n",
    "(e1, e2) = exp_params\n",
    "exp_params = (0, e2)\n",
    "\n",
    "print(*exp_params)\n",
    "\n",
    "exp_x = np.linspace(0, 1, 1000)\n",
    "exp_pdf_y = ss.expon.pdf(exp_x, *exp_params)\n",
    "\n",
    "\n",
    "exp_cdf_y = ss.expon.cdf(exp_x, *exp_params)\n",
    "# plt.plot(exp_x, exp_cdf_y)\n",
    "plt.plot(exp_x, exp_pdf_y)\n",
    "\n",
    "check_sum = 0\n",
    "\n",
    "num_intervals = 10\n",
    "for i in range(num_intervals):\n",
    "    start = (1/num_intervals) * i\n",
    "    end = (1/num_intervals * (i+1))\n",
    "    prob_on_interval = ss.expon.cdf(end, *exp_params) - ss.expon.cdf(start, *exp_params)\n",
    "    check_sum += prob_on_interval\n",
    "    print(f'[{round(start,2)},{round(end,2)}] => {prob_on_interval}, samples: {int(prob_on_interval * random_sample_size)}')\n",
    "\n",
    "print(check_sum)"
   ]
  },
  {
   "cell_type": "code",
   "execution_count": 18,
   "metadata": {},
   "outputs": [
    {
     "data": {
      "text/plain": [
       "count    1000000.000000\n",
       "mean           0.098867\n",
       "std            0.089119\n",
       "min            0.000000\n",
       "25%            0.032894\n",
       "50%            0.078073\n",
       "75%            0.142293\n",
       "max            0.848713\n",
       "Name: similarity, dtype: float64"
      ]
     },
     "execution_count": 18,
     "metadata": {},
     "output_type": "execute_result"
    }
   ],
   "source": [
    "(1-cosine_exact_df['similarity']).describe()"
   ]
  },
  {
   "cell_type": "code",
   "execution_count": 19,
   "metadata": {},
   "outputs": [
    {
     "data": {
      "image/png": "[encoded data removed]",
      "text/plain": [
       "<Figure size 550x300 with 1 Axes>"
      ]
     },
     "metadata": {
      "needs_background": "light"
     },
     "output_type": "display_data"
    }
   ],
   "source": [
    "fig, axs = plt.subplots(1, 1, figsize=(5.5, 3), dpi=100)\n",
    "\n",
    "# data are already grouped by bin, so we can use the same bins\n",
    "sns.histplot(x=1-cosine_exact_df['similarity'], ax=axs, label='Cosine similarity', bins=10, binwidth=0.1, binrange=(0, 1), color=colors[0])\n",
    "# ax.bar_label(ax.containers[0])\n",
    "\n",
    "highest_bar = 0\n",
    "for i, bar in enumerate(axs.patches):\n",
    "    bar_height = bar.get_height()\n",
    "    if bar_height > highest_bar:\n",
    "        highest_bar = bar_height\n",
    "    percentage = bar_height / random_sample_size * 100\n",
    "    format_string = \"{0:.1f}\"\n",
    "    if percentage < 1:\n",
    "        format_string = \"{0:.2f}\"\n",
    "    if percentage < 0.1:\n",
    "        format_string = \"{0:.3f}\"\n",
    "    text = format_string.format(bar_height / random_sample_size * 100).lstrip('0')\n",
    "    text2 = \"{:,}\".format(int(bar_height))\n",
    "    # text = str(round(counts_cosine_df_grouped.iloc[i]['count'] / random_sample_size * 100, decimals)) + '%'\n",
    "    axs.text(bar.get_x() + bar.get_width() / 2 + 0.007, bar.get_height(), text2 + '\\n' + text + '\\%' , ha='center', va='bottom', rotation=0)\n",
    "# remove lines around the bars\n",
    "\n",
    "# sns.lineplot(x=exp_x, y=exp_pdf_y*random_sample_size/10, ax=axs, label='Exponential', color=colors[1])\n",
    "\n",
    "axs.set_xticks(np.arange(0, 1.1, 0.1))\n",
    "axs.set_xlabel('Cosine similarity')\n",
    "axs.set_ylabel('User pairs count')\n",
    "axs.set_title(f\"Histogram of 1 million of random user pairs from Movie Lens\")\n",
    "axs.set_ylim(0, highest_bar * 1.18)\n",
    "plt.tight_layout()\n",
    "plt.savefig('../figures/histogram_cosine.pdf')\n",
    "plt.show()"
   ]
  },
  {
   "cell_type": "code",
   "execution_count": 20,
   "metadata": {},
   "outputs": [],
   "source": [
    "# # plot histogram\n",
    "# fig, axs = plt.subplots(1, 1, figsize=(5.5, 3), dpi=100)\n",
    "# # sns bar plot with wider bins\n",
    "# # plt.bar(counts_cosine_df_grouped['bin'], counts_cosine_df_grouped['count'], width=0.1, color='#1f77b4')\n",
    "# # sns.barplot(x='bin', y='count', ax=axs, data=counts_cosine_df_grouped, label='Cosine similarity', color=colors[0])\n",
    "# # plot histogram from already grouped data\n",
    "# sns.barplot(x='bin', y='count', ax=axs, data=counts_cosine_df_grouped, label='Cosine similarity', color=colors[0])\n",
    "# # make bars thinner\n",
    "# # add text percentage to the bars\n",
    "# for i, bar in enumerate(axs.patches):\n",
    "#     bar_height = bar.get_height()\n",
    "#     percentage = bar_height / random_sample_size * 100\n",
    "#     format_string = \"{0:.1f}\"\n",
    "#     if percentage < 1:\n",
    "#         format_string = \"{0:.2f}\"\n",
    "#     if percentage < 0.1:\n",
    "#         format_string = \"{0:.3f}\"\n",
    "#     text = format_string.format(bar_height / random_sample_size * 100).lstrip('0')\n",
    "#     text2 = \"{:,}\".format(int(bar_height))\n",
    "#     # text = str(round(counts_cosine_df_grouped.iloc[i]['count'] / random_sample_size * 100, decimals)) + '%'\n",
    "#     axs.text(bar.get_x() + bar.get_width()/2, bar.get_height(), text2 + '\\n' + text + '\\%' , ha='center', va='bottom', rotation=0)\n",
    "# # axs.bar_label(axs.containers[0] , padding=2, labels=[\"{:.0}\".format(n/random_sample_size) + '%' for n in counts_cosine_df_grouped['count']])\n",
    "# axs.set_xlabel('Cosine similarity')\n",
    "# axs.set_ylabel('User pairs count')\n",
    "# axs.set_title(f\"Histogram of 1 million of random user pairs from Movie Lens\")\n",
    "# highest_bar = counts_cosine_df_grouped.iloc[0]['count']\n",
    "# axs.set_ylim(0, highest_bar * 1.18)\n",
    "# plt.tight_layout()\n",
    "# plt.savefig('../figures/histogram_cosine.pdf')\n",
    "# plt.show()\n"
   ]
  },
  {
   "cell_type": "code",
   "execution_count": 21,
   "metadata": {},
   "outputs": [
    {
     "name": "stdout",
     "output_type": "stream",
     "text": [
      "996    0.720359\n",
      "374    0.519331\n",
      "537    0.498561\n",
      "36     0.492020\n",
      "259    0.472358\n",
      "         ...   \n",
      "924    0.000000\n",
      "488    0.000000\n",
      "489    0.000000\n",
      "187    0.000000\n",
      "523    0.000000\n",
      "Name: similarity, Length: 1000, dtype: float64\n"
     ]
    },
    {
     "name": "stderr",
     "output_type": "stream",
     "text": [
      "100%|██████████| 1000/1000 [00:00<00:00, 13343.46it/s]"
     ]
    },
    {
     "name": "stdout",
     "output_type": "stream",
     "text": [
      "    similarity     ratio  modeled_prob      chance\n",
      "0     0.720359  4.473339     32.950775  147.399994\n",
      "1     0.519331  0.117774    310.665043   36.588313\n",
      "2     0.498561  0.081486    388.807884   31.682497\n",
      "3     0.492020  0.069610    434.967091   30.278057\n",
      "4     0.472358  0.048533    544.376132   26.420478\n",
      "5     0.455942  0.038717    609.004376   23.578817\n",
      "6     0.425874  0.022450    852.676759   19.142936\n",
      "7     0.409466  0.016010   1067.154010   17.084991\n",
      "8     0.409213  0.015982   1067.154010   17.055082\n",
      "9     0.405845  0.015613   1067.154010   16.661502\n",
      "10    0.404896  0.013865   1193.846357   16.552281\n",
      "11    0.392998  0.011412   1335.579597   15.242004\n",
      "12    0.390917  0.011249   1335.579597   15.023712\n",
      "13    0.387294  0.010970   1335.579597   14.651150\n",
      "14    0.385678  0.010848   1335.579597   14.487972\n",
      "15    0.373253  0.007952   1671.523363   13.292391\n",
      "16    0.358390  0.006413   1869.966338   11.991193\n",
      "17    0.357613  0.006378   1869.966338   11.926765\n",
      "18    0.351077  0.005449   2091.968429   11.398495\n",
      "19    0.349556  0.005392   2091.968429   11.278959\n",
      "20    0.344459  0.004652   2340.326572   10.887434\n",
      "21    0.341844  0.004569   2340.326572   10.691872\n",
      "22    0.341685  0.004563   2340.326572   10.680058\n",
      "23    0.340774  0.004535   2340.326572   10.612818\n",
      "24    0.335333  0.004367   2340.326572   10.220053\n",
      "25    0.332816  0.003836   2618.169753   10.043280\n",
      "26    0.329405  0.003746   2618.169753    9.808646\n",
      "27    0.328853  0.003732   2618.169753    9.771148\n",
      "28    0.324167  0.003229   2928.998429    9.458881\n",
      "29    0.323542  0.003215   2928.998429    9.417985\n",
      "30    0.323105  0.003206   2928.998429    9.389509\n",
      "31    0.312441  0.002661   3276.728634    8.720465\n",
      "32    0.311870  0.002651   3276.728634    8.686020\n",
      "33    0.311280  0.002640   3276.728634    8.650625\n",
      "34    0.308175  0.002584   3276.728634    8.466390\n",
      "35    0.305339  0.002533   3276.728634    8.301576\n",
      "36    0.303687  0.002239   3665.741312    8.207081\n",
      "37    0.303577  0.002237   3665.741312    8.200805\n",
      "38    0.303002  0.002228   3665.741312    8.168210\n",
      "39    0.299776  0.002179   3665.741312    7.987565\n"
     ]
    },
    {
     "name": "stderr",
     "output_type": "stream",
     "text": [
      "\n"
     ]
    }
   ],
   "source": [
    "# we want to each 0.1 step have 2 times the probability of occurance\n",
    "def get_assigned_chance(x):\n",
    "    return 2 ** (x * 10)\n",
    "\n",
    "# get for each sample the expected probability of occurance from the modeled distribution\n",
    "def get_modeled_exp_cdf(x, exp_params, number_of_modeled_samples):\n",
    "    rounded = round(x, 2)\n",
    "    start = rounded\n",
    "    end = rounded + 0.01\n",
    "    prob_on_interval = ss.expon.cdf(end, *exp_params) - ss.expon.cdf(start, *exp_params)\n",
    "    return prob_on_interval * number_of_modeled_samples\n",
    "\n",
    "\n",
    "\n",
    "test_df = 1 - cosine_exact_df['similarity'][0:1000]\n",
    "test_df.sort_values(inplace=True, ascending=False)\n",
    "\n",
    "print(test_df)\n",
    "\n",
    "calculated_chance = []\n",
    "calculated_modeled_prob = []\n",
    "calculated_ratios = []\n",
    "similarities = []\n",
    "\n",
    "progress = tqdm(total=len(test_df))\n",
    "for similarity in test_df:\n",
    "    chance = get_assigned_chance(similarity)\n",
    "    modeled_prob = get_modeled_exp_cdf(similarity, exp_params, random_sample_size)\n",
    "    ratio = chance / modeled_prob\n",
    "    calculated_ratios.append(ratio)\n",
    "    similarities.append(similarity)\n",
    "    calculated_chance.append(chance)\n",
    "    calculated_modeled_prob.append(modeled_prob)\n",
    "    progress.update(1)\n",
    "progress.close()\n",
    "\n",
    "# create new dataframe with the calculated ratios and similarity\n",
    "# test_df['ratio'] = pd.Series(calculated_ratios)\n",
    "test_df = pd.DataFrame([similarities, calculated_ratios, calculated_modeled_prob, calculated_chance], index=['similarity', 'ratio', 'modeled_prob', 'chance']).T\n",
    "print(test_df[0:40])\n"
   ]
  },
  {
   "cell_type": "code",
   "execution_count": 22,
   "metadata": {},
   "outputs": [
    {
     "data": {
      "text/html": [
       "<div>\n",
       "<style scoped>\n",
       "    .dataframe tbody tr th:only-of-type {\n",
       "        vertical-align: middle;\n",
       "    }\n",
       "\n",
       "    .dataframe tbody tr th {\n",
       "        vertical-align: top;\n",
       "    }\n",
       "\n",
       "    .dataframe thead th {\n",
       "        text-align: right;\n",
       "    }\n",
       "</style>\n",
       "<table border=\"1\" class=\"dataframe\">\n",
       "  <thead>\n",
       "    <tr style=\"text-align: right;\">\n",
       "      <th></th>\n",
       "      <th>total_bin_weight</th>\n",
       "      <th>sample_count</th>\n",
       "    </tr>\n",
       "    <tr>\n",
       "      <th>bin</th>\n",
       "      <th></th>\n",
       "      <th></th>\n",
       "    </tr>\n",
       "  </thead>\n",
       "  <tbody>\n",
       "    <tr>\n",
       "      <th>0.0</th>\n",
       "      <td>0.004960</td>\n",
       "      <td>344</td>\n",
       "    </tr>\n",
       "    <tr>\n",
       "      <th>0.1</th>\n",
       "      <td>0.023521</td>\n",
       "      <td>410</td>\n",
       "    </tr>\n",
       "    <tr>\n",
       "      <th>0.2</th>\n",
       "      <td>0.058528</td>\n",
       "      <td>173</td>\n",
       "    </tr>\n",
       "    <tr>\n",
       "      <th>0.3</th>\n",
       "      <td>0.115944</td>\n",
       "      <td>54</td>\n",
       "    </tr>\n",
       "    <tr>\n",
       "      <th>0.4</th>\n",
       "      <td>0.154590</td>\n",
       "      <td>13</td>\n",
       "    </tr>\n",
       "    <tr>\n",
       "      <th>0.5</th>\n",
       "      <td>0.356121</td>\n",
       "      <td>5</td>\n",
       "    </tr>\n",
       "    <tr>\n",
       "      <th>0.7</th>\n",
       "      <td>4.473339</td>\n",
       "      <td>1</td>\n",
       "    </tr>\n",
       "  </tbody>\n",
       "</table>\n",
       "</div>"
      ],
      "text/plain": [
       "     total_bin_weight  sample_count\n",
       "bin                                \n",
       "0.0          0.004960           344\n",
       "0.1          0.023521           410\n",
       "0.2          0.058528           173\n",
       "0.3          0.115944            54\n",
       "0.4          0.154590            13\n",
       "0.5          0.356121             5\n",
       "0.7          4.473339             1"
      ]
     },
     "execution_count": 22,
     "metadata": {},
     "output_type": "execute_result"
    }
   ],
   "source": [
    "# bin the test_df based on similarity and sum the ratio column\n",
    "test_df_grouped = test_df.groupby(round(test_df['similarity'], 1)).agg({'ratio': 'sum', 'similarity': 'count'})\n",
    "# rename\n",
    "test_df_grouped.rename(columns={'ratio': 'total_bin_weight', 'similarity': 'sample_count'}, inplace=True)\n",
    "# rename index\n",
    "test_df_grouped.index.names = ['bin']\n",
    "test_df_grouped"
   ]
  },
  {
   "cell_type": "code",
   "execution_count": null,
   "metadata": {},
   "outputs": [],
   "source": []
  }
 ],
 "metadata": {
  "kernelspec": {
   "display_name": "Python 3.10.4 ('.venv': poetry)",
   "language": "python",
   "name": "python3"
  },
  "language_info": {
   "codemirror_mode": {
    "name": "ipython",
    "version": 3
   },
   "file_extension": ".py",
   "mimetype": "text/x-python",
   "name": "python",
   "nbconvert_exporter": "python",
   "pygments_lexer": "ipython3",
   "version": "3.9.13"
  },
  "orig_nbformat": 4,
  "vscode": {
   "interpreter": {
    "hash": "72e4c8b5f0869b81e3c54c1a9c17a5176fed7dccc000e70ae85e6cab596ae0d3"
   }
  }
 },
 "nbformat": 4,
 "nbformat_minor": 2
}
