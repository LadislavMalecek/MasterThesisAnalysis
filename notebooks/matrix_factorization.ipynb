{
 "cells": [
  {
   "cell_type": "markdown",
   "metadata": {},
   "source": [
    "## Alternating Least Squares (ALS)"
   ]
  },
  {
   "cell_type": "code",
   "execution_count": 1,
   "metadata": {},
   "outputs": [],
   "source": [
    "'''\n",
    "Implements Alternating Least Squares (ALS) to create a recommender system for a subset of the Netflix dataset.\n",
    "'''\n",
    "import matplotlib.pyplot as plt\n",
    "import numpy as np\n",
    "import argparse\n",
    "from scipy.sparse import csc_array, csr_array, csc_matrix, csr_matrix\n",
    "import pandas as pd\n",
    "from tqdm import tqdm\n",
    "from sklearn.model_selection import train_test_split\n",
    "import ray\n",
    "from random import shuffle\n",
    "\n",
    "\n",
    "from more_itertools import chunked"
   ]
  },
  {
   "cell_type": "code",
   "execution_count": 2,
   "metadata": {},
   "outputs": [
    {
     "data": {
      "text/plain": [
       "RayContext(dashboard_url='', python_version='3.9.13', ray_version='1.13.0', ray_commit='e4ce38d001dbbe09cd21c497fedd03d692b2be3e', address_info={'node_ip_address': '127.0.0.1', 'raylet_ip_address': '127.0.0.1', 'redis_address': None, 'object_store_address': '/tmp/ray/session_2022-11-22_18-09-11_255231_75517/sockets/plasma_store', 'raylet_socket_name': '/tmp/ray/session_2022-11-22_18-09-11_255231_75517/sockets/raylet', 'webui_url': '', 'session_dir': '/tmp/ray/session_2022-11-22_18-09-11_255231_75517', 'metrics_export_port': 64954, 'gcs_address': '127.0.0.1:64705', 'address': '127.0.0.1:64705', 'node_id': '908e3374a29dda286c76b462efe73f65ee58d056bbef1d67665b448b'})"
      ]
     },
     "execution_count": 2,
     "metadata": {},
     "output_type": "execute_result"
    }
   ],
   "source": [
    "ray_cores = 8\n",
    "ray.init(num_cpus=ray_cores, ignore_reinit_error=True)"
   ]
  },
  {
   "cell_type": "code",
   "execution_count": 3,
   "metadata": {},
   "outputs": [
    {
     "name": "stdout",
     "output_type": "stream",
     "text": [
      "   user_id  item_id\n",
      "0        0        0\n",
      "1        0        1\n",
      "2        0        2\n",
      "3        0        3\n",
      "4        0        4\n"
     ]
    }
   ],
   "source": [
    "# file, out_dir, n_features = '../datasets/netflix/ratings.csv.gz', '../datasets/netflix/mf/', 300\n",
    "# file, out_dir, n_features = '../datasets/movie_lens/ratings.csv.gz', '../datasets/movie_lens/mf/', 200\n",
    "file, out_dir, n_features = '../datasets/kgrec/music_ratings.csv.gz', '../datasets/kgrec/mf/', 50\n",
    "# file, out_dir, n_features = '../datasets/spotify/ratings.csv.gz', '../datasets/spotify/mf/', 300\n",
    "original_data = pd.read_csv(file)\n",
    "\n",
    "print(original_data.head())\n",
    "# chceck ids\n",
    "assert original_data['user_id'].nunique() == original_data['user_id'].max() + 1\n",
    "assert original_data['item_id'].nunique() == original_data['item_id'].max() + 1"
   ]
  },
  {
   "cell_type": "code",
   "execution_count": 4,
   "metadata": {},
   "outputs": [],
   "source": [
    "# keep only users with at least n ratings\n",
    "n = 10\n",
    "num_ratings = original_data.groupby('user_id').size()\n",
    "index_size_ok = num_ratings[num_ratings >= n].index\n",
    "index_size_low = num_ratings[num_ratings < n].index\n",
    "original_data_ok = original_data[original_data['user_id'].isin(index_size_ok)]\n",
    "original_data_low = original_data[original_data['user_id'].isin(index_size_low)]"
   ]
  },
  {
   "cell_type": "code",
   "execution_count": 5,
   "metadata": {},
   "outputs": [
    {
     "name": "stdout",
     "output_type": "stream",
     "text": [
      "(5199, 8640)\n",
      "(5199, 8640)\n",
      "(8640, 5199)\n"
     ]
    }
   ],
   "source": [
    "def load_and_process_df(file):\n",
    "    '''\n",
    "    Loads a dataframe from a file and returns a sparse matricies.\n",
    "    '''\n",
    "    # df = pd.read_csv(file)\n",
    "    df = original_data_ok.copy()\n",
    "    df_low = original_data_low.copy()\n",
    "\n",
    "    if 'user_id' not in df.columns or 'item_id' not in df.columns:\n",
    "        raise Exception('Dataframe does not have user_id and item_id columns')\n",
    "    if not 'rating' in df.columns:\n",
    "        df['rating'] = 1\n",
    "        df_low['rating'] = 1\n",
    "    \n",
    "    df = df[['user_id', 'item_id', 'rating']]\n",
    "    df_low = df_low[['user_id', 'item_id', 'rating']]\n",
    "\n",
    "\n",
    "    # split to training and testing data 80:20 for each user\n",
    "    training, testing = train_test_split(df, test_size=0.2, stratify=df['user_id'])\n",
    "    # training = pd.concat([training, df_low])\n",
    "\n",
    "    num_of_users = df['user_id'].max() + 1\n",
    "    num_of_items = df['item_id'].max() + 1\n",
    "\n",
    "    training_data_csc = csc_matrix((training['rating'], (training['user_id'], training['item_id'])), shape=(num_of_users, num_of_items))\n",
    "    training_data_t_csc = csc_matrix((training['rating'], (training['item_id'], training['user_id'])), shape=(num_of_items, num_of_users))\n",
    "    testing_data_csc = csc_matrix((testing['rating'], (testing['user_id'], testing['item_id'])), shape=(num_of_users, num_of_items))\n",
    "    \n",
    "    # check if the last value is only in training data xor testing data\n",
    "    # print(training_data)\n",
    "    uid = int(df.iloc[-1]['user_id'])\n",
    "    iid = int(df.iloc[-1]['item_id'])\n",
    "    rating = df.iloc[-1].rating\n",
    "    in_train = training_data_csc[uid, iid] == rating\n",
    "    in_test = testing_data_csc[df.iloc[-1]['user_id'], df.iloc[-1]['item_id']] == df.iloc[-1].rating\n",
    "    assert (in_train and not in_test) or (not in_train and in_test), 'Dataframe is not split correctly'\n",
    "    \n",
    "    return training_data_csc, training_data_t_csc, testing_data_csc\n",
    "\n",
    "\n",
    "training_data_csc, training_data_t_csc, testing_data_csc = load_and_process_df('../datasets/netflix/ratings.csv.gz')\n",
    "# training_data_t = training_data.T\n",
    "# testing_data_t = testing_data.T\n",
    "\n",
    "print(training_data_csc.shape)\n",
    "print(testing_data_csc.shape)\n",
    "print(training_data_t_csc.shape)\n",
    "# print(testing_data_t.shape)"
   ]
  },
  {
   "cell_type": "code",
   "execution_count": 15,
   "metadata": {},
   "outputs": [
    {
     "name": "stdout",
     "output_type": "stream",
     "text": [
      "Training error: 7.50069199075247\n",
      "Testing error: 3.7357203869788167\n",
      "Step #0\n",
      "Fitting M\n"
     ]
    },
    {
     "name": "stderr",
     "output_type": "stream",
     "text": [
      "100%|██████████| 8640/8640 [04:46<00:00, 30.15it/s]  \n"
     ]
    },
    {
     "name": "stdout",
     "output_type": "stream",
     "text": [
      "Fitting U\n"
     ]
    },
    {
     "name": "stderr",
     "output_type": "stream",
     "text": [
      "100%|██████████| 5199/5199 [00:06<00:00, 785.84it/s]\n"
     ]
    },
    {
     "name": "stdout",
     "output_type": "stream",
     "text": [
      "Training error: 0.3435115494132952\n",
      "Testing error: 0.17150727282279143\n",
      "Delta: 11799.00665902562\n",
      "Step #1\n",
      "Fitting M\n"
     ]
    },
    {
     "name": "stderr",
     "output_type": "stream",
     "text": [
      "100%|██████████| 8640/8640 [00:08<00:00, 1019.41it/s]\n"
     ]
    },
    {
     "name": "stdout",
     "output_type": "stream",
     "text": [
      "Fitting U\n"
     ]
    },
    {
     "name": "stderr",
     "output_type": "stream",
     "text": [
      "100%|██████████| 5199/5199 [00:04<00:00, 1078.99it/s]\n"
     ]
    },
    {
     "name": "stdout",
     "output_type": "stream",
     "text": [
      "Training error: 0.14351140139584168\n",
      "Testing error: 0.07169537059799458\n",
      "Delta: 0.8254619481138723\n",
      "Step #2\n",
      "Fitting M\n"
     ]
    },
    {
     "name": "stderr",
     "output_type": "stream",
     "text": [
      "100%|██████████| 8640/8640 [00:08<00:00, 982.26it/s] \n"
     ]
    },
    {
     "name": "stdout",
     "output_type": "stream",
     "text": [
      "Fitting U\n"
     ]
    },
    {
     "name": "stderr",
     "output_type": "stream",
     "text": [
      "100%|██████████| 5199/5199 [00:06<00:00, 862.62it/s]\n"
     ]
    },
    {
     "name": "stdout",
     "output_type": "stream",
     "text": [
      "Training error: 0.10051874774730954\n",
      "Testing error: 0.05024060594543619\n",
      "Delta: 0.5094070210217511\n",
      "Step #3\n",
      "Fitting M\n"
     ]
    },
    {
     "name": "stderr",
     "output_type": "stream",
     "text": [
      "100%|██████████| 8640/8640 [00:09<00:00, 946.36it/s] \n"
     ]
    },
    {
     "name": "stdout",
     "output_type": "stream",
     "text": [
      "Fitting U\n"
     ]
    },
    {
     "name": "stderr",
     "output_type": "stream",
     "text": [
      "100%|██████████| 5199/5199 [00:05<00:00, 1038.46it/s]\n"
     ]
    },
    {
     "name": "stdout",
     "output_type": "stream",
     "text": [
      "Training error: 0.07993803413405222\n",
      "Testing error: 0.040008966543976156\n",
      "Delta: 0.36756952584179775\n",
      "Step #4\n",
      "Fitting M\n"
     ]
    },
    {
     "name": "stderr",
     "output_type": "stream",
     "text": [
      "100%|██████████| 8640/8640 [00:09<00:00, 891.98it/s] \n"
     ]
    },
    {
     "name": "stdout",
     "output_type": "stream",
     "text": [
      "Fitting U\n"
     ]
    },
    {
     "name": "stderr",
     "output_type": "stream",
     "text": [
      "100%|██████████| 5199/5199 [00:04<00:00, 1078.19it/s]"
     ]
    },
    {
     "name": "stdout",
     "output_type": "stream",
     "text": [
      "Training error: 0.0687660300353542\n",
      "Testing error: 0.03448003841206977\n",
      "Delta: 0.2599842245518299\n"
     ]
    },
    {
     "name": "stderr",
     "output_type": "stream",
     "text": [
      "\n"
     ]
    }
   ],
   "source": [
    "# @ray.remote\n",
    "def process_single_index_ray(j, l2_lambda, data_ray, fixed_matrix_ray):\n",
    "    nonzeros = data_ray[:,j].nonzero()[0]\n",
    "    y = data_ray[nonzeros, j].todense()\n",
    "    X = fixed_matrix_ray[:, nonzeros]\n",
    "    return np.squeeze(np.linalg.inv(X.dot(X.T) + l2_lambda * np.eye(X.shape[0])).dot(X.dot(y)))\n",
    "\n",
    "def cf_ridge_regression_column_wise(target_matrix, fixed_matrix, data_ray, l2_lambda):\n",
    "    '''\n",
    "    Solves a ridge regression problem using a closed form solution:\n",
    "        w_i = (X'X + lambda * I)^-1 X'y\n",
    "    for all i in the target matrix.\n",
    "    '''\n",
    "    # fixed_matrix_ray = ray.put(fixed_matrix)\n",
    "    fixed_matrix_ray = fixed_matrix\n",
    "    matrix_column_indexes = list(range(target_matrix.shape[1]))\n",
    "    shuffle(matrix_column_indexes)\n",
    "\n",
    "    with tqdm(total=target_matrix.shape[1]) as pbar:\n",
    "        for chunk_j in chunked(matrix_column_indexes, n=100):\n",
    "            # futures = []\n",
    "            results = []\n",
    "            for j in chunk_j:\n",
    "                result = process_single_index_ray(j, l2_lambda, data_ray, fixed_matrix_ray)\n",
    "                results.append(result)\n",
    "                # futures.append(process_single_index_ray.remote(j, l2_lambda, data_ray, fixed_matrix_ray))\n",
    "            # results = ray.get(futures)\n",
    "            for j, result in zip(chunk_j, results):\n",
    "                target_matrix[:,j] = result\n",
    "            pbar.update(len(chunk_j))\n",
    "    \n",
    "    del fixed_matrix_ray\n",
    "\n",
    "\n",
    "def sum_squared_error(gt_data, U, M):\n",
    "    U_small = U[:,0:1000].T\n",
    "    M_small = M[:,0:1000]\n",
    "    resulting = U_small.dot(M_small)\n",
    "    gt_data_subset = gt_data[0:1000,0:1000]\n",
    "    diff = gt_data_subset - resulting\n",
    "    error = diff[gt_data_subset[0:1000,0:1000].nonzero()]\n",
    "    error2 = (np.array(error) ** 2).sum()\n",
    "    return error2\n",
    "    # return (np.array((training_data[0:1000,0:1000] - U[0:1000,:].T.dot(M[0:1000,:]))[training_data[0:1000,0:1000].nonzero()]) ** 2).sum()\n",
    "\n",
    "# Initialize the parameters\n",
    "total_ratings = 100_000\n",
    "\n",
    "converge = 1e-6\n",
    "\n",
    "max_steps = 5\n",
    "l2_lambda = 10\n",
    "delta = converge + 1.\n",
    "cur_error = 1.\n",
    "cur_step = 0\n",
    "\n",
    "verbose = True\n",
    "\n",
    "random_start, random_end = 0, 1\n",
    "U_features = np.random.uniform(random_start, random_end, size=(n_features, training_data_csc.shape[0]))\n",
    "I_features = np.random.uniform(random_start, random_end, size=(n_features, training_data_csc.shape[1]))\n",
    "\n",
    "# U_features = np.ones((n_features, training_data_csc.shape[0])) # features x users\n",
    "# I_features = np.ones((n_features, training_data_csc.shape[1])) # features x items\n",
    "\n",
    "training_trace = []\n",
    "testing_trace = []\n",
    "\n",
    "train_error = sum_squared_error(training_data_csc, U_features, I_features)\n",
    "test_error = sum_squared_error(testing_data_csc, U_features, I_features)\n",
    "training_trace.append(np.sqrt(train_error / total_ratings))\n",
    "testing_trace.append(np.sqrt(test_error / total_ratings))\n",
    "\n",
    "print('Training error: {0}'.format(np.sqrt(train_error / total_ratings)))\n",
    "print('Testing error: {0}'.format(np.sqrt(test_error / total_ratings)))\n",
    "\n",
    "\n",
    "while delta > converge and cur_step < max_steps:\n",
    "    print('Step #{0}'.format(cur_step))\n",
    "\n",
    "    # Use the closed-form solution for the ridge-regression subproblems\n",
    "    # training_data_csc_ray = ray.put(training_data_csc)\n",
    "    # training_data_t_csc_ray = ray.put(training_data_t_csc)\n",
    "    training_data_csc_ray = training_data_csc\n",
    "    training_data_t_csc_ray = training_data_t_csc\n",
    "    # slice_size = 50\n",
    "    print('Fitting M')\n",
    "    # cf_ridge_regression_column_wise_m(target_matrix=I_features, fixed_matrix=U_features, data_ray=training_data_csc_ray, l2_lambda=l2_lambda, slice_size=slice_size)\n",
    "    cf_ridge_regression_column_wise(target_matrix=I_features, fixed_matrix=U_features, data_ray=training_data_csc_ray, l2_lambda=l2_lambda)\n",
    "    print('Fitting U')\n",
    "    # cf_ridge_regression_column_wise_m(target_matrix=U_features, fixed_matrix=I_features, data_ray=training_data_t_csc_ray, l2_lambda=l2_lambda, slice_size=slice_size)\n",
    "    cf_ridge_regression_column_wise(target_matrix=U_features, fixed_matrix=I_features, data_ray=training_data_t_csc_ray, l2_lambda=l2_lambda)\n",
    "\n",
    "    # Track performance in terms of RMSE on both the testing and training sets\n",
    "    train_error = sum_squared_error(training_data_csc, U_features, I_features)\n",
    "    test_error = sum_squared_error(testing_data_csc, U_features, I_features)\n",
    "    training_trace.append(np.sqrt(train_error / total_ratings))\n",
    "    testing_trace.append(np.sqrt(test_error / total_ratings))\n",
    "\n",
    "    # Track convergence\n",
    "    prev_error = cur_error\n",
    "    cur_error = train_error\n",
    "    delta = np.abs(prev_error - cur_error) / (prev_error + converge)\n",
    "    print('Training error: {0}'.format(np.sqrt(train_error / total_ratings)))\n",
    "    print('Testing error: {0}'.format(np.sqrt(test_error / total_ratings)))\n",
    "    print('Delta: {0}'.format(delta))\n",
    "    # Update the step counter\n",
    "    cur_step += 1\n",
    "\n"
   ]
  },
  {
   "cell_type": "code",
   "execution_count": 16,
   "metadata": {},
   "outputs": [
    {
     "name": "stdout",
     "output_type": "stream",
     "text": [
      "U_features shape: (50, 5199)\n",
      "I_features shape: (50, 8640)\n",
      "[[0.13784807 0.14868145 0.14918857 ... 0.14038778 0.16212827 0.15503662]\n",
      " [0.13623781 0.14677962 0.14749793 ... 0.13853498 0.16059816 0.15355152]\n",
      " [0.15148272 0.16364849 0.16371885 ... 0.15451124 0.17619324 0.16896742]\n",
      " ...\n",
      " [0.13509931 0.14575816 0.14624011 ... 0.13730569 0.1582999  0.15191237]\n",
      " [0.12622035 0.13595991 0.13678895 ... 0.12803642 0.14988692 0.14328426]\n",
      " [0.13121162 0.14136184 0.14224296 ... 0.13358856 0.15545185 0.14837814]]\n",
      "[[0.11216644 0.10273266 0.11021925 ... 0.06423135 0.05260757 0.06421279]\n",
      " [0.11074363 0.10167187 0.10882213 ... 0.06363733 0.05192382 0.06355258]\n",
      " [0.12356001 0.11238594 0.12144639 ... 0.06974514 0.05784752 0.07028491]\n",
      " ...\n",
      " [0.11006925 0.10069657 0.1082094  ... 0.0627203  0.05141562 0.06283538]\n",
      " [0.10262926 0.0947887  0.10091145 ... 0.05961154 0.04814565 0.05923833]\n",
      " [0.10645592 0.09786547 0.10452123 ... 0.06144014 0.0499325  0.06104448]]\n"
     ]
    }
   ],
   "source": [
    "# save features\n",
    "#create output directory\n",
    "from pathlib import Path\n",
    "\n",
    "\n",
    "Path.mkdir(Path(out_dir), exist_ok=True)\n",
    "\n",
    "np.save(out_dir + 'U_features.npy', U_features)\n",
    "np.save(out_dir + 'I_features.npy', I_features)\n",
    "\n",
    "# print statistics about features\n",
    "print('U_features shape: {0}'.format(U_features.shape))\n",
    "print('I_features shape: {0}'.format(I_features.shape))\n",
    "print(U_features)\n",
    "print(I_features)"
   ]
  },
  {
   "cell_type": "code",
   "execution_count": 17,
   "metadata": {},
   "outputs": [
    {
     "data": {
      "image/png": "[encoded data removed]",
      "text/plain": [
       "<Figure size 432x288 with 1 Axes>"
      ]
     },
     "metadata": {
      "needs_background": "light"
     },
     "output_type": "display_data"
    }
   ],
   "source": [
    "\n",
    "plt.figure()\n",
    "plt.plot(np.arange(cur_step + 1), np.array(training_trace), label='Training RMSE')\n",
    "plt.plot(np.arange(cur_step + 1), np.array(testing_trace), label='Testing RMSE')\n",
    "plt.yscale('log')\n",
    "# plt.savefig(args.plot_results, bbox_inches='tight')\n",
    "plt.show()"
   ]
  },
  {
   "cell_type": "code",
   "execution_count": 47,
   "metadata": {},
   "outputs": [
    {
     "name": "stdout",
     "output_type": "stream",
     "text": [
      "(8640,)\n",
      "[0.90776632 0.83007527 0.89232732 ... 0.51707753 0.42463358 0.51831085]\n"
     ]
    }
   ],
   "source": [
    "user_idx = 5001\n",
    "predicted_ratings = U_features[:,user_idx].T.dot(I_features)\n",
    "print(predicted_ratings.shape)\n",
    "print(predicted_ratings)"
   ]
  },
  {
   "cell_type": "code",
   "execution_count": 48,
   "metadata": {},
   "outputs": [
    {
     "name": "stdout",
     "output_type": "stream",
     "text": [
      "(50,)\n"
     ]
    }
   ],
   "source": [
    "# non_zero_training_data = training_data_csc[user_idx, :].nonzero()\n",
    "training_data_for_user = training_data_csc[user_idx, :].nonzero()[1]\n",
    "training_data_for_user\n",
    "# print('non_zero_training_data: {0}'.format(non_zero_training_data))\n",
    "Ufeatures_for_user = U_features[:, user_idx]\n",
    "print(Ufeatures_for_user.shape)\n",
    "\n",
    "\n",
    "\n",
    "# items_pref_to_user = \n",
    "# print(training_data_csc[5000, :])"
   ]
  },
  {
   "cell_type": "code",
   "execution_count": 52,
   "metadata": {},
   "outputs": [
    {
     "data": {
      "text/plain": [
       "array([0.8207405 , 0.91436305, 0.90653959, 0.93076408, 0.8826221 ,\n",
       "       0.92238382, 0.81242267, 0.67241308, 0.87714618, 0.79395072,\n",
       "       0.9034721 , 0.91654259, 0.87261714, 0.60069379, 0.8929872 ,\n",
       "       0.8972871 , 0.90251166, 0.92652384, 0.89162601, 0.91271591,\n",
       "       0.92805969, 0.88696621, 0.79376183, 0.89421271, 0.88007687,\n",
       "       0.9406325 , 0.91704071, 0.9044102 , 0.81160155, 0.75578747,\n",
       "       0.90818315, 0.89835879, 0.93459288, 0.90586487, 0.92316293,\n",
       "       0.83006045, 0.81109218, 0.89660071, 0.89980016, 0.77127074,\n",
       "       0.91911306, 0.88220677, 0.88562136, 0.9183745 , 0.89056182,\n",
       "       0.81577595, 0.71667857, 0.80216292, 0.91574745, 0.59839985])"
      ]
     },
     "execution_count": 52,
     "metadata": {},
     "output_type": "execute_result"
    }
   ],
   "source": [
    "predicted_ratings[1000:1050]"
   ]
  },
  {
   "cell_type": "code",
   "execution_count": 33,
   "metadata": {},
   "outputs": [
    {
     "name": "stdout",
     "output_type": "stream",
     "text": [
      "(100,)\n",
      "[0.83776353 0.76542611 0.82423075 0.8777731  0.6096057  0.8278212\n",
      " 0.86623051 0.67675107 0.81795149 0.74677404 0.86918123 0.86777417\n",
      " 0.80698795 0.83803672 0.84482025 0.7819067  0.8537904  0.87429336\n",
      " 0.87269991 0.49960002 0.87031027 0.84889768 0.86868637 0.86643409\n",
      " 0.82168259 0.80939207 0.83549377 0.81437082 0.86326641 0.84834858\n",
      " 0.83443949 0.83726091 0.63925272 0.4545587  0.85420796 0.86039804\n",
      " 0.7069584  0.86316091 0.82743435 0.73769237 0.78908918 0.8624932\n",
      " 0.84795625 0.65731595 0.86179821 0.74990371 0.72385688 0.87195536\n",
      " 0.84099866 0.82416679 0.86695704 0.85754652 0.87276578 0.8179922\n",
      " 0.81912993 0.81037582 0.87019665 0.82861194 0.74111313 0.84743921\n",
      " 0.86529125 0.72533676 0.81622213 0.84847125 0.8582184  0.55814753\n",
      " 0.82641946 0.85951714 0.80843467 0.84592733 0.67802317 0.83523269\n",
      " 0.86418801 0.86359249 0.85116655 0.86919565 0.8257108  0.86240129\n",
      " 0.85954126 0.82294071 0.87010557 0.69349592 0.61001121 0.83096176\n",
      " 0.86473799 0.82286874 0.83322787 0.86689    0.79300435 0.83904103\n",
      " 0.64939383 0.79225767 0.84297283 0.87112344 0.86749274 0.86160476\n",
      " 0.83639937 0.86735277 0.80794905 0.83609342]\n"
     ]
    }
   ],
   "source": [
    "res = U_features[:, 0].dot(I_features)[0:100]\n",
    "print(res.shape)\n",
    "print(res)"
   ]
  },
  {
   "cell_type": "code",
   "execution_count": null,
   "metadata": {},
   "outputs": [],
   "source": []
  }
 ],
 "metadata": {
  "kernelspec": {
   "display_name": "Python 3.9.13 ('.venv': poetry)",
   "language": "python",
   "name": "python3"
  },
  "language_info": {
   "codemirror_mode": {
    "name": "ipython",
    "version": 3
   },
   "file_extension": ".py",
   "mimetype": "text/x-python",
   "name": "python",
   "nbconvert_exporter": "python",
   "pygments_lexer": "ipython3",
   "version": "3.9.13 (main, Jun  7 2022, 13:28:04) \n[Clang 13.1.6 (clang-1316.0.21.2.5)]"
  },
  "orig_nbformat": 4,
  "vscode": {
   "interpreter": {
    "hash": "72e4c8b5f0869b81e3c54c1a9c17a5176fed7dccc000e70ae85e6cab596ae0d3"
   }
  }
 },
 "nbformat": 4,
 "nbformat_minor": 2
}
