{
 "cells": [
  {
   "cell_type": "code",
   "execution_count": 107,
   "metadata": {},
   "outputs": [],
   "source": [
    "import pandas as pd\n",
    "import numpy as np\n",
    "import matplotlib.pyplot as plt\n",
    "import seaborn as sns\n",
    "from tqdm import tqdm\n",
    "import os\n",
    "import matplotlib\n",
    "import random\n",
    "import ray\n",
    "\n",
    "matplotlib.rcParams.update({\n",
    "    'font.family': 'serif',\n",
    "    'text.usetex': True,\n",
    "    'pgf.rcfonts': False,\n",
    "    })\n",
    "\n",
    "dataset_names = [\n",
    "    'KGRec',\n",
    "    'MovieLens',\n",
    "    'Netflix',\n",
    "    'Spotify',\n",
    "]\n"
   ]
  },
  {
   "cell_type": "code",
   "execution_count": 108,
   "metadata": {},
   "outputs": [],
   "source": [
    "kgrec_music_df = pd.read_csv('../datasets/kgrec/music_ratings.csv.gz')\n",
    "ml_df = pd.read_csv('../datasets/movie_lens/ratings.csv.gz')\n",
    "netflix_df = pd.read_csv(f'../datasets/netflix/ratings.csv.gz')\n",
    "spotify_df = pd.read_csv(f'../datasets/spotify/ratings.csv.gz')\n",
    "spotify_df.rename(columns={'playlist_id': 'user_id'}, inplace=True)\n",
    "\n",
    "ratings_datasets = [\n",
    "    ('KGRec', kgrec_music_df, True),\n",
    "    ('MovieLens', ml_df, False),\n",
    "    ('Netflix', netflix_df, True),\n",
    "    ('Spotify', spotify_df, True),\n",
    "]"
   ]
  },
  {
   "cell_type": "code",
   "execution_count": 109,
   "metadata": {},
   "outputs": [
    {
     "name": "stdout",
     "output_type": "stream",
     "text": [
      "KGRec 0.01 gb\n",
      "MovieLens 0.75 gb\n",
      "Netflix 8.52 gb\n",
      "Spotify 0.99 gb\n"
     ]
    }
   ],
   "source": [
    "# check sizes of datasets in gb\n",
    "for dataset_name, dataset_df, _ in ratings_datasets:\n",
    "    total_mem_usage = dataset_df.memory_usage(deep=True, index=True).sum()\n",
    "    total_mem_usage_gb = round(total_mem_usage / 1024 ** 3, 2)\n",
    "    print(f'{dataset_name} {total_mem_usage_gb} gb')"
   ]
  },
  {
   "cell_type": "code",
   "execution_count": 110,
   "metadata": {},
   "outputs": [
    {
     "name": "stdout",
     "output_type": "stream",
     "text": [
      "Checking if KGRec dataset is sequential...\n",
      "Max user id: 5198\n",
      "Max item id: 8639\n",
      "Count user id: 5199\n",
      "Count item id: 8640\n",
      "Checking if MovieLens dataset is sequential...\n",
      "Max user id: 162540\n",
      "Max item id: 59046\n",
      "Count user id: 162541\n",
      "Count item id: 59047\n",
      "Checking if Netflix dataset is sequential...\n",
      "Max user id: 480188\n",
      "Max item id: 17769\n",
      "Count user id: 480189\n",
      "Count item id: 17770\n",
      "Checking if Spotify dataset is sequential...\n",
      "Max user id: 999999\n",
      "Max item id: 2262291\n",
      "Count user id: 1000000\n",
      "Count item id: 2262292\n"
     ]
    }
   ],
   "source": [
    "def check_if_ids_sequential(dataset_df):\n",
    "    max_user_id = dataset_df['user_id'].max()\n",
    "    max_item_id = dataset_df['item_id'].max()\n",
    "    count_user_id = dataset_df['user_id'].nunique()\n",
    "    count_item_id = dataset_df['item_id'].nunique()\n",
    "\n",
    "    print(f'Max user id: {max_user_id}')\n",
    "    print(f'Max item id: {max_item_id}')\n",
    "    print(f'Count user id: {count_user_id}')\n",
    "    print(f'Count item id: {count_item_id}')\n",
    "\n",
    "    assert  max_user_id == (count_user_id - 1)\n",
    "    assert  max_item_id == (count_item_id - 1)\n",
    "\n",
    "for dataset_name, dataset_df, _ in ratings_datasets:\n",
    "    print(f'Checking if {dataset_name} dataset is sequential...')\n",
    "    check_if_ids_sequential(dataset_df)"
   ]
  },
  {
   "cell_type": "code",
   "execution_count": null,
   "metadata": {},
   "outputs": [],
   "source": [
    "ray.init(num_cpus=os.cpu_count())"
   ]
  },
  {
   "cell_type": "code",
   "execution_count": null,
   "metadata": {},
   "outputs": [],
   "source": [
    "from scipy.sparse import lil_array\n",
    "from scipy.sparse import save_npz\n",
    "\n",
    "# create dir\n",
    "if not os.path.exists('npz/sparse_datasets'):\n",
    "    os.makedirs('npz/sparse_datasets')\n",
    "\n",
    "def transform_to_sparse_matrix(dataset_df):\n",
    "    max_user_id = dataset_df['user_id'].max()\n",
    "    max_item_id = dataset_df['item_id'].max()\n",
    "\n",
    "    has_rating = 'rating' in dataset_df.columns\n",
    "\n",
    "    users_to_items_ratings = lil_array((max_user_id + 1, max_item_id + 1), dtype=np.float32)\n",
    "    \n",
    "    if has_rating:\n",
    "        for user_id, item_id, rating, *_ in tqdm(dataset_df.itertuples(index=False), total=dataset_df.shape[0]):\n",
    "            users_to_items_ratings[user_id, item_id] = rating\n",
    "    else:\n",
    "        for user_id, item_id, *_ in tqdm(dataset_df.itertuples(index=False), total=dataset_df.shape[0]):\n",
    "            users_to_items_ratings[user_id, item_id] = 1\n",
    "    \n",
    "    users_to_items_ratings = users_to_items_ratings.tocsr()\n",
    "    save_npz(f'npz/sparse_datasets/{dataset_name}_users_to_items_ratings.npz', users_to_items_ratings)\n",
    "    return users_to_items_ratings\n",
    "\n",
    "ratings_datasets_w_sparse = []\n",
    "\n",
    "for dataset_name, dataset_df, _ in ratings_datasets:\n",
    "    ratings_datasets_w_sparse.append((dataset_name, dataset_df, transform_to_sparse_matrix(dataset_df)))"
   ]
  },
  {
   "cell_type": "markdown",
   "metadata": {},
   "source": [
    "#### LOAD saved sparse matricies\n"
   ]
  },
  {
   "cell_type": "code",
   "execution_count": 6,
   "metadata": {},
   "outputs": [
    {
     "name": "stdout",
     "output_type": "stream",
     "text": [
      "Loading KGRec dataset...\n",
      "Loading MovieLens dataset...\n",
      "Loading Netflix dataset...\n",
      "Loading Spotify dataset...\n"
     ]
    }
   ],
   "source": [
    "from scipy.sparse import load_npz\n",
    "\n",
    "ratings_datasets_w_sparse = []\n",
    "\n",
    "for dataset_name, dataset_df, _ in ratings_datasets:\n",
    "    print(f'Loading {dataset_name} dataset...')\n",
    "    users_to_items_ratings = load_npz(f'npz/sparse_datasets/{dataset_name}_users_to_items_ratings.npz')\n",
    "    ratings_datasets_w_sparse.append((dataset_name, dataset_df, users_to_items_ratings))"
   ]
  },
  {
   "cell_type": "markdown",
   "metadata": {},
   "source": [
    "---\n",
    "## Sample the similarity\n",
    "run only once, if ran skip"
   ]
  },
  {
   "cell_type": "code",
   "execution_count": null,
   "metadata": {},
   "outputs": [],
   "source": [
    "from more_itertools import chunked\n",
    "\n",
    "\n",
    "def get_random_users(max):\n",
    "    while True:\n",
    "        u1, u2 = random.randint(0, max), random.randint(0, max)\n",
    "        if u1 != u2:\n",
    "            return u1, u2\n",
    "\n",
    "@ray.remote\n",
    "def calculate_similarity(u1_ratings, u2_ratings):\n",
    "    u1_n = u1_ratings.dot(u1_ratings.T)[0, 0]\n",
    "    if(u1_n == 0):\n",
    "        return 0\n",
    "    u2_n = u2_ratings.dot(u2_ratings.T)[0, 0]\n",
    "    if(u2_n == 0):\n",
    "        return 0\n",
    "    denominator = np.sqrt(u1_n) * np.sqrt(u2_n)\n",
    "    nomimator = u1_ratings.dot(u2_ratings.T)[0,0]\n",
    "    result = nomimator / denominator\n",
    "    return result\n",
    "\n",
    "\n",
    "def draw_random_samples(dataset_df, our_sparse_rating_dataset, num_samples):\n",
    "    max_user_id = dataset_df['user_id'].max()\n",
    "\n",
    "    samples = []\n",
    "    random_tuples = list(map(lambda _: get_random_users(max_user_id), range(num_samples)))\n",
    "\n",
    "    # take 1000 random samples\n",
    "    with tqdm(total=num_samples) as progress_bar:\n",
    "        for chunk in chunked(random_tuples, 1000):\n",
    "            ray_results = []\n",
    "            for u1, u2 in chunk:\n",
    "                u1_ratings = our_sparse_rating_dataset.getrow(u1)\n",
    "                u2_ratings = our_sparse_rating_dataset.getrow(u2)\n",
    "                ray_results.append(calculate_similarity.remote(u1_ratings, u2_ratings))\n",
    "            results = ray.get(ray_results)\n",
    "            samples.extend(results)\n",
    "            progress_bar.update(len(results))\n",
    "    return samples\n",
    "    \n",
    "datasets_samples = {}\n",
    "\n",
    "num_samples = 100_000\n",
    "\n",
    "dir = os.path.join('dfs', 'samples', str(num_samples))\n",
    "\n",
    "if not os.path.exists(dir):\n",
    "    os.makedirs(dir)\n",
    "\n",
    "for dataset_name, dataset_df, ratings_sparse in ratings_datasets_w_sparse:\n",
    "    print(f'Processing {dataset_name}')\n",
    "    samples = draw_random_samples(dataset_df, ratings_sparse, num_samples=num_samples)\n",
    "    df = pd.DataFrame(samples, columns=['similarity'])\n",
    "    df.to_csv(os.path.join(dir, f'{dataset_name}.csv'), index=False)\n",
    "    datasets_samples[dataset_name] = samples"
   ]
  },
  {
   "cell_type": "markdown",
   "metadata": {},
   "source": [
    "---\n",
    "# Read the saved sampled similarities and fit exp"
   ]
  },
  {
   "cell_type": "code",
   "execution_count": 111,
   "metadata": {},
   "outputs": [],
   "source": [
    "# read the saved sample files\n",
    "dataset_names = [\n",
    "    'MovieLens',\n",
    "    'KGRec',\n",
    "    'Netflix',\n",
    "    'Spotify'\n",
    "    ]\n",
    "\n",
    "datasets_samples = {}\n",
    "for dataset_name in dataset_names:\n",
    "    samples_df = pd.read_csv(os.path.join('dfs', 'samples', '1000000', f'{dataset_name}.csv'))\n",
    "    datasets_samples[dataset_name] = samples_df"
   ]
  },
  {
   "cell_type": "code",
   "execution_count": 112,
   "metadata": {},
   "outputs": [
    {
     "name": "stdout",
     "output_type": "stream",
     "text": [
      "Processing MovieLens\n",
      "MovieLens: (0, 0.0867687386394521)\n",
      "Processing KGRec\n",
      "KGRec: (0, 0.046808461329693)\n",
      "Processing Netflix\n",
      "Netflix: (0, 0.08737692913250775)\n",
      "Processing Spotify\n",
      "Spotify: (0, 0.03239531399168339)\n"
     ]
    }
   ],
   "source": [
    "import scipy.stats as ss\n",
    "def model_using_exp(samples):\n",
    "    exp_params = ss.expon.fit(samples, method='MM')\n",
    "    (e1, e2) = exp_params\n",
    "    exp_params = (0, e2)\n",
    "    return exp_params\n",
    "\n",
    "datasets_modeled_params = {}\n",
    "    \n",
    "for dataset_name, samples_df in datasets_samples.items():\n",
    "    print(f'Processing {dataset_name}')\n",
    "    samples = list(samples_df[samples_df['similarity'] != 0]['similarity'])\n",
    "    exp_params = model_using_exp(samples)\n",
    "    datasets_modeled_params[dataset_name] = exp_params\n",
    "    print(f'{dataset_name}: {exp_params}')"
   ]
  },
  {
   "cell_type": "code",
   "execution_count": 113,
   "metadata": {},
   "outputs": [
    {
     "name": "stdout",
     "output_type": "stream",
     "text": [
      "Testing MovieLens\n",
      "[0.0,0.1] => 0.6841502983033207, samples: 684150,  pdf: 11.52488806084037\n",
      "[0.1,0.2] => 0.21608866763479795, samples: 216088,  pdf: 3.640132456104052\n",
      "[0.2,0.3] => 0.06825154121248389, samples: 68251,  pdf: 1.1497347503968651\n",
      "[0.3,0.4] => 0.02155722893230161, samples: 21557,  pdf: 0.3631433779431558\n",
      "[0.4,0.5] => 0.006808844327674479, samples: 6808,  pdf: 0.11469872759647026\n",
      "[0.5,0.6] => 0.0021505714497951356, samples: 2150,  pdf: 0.03622755889633382\n",
      "[0.6,0.7] => 0.000679257350895135, samples: 679,  pdf: 0.01144246367060591\n",
      "[0.7,0.8] => 0.00021454323165548406, samples: 214,  pdf: 0.003614098737035967\n",
      "[0.8,0.9] => 6.776341571945732e-05, samples: 67,  pdf: 0.0011415120079951557\n",
      "[0.9,1.0] => 2.140305464093384e-05, samples: 21,  pdf: 0.0003605462272084475\n",
      "Testing KGRec\n",
      "[0.0,0.1] => 0.8819168081015707, samples: 881916,  pdf: 21.36365886835184\n",
      "[0.1,0.2] => 0.10413955168950806, samples: 104139,  pdf: 2.5226890298041704\n",
      "[0.2,0.3] => 0.012297130666368505, samples: 12297,  pdf: 0.2978871728064282\n",
      "[0.3,0.4] => 0.0014520844402768907, samples: 1452,  pdf: 0.035175468190581975\n",
      "[0.4,0.5] => 0.00017146676561397012, samples: 171,  pdf: 0.004153631560465591\n",
      "[0.5,0.6] => 2.024734298811115e-05, samples: 20,  pdf: 0.0004904740726298303\n",
      "[0.6,0.7] => 2.390870887603036e-06, samples: 2,  pdf: 5.791674403955226e-05\n",
      "[0.7,0.8] => 2.8232166582320417e-07, samples: 0,  pdf: 6.838994000554667e-06\n",
      "[0.8,0.9] => 3.33374433614253e-08, samples: 0,  pdf: 8.075702409597043e-07\n",
      "[0.9,1.0] => 3.9365917192668576e-09, samples: 0,  pdf: 9.536047173470532e-08\n",
      "Testing Netflix\n",
      "[0.0,0.1] => 0.6816063800939633, samples: 681606,  pdf: 11.444668631962251\n",
      "[0.1,0.2] => 0.2170191227091669, samples: 217019,  pdf: 3.6439094743555303\n",
      "[0.2,0.3] => 0.06909750406820403, samples: 69097,  pdf: 1.1601975281499608\n",
      "[0.3,0.4] => 0.02200020444674755, samples: 22000,  pdf: 0.3693994907937019\n",
      "[0.4,0.5] => 0.007004724732472822, samples: 7004,  pdf: 0.11761444106525347\n",
      "[0.5,0.6] => 0.0022302596640174643, samples: 2230,  pdf: 0.03744768764399127\n",
      "[0.6,0.7] => 0.0007101004477568784, samples: 710,  pdf: 0.011923104826080935\n",
      "[0.7,0.8] => 0.00022609145205820802, samples: 226,  pdf: 0.003796240506095049\n",
      "[0.8,0.9] => 7.198607585057193e-05, samples: 71,  pdf: 0.0012086987567695275\n",
      "[0.9,1.0] => 2.2919907272989093e-05, samples: 22,  pdf: 0.00038484197254377606\n",
      "Testing Spotify\n",
      "[0.0,0.1] => 0.9543552281892738, samples: 954355,  pdf: 30.868662061948918\n",
      "[0.1,0.2] => 0.043561326617073015, samples: 43561,  pdf: 1.4089930359200795\n",
      "[0.2,0.3] => 0.001988346813208808, samples: 1988,  pdf: 0.0643131656074744\n",
      "[0.3,0.4] => 9.075763656940516e-05, samples: 90,  pdf: 0.002935559768578611\n",
      "[0.4,0.5] => 4.142611611301916e-06, samples: 4,  pdf: 0.00013399295577351907\n",
      "[0.5,0.6] => 1.890885616973037e-07, samples: 0,  pdf: 6.116077890527013e-06\n",
      "[0.6,0.7] => 8.630904324569144e-09, samples: 0,  pdf: 2.7916697968973245e-07\n",
      "[0.7,0.8] => 3.9395564588318166e-10, samples: 0,  pdf: 1.2742513085027489e-08\n",
      "[0.8,0.9] => 1.7981949262946273e-11, samples: 0,  pdf: 5.816291020612731e-10\n",
      "[0.9,1.0] => 8.207878821053782e-13, samples: 0,  pdf: 2.654832764206442e-11\n"
     ]
    }
   ],
   "source": [
    "random_sample_size = 1_000_000\n",
    "num_intervals = 10\n",
    "\n",
    "def test_model(exp_params, num_intervals, random_sample_size):\n",
    "    for i in range(num_intervals):\n",
    "        start = (1/num_intervals) * i\n",
    "        end = (1/num_intervals * (i+1))\n",
    "        prob_on_interval = ss.expon.cdf(end, *exp_params) - ss.expon.cdf(start, *exp_params)\n",
    "        pdf = ss.expon.pdf(start, *exp_params)\n",
    "        print(f'[{round(start,2)},{round(end,2)}] => {prob_on_interval}, samples: {int(prob_on_interval * random_sample_size)},  pdf: {pdf}')\n",
    "\n",
    "for dataset_name, exp_params in datasets_modeled_params.items():\n",
    "    print(f'Testing {dataset_name}')\n",
    "    test_model(exp_params, num_intervals, random_sample_size)"
   ]
  },
  {
   "cell_type": "code",
   "execution_count": 114,
   "metadata": {},
   "outputs": [
    {
     "name": "stdout",
     "output_type": "stream",
     "text": [
      "MovieLens: 116414/1000000 (11.64%)\n",
      "KGRec: 120286/1000000 (12.03%)\n",
      "Netflix: 130568/1000000 (13.06%)\n",
      "Spotify: 882788/1000000 (88.28%)\n"
     ]
    }
   ],
   "source": [
    "for dataset_name, samples_df in datasets_samples.items():\n",
    "    # how many zeros\n",
    "    count_zeros = (samples_df['similarity'] == 0).sum()\n",
    "    size = samples_df.shape[0]\n",
    "    print(f'{dataset_name}: {count_zeros}/{size} ({count_zeros/size*100:.2f}%)')\n"
   ]
  },
  {
   "cell_type": "code",
   "execution_count": 228,
   "metadata": {},
   "outputs": [
    {
     "name": "stderr",
     "output_type": "stream",
     "text": [
      "/var/folders/fd/cm_96tld2tx10xr416m6z27m0000gq/T/ipykernel_2182/3069771884.py:45: UserWarning: FixedFormatter should only be used together with FixedLocator\n",
      "  ax.set_yticklabels(yticks_text)\n",
      "/var/folders/fd/cm_96tld2tx10xr416m6z27m0000gq/T/ipykernel_2182/3069771884.py:45: UserWarning: FixedFormatter should only be used together with FixedLocator\n",
      "  ax.set_yticklabels(yticks_text)\n",
      "/var/folders/fd/cm_96tld2tx10xr416m6z27m0000gq/T/ipykernel_2182/3069771884.py:45: UserWarning: FixedFormatter should only be used together with FixedLocator\n",
      "  ax.set_yticklabels(yticks_text)\n",
      "/var/folders/fd/cm_96tld2tx10xr416m6z27m0000gq/T/ipykernel_2182/3069771884.py:45: UserWarning: FixedFormatter should only be used together with FixedLocator\n",
      "  ax.set_yticklabels(yticks_text)\n"
     ]
    },
    {
     "data": {
      "image/png": "[encoded data removed]",
      "text/plain": [
       "<Figure size 590x590 with 4 Axes>"
      ]
     },
     "metadata": {
      "needs_background": "light"
     },
     "output_type": "display_data"
    }
   ],
   "source": [
    "# draw historams for the datasets\n",
    "import matplotlib.pyplot as plt\n",
    "import seaborn as sns\n",
    "import numpy as np\n",
    "\n",
    "\n",
    "#create 2x2 grid of subplots\n",
    "fig, axs = plt.subplots(2, 2, figsize=(5.9, 5.9), dpi=100)\n",
    "\n",
    "random_sample_size = 1_000_000\n",
    "for i, dataset_sample in enumerate(datasets_samples.items()):\n",
    "    dataset_name, samples_df = dataset_sample\n",
    "\n",
    "    # get ith plot\n",
    "    ax = axs[i//2, i%2]\n",
    "    # fig, axs = plt.subplots(1, 1, figsize=(3.5, 2), dpi=100)\n",
    "\n",
    "    # data are already grouped by bin, so we can use the same bins\n",
    "\n",
    "    # non_zeros = samples_df[samples_df['similarity'] != 0]['similarity']\n",
    "    sns.histplot(x=samples_df['similarity'], ax=ax, label='Cosine similarity', binwidth=0.01, binrange=(0, 0.5))\n",
    "    # ax.bar_label(ax.containers[0])\n",
    "\n",
    "    # highest_bar = 0\n",
    "    # for i, bar in enumerate(axs.patches):\n",
    "    #     bar_height = bar.get_height()\n",
    "    #     if bar_height > highest_bar:\n",
    "    #         highest_bar = bar_height\n",
    "    #     percentage = bar_height / random_sample_size * 100\n",
    "    #     format_string = \"{0:.1f}\"\n",
    "    #     if percentage < 1:\n",
    "    #         format_string = \"{0:.2f}\"\n",
    "    #     if percentage < 0.1:\n",
    "    #         format_string = \"{0:.3f}\"\n",
    "    #     text = format_string.format(bar_height / random_sample_size * 100).lstrip('0')\n",
    "    #     text2 = \"{:,}\".format(int(bar_height))\n",
    "    #     # text = str(round(counts_cosine_df_grouped.iloc[i]['count'] / random_sample_size * 100, decimals)) + '%'\n",
    "    #     axs.text(bar.get_x() + bar.get_width() / 2 + 0.007, bar.get_height(), text2 + '\\n' + text + '\\%' , ha='center', va='bottom', rotation=0)\n",
    "    # # remove lines around the bars\n",
    "\n",
    "    # sns.lineplot(x=exp_x, y=exp_pdf_y*random_sample_size/10, ax=axs, label='Exponential', color=colors[1])\n",
    "    # ax.set_ylim(0, random_sample_size)\n",
    "    # set tick text on y axes with percentage\n",
    "    yticks_text = [str(round(x / 1000)) + 'k' for x in ax.get_yticks()]\n",
    "    ax.set_yticklabels(yticks_text)\n",
    "\n",
    "    ax.set_xticks(np.arange(0, 0.6, 0.1))\n",
    "    ax.set_xlabel('Cosine similarity')\n",
    "    ax.set_ylabel('User pairs count')\n",
    "    ax.set_title(f\"{dataset_name}\")\n",
    "    # axs.set_ylim(0, highest_bar * 1.18)\n",
    "\n",
    "# heading over all subplots \n",
    "plt.suptitle('Histogram of 1M random user pairs', fontsize=14)\n",
    "plt.tight_layout()\n",
    "plt.savefig('../figures/histogram_cosine_all.pdf', bbox_inches = 'tight', pad_inches=0.02)\n",
    "plt.show()\n"
   ]
  },
  {
   "cell_type": "code",
   "execution_count": 229,
   "metadata": {},
   "outputs": [
    {
     "name": "stdout",
     "output_type": "stream",
     "text": [
      "MovieLens: 0.048, 0.090, 0.153, 0.10496\n",
      "KGRec: 0.021, 0.044, 0.079, 0.05727\n",
      "Netflix: 0.051, 0.098, 0.165, 0.11445\n",
      "Spotify: 0.014, 0.023, 0.040, 0.02574\n"
     ]
    }
   ],
   "source": [
    "dataset_inter_quartile_range = {}\n",
    "\n",
    "for i, dataset_sample in enumerate(datasets_samples.items()):\n",
    "    dataset_name, samples_df = dataset_sample\n",
    "\n",
    "    non_zeros = samples_df[samples_df['similarity'] != 0]['similarity']\n",
    "\n",
    "    non_zeros = non_zeros.sort_values()\n",
    "    first_quartile = non_zeros.iloc[int(len(non_zeros) * 0.25)]\n",
    "    median = non_zeros.iloc[int(len(non_zeros) * 0.5)]\n",
    "    third_quartile = non_zeros.iloc[int(len(non_zeros) * 0.75)]\n",
    "\n",
    "    width_of_interquartile_range = third_quartile - first_quartile\n",
    "    print(f'{dataset_name}: {first_quartile:.3f}, {median:.3f}, {third_quartile:.3f}, {width_of_interquartile_range:.5f}')\n",
    "    \n",
    "    dataset_inter_quartile_range[dataset_name] = width_of_interquartile_range\n",
    "\n"
   ]
  },
  {
   "cell_type": "markdown",
   "metadata": {},
   "source": [
    "---\n",
    "# Group generation\n",
    "\n",
    "Now we have a fast way as how to calculate the similarity between pairs of users, we now implement the actual creation of groups"
   ]
  },
  {
   "cell_type": "code",
   "execution_count": 116,
   "metadata": {},
   "outputs": [
    {
     "data": {
      "text/plain": [
       "RayContext(dashboard_url='', python_version='3.9.13', ray_version='1.13.0', ray_commit='e4ce38d001dbbe09cd21c497fedd03d692b2be3e', address_info={'node_ip_address': '127.0.0.1', 'raylet_ip_address': '127.0.0.1', 'redis_address': None, 'object_store_address': '/tmp/ray/session_2022-06-30_00-14-51_796921_2182/sockets/plasma_store', 'raylet_socket_name': '/tmp/ray/session_2022-06-30_00-14-51_796921_2182/sockets/raylet', 'webui_url': '', 'session_dir': '/tmp/ray/session_2022-06-30_00-14-51_796921_2182', 'metrics_export_port': 58948, 'gcs_address': '127.0.0.1:57630', 'address': '127.0.0.1:57630', 'node_id': '6c8c504e03154d960737920ff1807e6685f86a1df17c327639fa407c'})"
      ]
     },
     "execution_count": 116,
     "metadata": {},
     "output_type": "execute_result"
    }
   ],
   "source": [
    "import ray\n",
    "\n",
    "if ray.is_initialized():\n",
    "    ray.shutdown()\n",
    "# init ray with cores equal to the number of available cores\n",
    "ray.init(num_cpus=os.cpu_count())"
   ]
  },
  {
   "cell_type": "code",
   "execution_count": 117,
   "metadata": {},
   "outputs": [],
   "source": [
    "def get_random_users(max):\n",
    "    while True:\n",
    "        u1, u2 = random.randint(0, max), random.randint(0, max)\n",
    "        if u1 != u2:\n",
    "            return u1, u2\n",
    "\n",
    "@ray.remote\n",
    "def calculate_similarity_ray(u1_ratings, u2_ratings):\n",
    "    return calculate_similarity(u1_ratings, u2_ratings)\n",
    "\n",
    "def calculate_similarity(u1_ratings, u2_ratings):\n",
    "    u1_n = u1_ratings.dot(u1_ratings.T)[0, 0]\n",
    "    if(u1_n == 0):\n",
    "        return 0\n",
    "    u2_n = u2_ratings.dot(u2_ratings.T)[0, 0]\n",
    "    if(u2_n == 0):\n",
    "        return 0\n",
    "    denominator = np.sqrt(u1_n) * np.sqrt(u2_n)\n",
    "    nomimator = u1_ratings.dot(u2_ratings.T)[0,0]\n",
    "    result = nomimator / denominator\n",
    "    return result\n",
    "\n",
    "def draw_unique_candidates(max_id, num_of_candidates):\n",
    "    return random.sample(range(max_id + 1), num_of_candidates)\n",
    "    \n",
    "\n",
    "def calculate_similarity_of_candidates(sparse_dataset, pivot_id, candidates_ids):\n",
    "    ray_results = []\n",
    "    ray_parameters = []\n",
    "    \n",
    "    pivot_ratings = sparse_dataset.getrow(pivot_id)\n",
    "    for candidate_id in candidates_ids:\n",
    "        candidate_ratings = sparse_dataset.getrow(candidate_id)\n",
    "        ray_results.append(calculate_similarity_ray.remote(pivot_ratings, candidate_ratings))\n",
    "        ray_parameters.append(candidate_id)\n",
    "\n",
    "    results = ray.get(ray_results)\n",
    "    return zip(ray_parameters, results)\n",
    "\n",
    "def save_group_df(df, dataset_name, type, group_size, other_params):\n",
    "    dir = os.path.join('dfs', 'groups', dataset_name)\n",
    "    if not os.path.exists(dir):\n",
    "        os.makedirs(dir)\n",
    "\n",
    "    file_name = f'{type}_{group_size}'\n",
    "    if other_params:\n",
    "        file_name += '_' + '_'.join([f'{key}:{value}' for key,value in other_params.items()])\n",
    "        \n",
    "    df.to_csv(os.path.join(dir, f'{file_name}.csv'), index=False)"
   ]
  },
  {
   "cell_type": "markdown",
   "metadata": {},
   "source": [
    "## Generate random groups"
   ]
  },
  {
   "cell_type": "code",
   "execution_count": 167,
   "metadata": {},
   "outputs": [],
   "source": [
    "def generate_random_groups(group_size, num_of_groups_to_generate):\n",
    "    for dataset_name, dataset_df, _ in ratings_datasets_w_sparse:\n",
    "        print(f\"Generating random groups for {dataset_name}\")\n",
    "        max_user_id = dataset_df['user_id'].max()\n",
    "        groups = [draw_unique_candidates(max_user_id, group_size) for _ in range(num_of_groups_to_generate)]\n",
    "\n",
    "        df = pd.DataFrame(groups)\n",
    "        save_group_df(df, dataset_name=dataset_name, type='random', group_size=group_size, other_params=None)"
   ]
  },
  {
   "cell_type": "markdown",
   "metadata": {},
   "source": [
    "## Generate top-k groups"
   ]
  },
  {
   "cell_type": "code",
   "execution_count": 171,
   "metadata": {},
   "outputs": [],
   "source": [
    "def generate_top_k_groups(group_size, num_of_groups_to_generate, number_of_candidates=1000):\n",
    "    for dataset_name, dataset_df, ratings_sparse in ratings_datasets_w_sparse:\n",
    "        print(f\"Generating top-k groups for {dataset_name}\")\n",
    "        max_user_id = dataset_df['user_id'].max()\n",
    "        groups = []\n",
    "        for _ in tqdm(range(num_of_groups_to_generate), total=num_of_groups_to_generate):\n",
    "            # draw one more which will become the pivot\n",
    "            candidates = draw_unique_candidates(max_user_id, number_of_candidates + 1)\n",
    "            pivot, candidates = candidates[0], candidates[1:]\n",
    "            # calculate the similarity of the pivot to all the candidates\n",
    "            candidates_similarities = calculate_similarity_of_candidates(ratings_sparse, pivot, candidates)\n",
    "            # sort the candidates by similarity\n",
    "            candidates_similarities = sorted(candidates_similarities, key=lambda x: x[1], reverse=True)\n",
    "            # take the top k candidates\n",
    "            top_k_candidates = [x[0] for x in candidates_similarities[:group_size - 1]]\n",
    "            group = [pivot] + top_k_candidates\n",
    "            groups.append(group)\n",
    "\n",
    "\n",
    "        df = pd.DataFrame(groups)\n",
    "        # other_params = {'number_of_candidates': number_of_candidates}\n",
    "        save_group_df(df, dataset_name=dataset_name, type='top_k', group_size=group_size, other_params=None)\n",
    "        print('Groups saved')"
   ]
  },
  {
   "cell_type": "markdown",
   "metadata": {},
   "source": [
    "## Generate weighted groups"
   ]
  },
  {
   "cell_type": "code",
   "execution_count": 199,
   "metadata": {},
   "outputs": [],
   "source": [
    "\n",
    "# weighted_groups = {}\n",
    "\n",
    "# interval width is N in the thesis\n",
    "# exp_params is lambda\n",
    "# scaling_exponent and scaling_width are M and D respectively\n",
    "def calculate_weight(similarity, exp_params, scaling_exponent, scaling_width):\n",
    "    scaling = scaling_exponent ** (similarity / scaling_width)\n",
    "\n",
    "    # start = similarity\n",
    "    # end = similarity + interval_width\n",
    "    # prob_on_interval = ss.expon.cdf(end, *exp_params) - ss.expon.cdf(start, *exp_params)\n",
    "    # if(prob_on_interval == 0):\n",
    "    #     print(f\"ding {similarity} - {ss.expon.cdf(end, *exp_params)} - {ss.expon.cdf(start, *exp_params)} = {prob_on_interval * 1000_000}\")\n",
    "    #     return 0\n",
    "    # weight = scaling / prob_on_interval\n",
    "    \n",
    "    prob_ratio = ss.expon.pdf(similarity, *exp_params)\n",
    "    weight = scaling / prob_ratio\n",
    "    return weight\n",
    "\n",
    "def generate_weighted_groups(group_size, num_of_groups_to_generate, scaling_exponent, scaling_width = None, number_of_candidates=1000, top_k = False):\n",
    "    for dataset_name, dataset_df, ratings_sparse in ratings_datasets_w_sparse:\n",
    "        # if dataset_name != 'MovieLens':\n",
    "            # continue\n",
    "\n",
    "        dataset_exp_params = datasets_modeled_params[dataset_name]\n",
    "\n",
    "        if scaling_width is None:\n",
    "            inter_quartile_range = dataset_inter_quartile_range[dataset_name]\n",
    "        else:\n",
    "            inter_quartile_range = scaling_width\n",
    "        \n",
    "        print(f\"Generating weighted groups for {dataset_name}\")\n",
    "        max_user_id = dataset_df['user_id'].max()\n",
    "        groups_weighted = []\n",
    "        groups_top_k = []\n",
    "        for _ in tqdm(range(num_of_groups_to_generate), total=num_of_groups_to_generate):\n",
    "            # draw one more which will become the pivot\n",
    "            candidates = draw_unique_candidates(max_user_id, number_of_candidates + 1)\n",
    "            pivot, candidates = candidates[0], candidates[1:]\n",
    "            assert len(candidates) == number_of_candidates\n",
    "            # calculate the similarity of the pivot to all the candidates\n",
    "            candidates_similarities = calculate_similarity_of_candidates(ratings_sparse, pivot, candidates)\n",
    "\n",
    "            candidates_similarities_w_weights = []\n",
    "            for candidate_id, similarity in candidates_similarities:\n",
    "                weight = calculate_weight(similarity, dataset_exp_params, scaling_exponent, scaling_width=inter_quartile_range)\n",
    "                candidates_similarities_w_weights.append((candidate_id, similarity, weight))\n",
    "\n",
    "            # take k candidates with respect to weights\n",
    "            candidates = [x[0] for x in candidates_similarities_w_weights]\n",
    "            weights = [x[2] for x in candidates_similarities_w_weights]\n",
    "            weights = np.array(weights) / sum(weights)\n",
    "\n",
    "            selected_weighted = list(np.random.choice(candidates, size=group_size - 1, p=weights, replace=False))\n",
    "\n",
    "            ordered_candidates = sorted(candidates_similarities_w_weights, key=lambda x: x[1], reverse=True)\n",
    "            if top_k:\n",
    "                selected_top_k = ordered_candidates[:group_size - 1]\n",
    "                selected_top_k = [x[0] for x in selected_top_k]\n",
    "\n",
    "                group_top_k = [pivot] + selected_top_k\n",
    "                assert len(group_top_k) == group_size\n",
    "                groups_top_k.append(group_top_k)\n",
    "\n",
    "            # assert len(selected_weighted) == len(selected_top_k)\n",
    "            group_weighted = [pivot] + selected_weighted\n",
    "            assert len(group_weighted) == group_size\n",
    "            groups_weighted.append(group_weighted)\n",
    "\n",
    "        if top_k:\n",
    "            df_top_k = pd.DataFrame(groups_top_k)\n",
    "            save_group_df(df_top_k, type='top_k', dataset_name=dataset_name, group_size=group_size, other_params={'noc': number_of_candidates})\n",
    "\n",
    "\n",
    "        df_weighted = pd.DataFrame(groups_weighted)\n",
    "        other_params = {'se': scaling_exponent}\n",
    "        save_group_df(df_weighted, type='weighted', dataset_name=dataset_name, group_size=group_size, other_params=other_params)\n",
    "\n",
    "        print('Groups saved')\n"
   ]
  },
  {
   "cell_type": "code",
   "execution_count": 200,
   "metadata": {},
   "outputs": [
    {
     "name": "stdout",
     "output_type": "stream",
     "text": [
      "Generating random groups for KGRec\n",
      "Generating random groups for MovieLens\n",
      "Generating random groups for Netflix\n",
      "Generating random groups for Spotify\n",
      "Generating top-k groups for KGRec\n"
     ]
    },
    {
     "name": "stderr",
     "output_type": "stream",
     "text": [
      " 18%|█▊        | 9/50 [00:02<00:09,  4.15it/s]\u001b[2m\u001b[36m(calculate_similarity_ray pid=16584)\u001b[0m E0630 14:20:45.276215000 6170537984 chttp2_transport.cc:1103]          Received a GOAWAY with error code ENHANCE_YOUR_CALM and debug data equal to \"too_many_pings\"\n",
      " 28%|██▊       | 14/50 [00:03<00:08,  4.14it/s]\u001b[2m\u001b[36m(calculate_similarity_ray pid=16560)\u001b[0m E0630 14:20:46.530121000 6139031552 chttp2_transport.cc:1103]          Received a GOAWAY with error code ENHANCE_YOUR_CALM and debug data equal to \"too_many_pings\"\n",
      " 42%|████▏     | 21/50 [00:05<00:06,  4.23it/s]\u001b[2m\u001b[36m(calculate_similarity_ray pid=16575)\u001b[0m E0630 14:20:48.327841000 6141915136 chttp2_transport.cc:1103]          Received a GOAWAY with error code ENHANCE_YOUR_CALM and debug data equal to \"too_many_pings\"\n",
      " 44%|████▍     | 22/50 [00:05<00:06,  4.16it/s]\u001b[2m\u001b[36m(calculate_similarity_ray pid=16581)\u001b[0m E0630 14:20:48.480253000 6325039104 chttp2_transport.cc:1103]          Received a GOAWAY with error code ENHANCE_YOUR_CALM and debug data equal to \"too_many_pings\"\n",
      " 64%|██████▍   | 32/50 [00:07<00:04,  3.91it/s]\u001b[2m\u001b[36m(calculate_similarity_ray pid=16555)\u001b[0m E0630 14:20:50.900721000 6209777664 chttp2_transport.cc:1103]          Received a GOAWAY with error code ENHANCE_YOUR_CALM and debug data equal to \"too_many_pings\"\n",
      " 88%|████████▊ | 44/50 [00:11<00:01,  3.98it/s]\u001b[2m\u001b[36m(calculate_similarity_ray pid=16578)\u001b[0m E0630 14:20:54.245098000 6166720512 chttp2_transport.cc:1103]          Received a GOAWAY with error code ENHANCE_YOUR_CALM and debug data equal to \"too_many_pings\"\n",
      "100%|██████████| 50/50 [00:12<00:00,  4.01it/s]\n"
     ]
    },
    {
     "name": "stdout",
     "output_type": "stream",
     "text": [
      "Groups saved\n",
      "Generating top-k groups for MovieLens\n"
     ]
    },
    {
     "name": "stderr",
     "output_type": "stream",
     "text": [
      "100%|██████████| 50/50 [00:11<00:00,  4.31it/s]\n"
     ]
    },
    {
     "name": "stdout",
     "output_type": "stream",
     "text": [
      "Groups saved\n",
      "Generating top-k groups for Netflix\n"
     ]
    },
    {
     "name": "stderr",
     "output_type": "stream",
     "text": [
      "  2%|▏         | 1/50 [00:00<00:11,  4.18it/s]\u001b[2m\u001b[36m(calculate_similarity_ray pid=16527)\u001b[0m E0630 14:21:07.894971000 6143733760 chttp2_transport.cc:1103]          Received a GOAWAY with error code ENHANCE_YOUR_CALM and debug data equal to \"too_many_pings\"\n",
      "  4%|▍         | 2/50 [00:00<00:12,  3.91it/s]\u001b[2m\u001b[36m(calculate_similarity_ray pid=16577)\u001b[0m E0630 14:21:08.129679000 6180548608 chttp2_transport.cc:1103]          Received a GOAWAY with error code ENHANCE_YOUR_CALM and debug data equal to \"too_many_pings\"\n",
      " 58%|█████▊    | 29/50 [00:06<00:04,  4.21it/s]\u001b[2m\u001b[36m(calculate_similarity_ray pid=16573)\u001b[0m E0630 14:21:14.430282000 6138032128 chttp2_transport.cc:1103]          Received a GOAWAY with error code ENHANCE_YOUR_CALM and debug data equal to \"too_many_pings\"\n",
      "100%|██████████| 50/50 [00:11<00:00,  4.24it/s]\n"
     ]
    },
    {
     "name": "stdout",
     "output_type": "stream",
     "text": [
      "Groups saved\n",
      "Generating top-k groups for Spotify\n"
     ]
    },
    {
     "name": "stderr",
     "output_type": "stream",
     "text": [
      "100%|██████████| 50/50 [00:49<00:00,  1.01it/s]\n"
     ]
    },
    {
     "name": "stdout",
     "output_type": "stream",
     "text": [
      "Groups saved\n",
      "Generating weighted groups for KGRec\n"
     ]
    },
    {
     "name": "stderr",
     "output_type": "stream",
     "text": [
      "100%|██████████| 50/50 [00:13<00:00,  3.72it/s]\n"
     ]
    },
    {
     "name": "stdout",
     "output_type": "stream",
     "text": [
      "Groups saved\n",
      "Generating weighted groups for MovieLens\n"
     ]
    },
    {
     "name": "stderr",
     "output_type": "stream",
     "text": [
      "100%|██████████| 50/50 [00:13<00:00,  3.67it/s]\n"
     ]
    },
    {
     "name": "stdout",
     "output_type": "stream",
     "text": [
      "Groups saved\n",
      "Generating weighted groups for Netflix\n"
     ]
    },
    {
     "name": "stderr",
     "output_type": "stream",
     "text": [
      "100%|██████████| 50/50 [00:14<00:00,  3.54it/s]\n"
     ]
    },
    {
     "name": "stdout",
     "output_type": "stream",
     "text": [
      "Groups saved\n",
      "Generating weighted groups for Spotify\n"
     ]
    },
    {
     "name": "stderr",
     "output_type": "stream",
     "text": [
      "100%|██████████| 50/50 [00:53<00:00,  1.06s/it]\n"
     ]
    },
    {
     "name": "stdout",
     "output_type": "stream",
     "text": [
      "Groups saved\n",
      "Generating weighted groups for KGRec\n"
     ]
    },
    {
     "name": "stderr",
     "output_type": "stream",
     "text": [
      "100%|██████████| 50/50 [00:13<00:00,  3.67it/s]\n"
     ]
    },
    {
     "name": "stdout",
     "output_type": "stream",
     "text": [
      "Groups saved\n",
      "Generating weighted groups for MovieLens\n"
     ]
    },
    {
     "name": "stderr",
     "output_type": "stream",
     "text": [
      "100%|██████████| 50/50 [00:13<00:00,  3.66it/s]\n"
     ]
    },
    {
     "name": "stdout",
     "output_type": "stream",
     "text": [
      "Groups saved\n",
      "Generating weighted groups for Netflix\n"
     ]
    },
    {
     "name": "stderr",
     "output_type": "stream",
     "text": [
      "100%|██████████| 50/50 [00:13<00:00,  3.65it/s]\n"
     ]
    },
    {
     "name": "stdout",
     "output_type": "stream",
     "text": [
      "Groups saved\n",
      "Generating weighted groups for Spotify\n"
     ]
    },
    {
     "name": "stderr",
     "output_type": "stream",
     "text": [
      "100%|██████████| 50/50 [00:51<00:00,  1.04s/it]\n"
     ]
    },
    {
     "name": "stdout",
     "output_type": "stream",
     "text": [
      "Groups saved\n",
      "Generating weighted groups for KGRec\n"
     ]
    },
    {
     "name": "stderr",
     "output_type": "stream",
     "text": [
      "100%|██████████| 50/50 [00:13<00:00,  3.61it/s]\n"
     ]
    },
    {
     "name": "stdout",
     "output_type": "stream",
     "text": [
      "Groups saved\n",
      "Generating weighted groups for MovieLens\n"
     ]
    },
    {
     "name": "stderr",
     "output_type": "stream",
     "text": [
      "100%|██████████| 50/50 [00:13<00:00,  3.63it/s]\n"
     ]
    },
    {
     "name": "stdout",
     "output_type": "stream",
     "text": [
      "Groups saved\n",
      "Generating weighted groups for Netflix\n"
     ]
    },
    {
     "name": "stderr",
     "output_type": "stream",
     "text": [
      "100%|██████████| 50/50 [00:13<00:00,  3.75it/s]\n"
     ]
    },
    {
     "name": "stdout",
     "output_type": "stream",
     "text": [
      "Groups saved\n",
      "Generating weighted groups for Spotify\n"
     ]
    },
    {
     "name": "stderr",
     "output_type": "stream",
     "text": [
      "100%|██████████| 50/50 [00:52<00:00,  1.05s/it]\n"
     ]
    },
    {
     "name": "stdout",
     "output_type": "stream",
     "text": [
      "Groups saved\n",
      "Generating weighted groups for KGRec\n"
     ]
    },
    {
     "name": "stderr",
     "output_type": "stream",
     "text": [
      "100%|██████████| 50/50 [00:13<00:00,  3.63it/s]\n"
     ]
    },
    {
     "name": "stdout",
     "output_type": "stream",
     "text": [
      "Groups saved\n",
      "Generating weighted groups for MovieLens\n"
     ]
    },
    {
     "name": "stderr",
     "output_type": "stream",
     "text": [
      "100%|██████████| 50/50 [00:13<00:00,  3.70it/s]\n"
     ]
    },
    {
     "name": "stdout",
     "output_type": "stream",
     "text": [
      "Groups saved\n",
      "Generating weighted groups for Netflix\n"
     ]
    },
    {
     "name": "stderr",
     "output_type": "stream",
     "text": [
      "100%|██████████| 50/50 [00:14<00:00,  3.53it/s]\n"
     ]
    },
    {
     "name": "stdout",
     "output_type": "stream",
     "text": [
      "Groups saved\n",
      "Generating weighted groups for Spotify\n"
     ]
    },
    {
     "name": "stderr",
     "output_type": "stream",
     "text": [
      "100%|██████████| 50/50 [00:52<00:00,  1.04s/it]\n"
     ]
    },
    {
     "name": "stdout",
     "output_type": "stream",
     "text": [
      "Groups saved\n",
      "Generating weighted groups for KGRec\n"
     ]
    },
    {
     "name": "stderr",
     "output_type": "stream",
     "text": [
      "100%|██████████| 50/50 [00:13<00:00,  3.70it/s]\n"
     ]
    },
    {
     "name": "stdout",
     "output_type": "stream",
     "text": [
      "Groups saved\n",
      "Generating weighted groups for MovieLens\n"
     ]
    },
    {
     "name": "stderr",
     "output_type": "stream",
     "text": [
      "100%|██████████| 50/50 [00:13<00:00,  3.66it/s]\n"
     ]
    },
    {
     "name": "stdout",
     "output_type": "stream",
     "text": [
      "Groups saved\n",
      "Generating weighted groups for Netflix\n"
     ]
    },
    {
     "name": "stderr",
     "output_type": "stream",
     "text": [
      "100%|██████████| 50/50 [00:13<00:00,  3.69it/s]\n"
     ]
    },
    {
     "name": "stdout",
     "output_type": "stream",
     "text": [
      "Groups saved\n",
      "Generating weighted groups for Spotify\n"
     ]
    },
    {
     "name": "stderr",
     "output_type": "stream",
     "text": [
      "100%|██████████| 50/50 [00:51<00:00,  1.02s/it]"
     ]
    },
    {
     "name": "stdout",
     "output_type": "stream",
     "text": [
      "Groups saved\n"
     ]
    },
    {
     "name": "stderr",
     "output_type": "stream",
     "text": [
      "\n"
     ]
    }
   ],
   "source": [
    "group_size = 5\n",
    "num_of_groups_to_generate = 50\n",
    "\n",
    "generate_random_groups(group_size=group_size,num_of_groups_to_generate=num_of_groups_to_generate)\n",
    "generate_top_k_groups(group_size, num_of_groups_to_generate)\n",
    "\n",
    "\n",
    "for scaling_exponent in [0.5, 1, 2, 4, 8]:\n",
    "    generate_weighted_groups(\n",
    "        group_size=group_size,\n",
    "        num_of_groups_to_generate=num_of_groups_to_generate,\n",
    "        scaling_exponent=scaling_exponent,\n",
    "        scaling_width=0.1,\n",
    "        )\n",
    "\n"
   ]
  },
  {
   "cell_type": "markdown",
   "metadata": {},
   "source": [
    "---\n",
    "## Load the generated groups and analyze them"
   ]
  },
  {
   "cell_type": "code",
   "execution_count": 187,
   "metadata": {},
   "outputs": [],
   "source": [
    "import itertools\n",
    "\n",
    "def calculate_similarity_in_group(group, ratings_datasets):\n",
    "    similarities = []\n",
    "    for u1, u2 in itertools.combinations(group, 2):\n",
    "        u1_ratings = ratings_datasets.getrow(u1)\n",
    "        u2_ratings = ratings_datasets.getrow(u2)\n",
    "        similarity = calculate_similarity(u1_ratings, u2_ratings)\n",
    "        similarities.append(similarity)\n",
    "    return similarities\n",
    "\n",
    "def calculate_similarity_with_pivot(group, ratings_datasets):\n",
    "    similarities = []\n",
    "    # for u1, u2 in itertools.combinations(group, 2):\n",
    "    u2 = group[0]\n",
    "    u2_ratings = ratings_datasets.getrow(u2)\n",
    "    for u1 in group[1:]:\n",
    "        u1_ratings = ratings_datasets.getrow(u1)\n",
    "        similarity = calculate_similarity(u1_ratings, u2_ratings)\n",
    "        similarities.append(similarity)\n",
    "    # print(similarities)\n",
    "    return similarities\n",
    "\n",
    "def calculate_similarity_for_dataset(groups_dataset_df, ratings_sparse):\n",
    "    groups_similarities_means = []\n",
    "    groups_similarities_vars = []\n",
    "\n",
    "    group_similarities_pivot_mean = []\n",
    "    group_similarities_pivot_var = []\n",
    "\n",
    "    for row in tqdm(groups_dataset_df.itertuples(), total=groups_dataset_df.shape[0]):\n",
    "        group = list(row)[1:]\n",
    "        group_similarities = calculate_similarity_in_group(group, ratings_sparse)\n",
    "        # print(f\"Random group {group[1]} has similarities {group_similarities}\")\n",
    "        groups_similarities_means.append(np.mean(group_similarities))\n",
    "        groups_similarities_vars.append(np.var(group_similarities))\n",
    "\n",
    "        group_similarities_pivot = calculate_similarity_with_pivot(group, ratings_sparse)\n",
    "\n",
    "        group_similarities_pivot_mean.append(np.mean(group_similarities_pivot))\n",
    "        group_similarities_pivot_var.append(np.var(group_similarities_pivot))\n",
    "    \n",
    "    return groups_similarities_means, groups_similarities_vars, group_similarities_pivot_mean, group_similarities_pivot_var"
   ]
  },
  {
   "cell_type": "code",
   "execution_count": 188,
   "metadata": {},
   "outputs": [],
   "source": [
    "\n",
    "# for dataset_name, dataset_df, ratings_sparse in ratings_datasets_w_sparse:\n",
    "#     print(dataset_name)\n",
    "#     for type in ['random', 'weighted', 'top_k']:\n",
    "#         groups_df = pd.read_csv(os.path.join('dfs', 'groups', f'{type}_{num_of_groups_to_generate}_{dataset_name}.csv'))\n",
    "#         means, variances, pivot_means, pivot_vars = calculate_similarity_for_dataset(groups_df, ratings_sparse)\n",
    "\n",
    "#         print(f\"{type}\".ljust(9)+ f\" mean_mean {'{0:.4f}'.format(np.mean(means))} and mean_variance {'{0:.4f}'.format(np.mean(variances))}\")\n",
    "#     print()"
   ]
  },
  {
   "cell_type": "markdown",
   "metadata": {},
   "source": [
    "---\n",
    "# Visualize the weighted scaling parameter results"
   ]
  },
  {
   "cell_type": "code",
   "execution_count": 201,
   "metadata": {},
   "outputs": [
    {
     "name": "stdout",
     "output_type": "stream",
     "text": [
      "KGRec\n",
      "Processing: random_5\n"
     ]
    },
    {
     "name": "stderr",
     "output_type": "stream",
     "text": [
      "100%|██████████| 50/50 [00:00<00:00, 202.87it/s]\n"
     ]
    },
    {
     "name": "stdout",
     "output_type": "stream",
     "text": [
      "Processing: weighted_5_se:0.5\n"
     ]
    },
    {
     "name": "stderr",
     "output_type": "stream",
     "text": [
      "100%|██████████| 50/50 [00:00<00:00, 205.50it/s]\n"
     ]
    },
    {
     "name": "stdout",
     "output_type": "stream",
     "text": [
      "Processing: weighted_5_se:1\n"
     ]
    },
    {
     "name": "stderr",
     "output_type": "stream",
     "text": [
      "100%|██████████| 50/50 [00:00<00:00, 206.30it/s]\n"
     ]
    },
    {
     "name": "stdout",
     "output_type": "stream",
     "text": [
      "Processing: weighted_5_se:2\n"
     ]
    },
    {
     "name": "stderr",
     "output_type": "stream",
     "text": [
      "100%|██████████| 50/50 [00:00<00:00, 207.39it/s]\n"
     ]
    },
    {
     "name": "stdout",
     "output_type": "stream",
     "text": [
      "Processing: weighted_5_se:4\n"
     ]
    },
    {
     "name": "stderr",
     "output_type": "stream",
     "text": [
      "100%|██████████| 50/50 [00:00<00:00, 207.36it/s]\n"
     ]
    },
    {
     "name": "stdout",
     "output_type": "stream",
     "text": [
      "Processing: weighted_5_se:8\n"
     ]
    },
    {
     "name": "stderr",
     "output_type": "stream",
     "text": [
      "100%|██████████| 50/50 [00:00<00:00, 208.15it/s]\n"
     ]
    },
    {
     "name": "stdout",
     "output_type": "stream",
     "text": [
      "Processing: top_k_5\n"
     ]
    },
    {
     "name": "stderr",
     "output_type": "stream",
     "text": [
      "100%|██████████| 50/50 [00:00<00:00, 207.18it/s]\n"
     ]
    },
    {
     "name": "stdout",
     "output_type": "stream",
     "text": [
      "MovieLens\n",
      "Processing: random_5\n"
     ]
    },
    {
     "name": "stderr",
     "output_type": "stream",
     "text": [
      "100%|██████████| 50/50 [00:00<00:00, 158.75it/s]\n"
     ]
    },
    {
     "name": "stdout",
     "output_type": "stream",
     "text": [
      "Processing: weighted_5_se:0.5\n"
     ]
    },
    {
     "name": "stderr",
     "output_type": "stream",
     "text": [
      "100%|██████████| 50/50 [00:00<00:00, 157.74it/s]\n"
     ]
    },
    {
     "name": "stdout",
     "output_type": "stream",
     "text": [
      "Processing: weighted_5_se:1\n"
     ]
    },
    {
     "name": "stderr",
     "output_type": "stream",
     "text": [
      "100%|██████████| 50/50 [00:00<00:00, 158.01it/s]\n"
     ]
    },
    {
     "name": "stdout",
     "output_type": "stream",
     "text": [
      "Processing: weighted_5_se:2\n"
     ]
    },
    {
     "name": "stderr",
     "output_type": "stream",
     "text": [
      "100%|██████████| 50/50 [00:00<00:00, 157.21it/s]\n"
     ]
    },
    {
     "name": "stdout",
     "output_type": "stream",
     "text": [
      "Processing: weighted_5_se:4\n"
     ]
    },
    {
     "name": "stderr",
     "output_type": "stream",
     "text": [
      "100%|██████████| 50/50 [00:00<00:00, 157.23it/s]\n"
     ]
    },
    {
     "name": "stdout",
     "output_type": "stream",
     "text": [
      "Processing: weighted_5_se:8\n"
     ]
    },
    {
     "name": "stderr",
     "output_type": "stream",
     "text": [
      "100%|██████████| 50/50 [00:00<00:00, 156.01it/s]\n"
     ]
    },
    {
     "name": "stdout",
     "output_type": "stream",
     "text": [
      "Processing: top_k_5\n"
     ]
    },
    {
     "name": "stderr",
     "output_type": "stream",
     "text": [
      "100%|██████████| 50/50 [00:00<00:00, 158.27it/s]\n"
     ]
    },
    {
     "name": "stdout",
     "output_type": "stream",
     "text": [
      "Netflix\n",
      "Processing: random_5\n"
     ]
    },
    {
     "name": "stderr",
     "output_type": "stream",
     "text": [
      "100%|██████████| 50/50 [00:00<00:00, 191.02it/s]\n"
     ]
    },
    {
     "name": "stdout",
     "output_type": "stream",
     "text": [
      "Processing: weighted_5_se:0.5\n"
     ]
    },
    {
     "name": "stderr",
     "output_type": "stream",
     "text": [
      "100%|██████████| 50/50 [00:00<00:00, 191.92it/s]\n"
     ]
    },
    {
     "name": "stdout",
     "output_type": "stream",
     "text": [
      "Processing: weighted_5_se:1\n"
     ]
    },
    {
     "name": "stderr",
     "output_type": "stream",
     "text": [
      "100%|██████████| 50/50 [00:00<00:00, 189.06it/s]\n"
     ]
    },
    {
     "name": "stdout",
     "output_type": "stream",
     "text": [
      "Processing: weighted_5_se:2\n"
     ]
    },
    {
     "name": "stderr",
     "output_type": "stream",
     "text": [
      "100%|██████████| 50/50 [00:00<00:00, 177.62it/s]\n"
     ]
    },
    {
     "name": "stdout",
     "output_type": "stream",
     "text": [
      "Processing: weighted_5_se:4\n"
     ]
    },
    {
     "name": "stderr",
     "output_type": "stream",
     "text": [
      "100%|██████████| 50/50 [00:00<00:00, 187.82it/s]\n"
     ]
    },
    {
     "name": "stdout",
     "output_type": "stream",
     "text": [
      "Processing: weighted_5_se:8\n"
     ]
    },
    {
     "name": "stderr",
     "output_type": "stream",
     "text": [
      "100%|██████████| 50/50 [00:00<00:00, 188.83it/s]\n"
     ]
    },
    {
     "name": "stdout",
     "output_type": "stream",
     "text": [
      "Processing: top_k_5\n"
     ]
    },
    {
     "name": "stderr",
     "output_type": "stream",
     "text": [
      "100%|██████████| 50/50 [00:00<00:00, 190.95it/s]\n"
     ]
    },
    {
     "name": "stdout",
     "output_type": "stream",
     "text": [
      "Spotify\n",
      "Processing: random_5\n"
     ]
    },
    {
     "name": "stderr",
     "output_type": "stream",
     "text": [
      "100%|██████████| 50/50 [00:03<00:00, 13.11it/s]\n"
     ]
    },
    {
     "name": "stdout",
     "output_type": "stream",
     "text": [
      "Processing: weighted_5_se:0.5\n"
     ]
    },
    {
     "name": "stderr",
     "output_type": "stream",
     "text": [
      "100%|██████████| 50/50 [00:03<00:00, 13.01it/s]\n"
     ]
    },
    {
     "name": "stdout",
     "output_type": "stream",
     "text": [
      "Processing: weighted_5_se:1\n"
     ]
    },
    {
     "name": "stderr",
     "output_type": "stream",
     "text": [
      "100%|██████████| 50/50 [00:03<00:00, 13.13it/s]\n"
     ]
    },
    {
     "name": "stdout",
     "output_type": "stream",
     "text": [
      "Processing: weighted_5_se:2\n"
     ]
    },
    {
     "name": "stderr",
     "output_type": "stream",
     "text": [
      "100%|██████████| 50/50 [00:03<00:00, 13.25it/s]\n"
     ]
    },
    {
     "name": "stdout",
     "output_type": "stream",
     "text": [
      "Processing: weighted_5_se:4\n"
     ]
    },
    {
     "name": "stderr",
     "output_type": "stream",
     "text": [
      "100%|██████████| 50/50 [00:03<00:00, 13.24it/s]\n"
     ]
    },
    {
     "name": "stdout",
     "output_type": "stream",
     "text": [
      "Processing: weighted_5_se:8\n"
     ]
    },
    {
     "name": "stderr",
     "output_type": "stream",
     "text": [
      "100%|██████████| 50/50 [00:03<00:00, 13.13it/s]\n"
     ]
    },
    {
     "name": "stdout",
     "output_type": "stream",
     "text": [
      "Processing: top_k_5\n"
     ]
    },
    {
     "name": "stderr",
     "output_type": "stream",
     "text": [
      "100%|██████████| 50/50 [00:03<00:00, 13.21it/s]\n"
     ]
    }
   ],
   "source": [
    "group_size = 5\n",
    "load_group_size = 5\n",
    "\n",
    "file_names = [\n",
    "    (f'random_{group_size}', 'random_groups'),\n",
    "    *[(f'weighted_{group_size}_se:{exp}', f'weighted_groups_{exp}') for exp in [0.5, 1, 2, 4, 8]],\n",
    "    (f'top_k_{group_size}', 'top_k_groups')\n",
    "]\n",
    "\n",
    "\n",
    "results = []\n",
    "for dataset_name, dataset_df, ratings_sparse in ratings_datasets_w_sparse:\n",
    "    print(dataset_name)\n",
    "    for file_name, name in file_names:\n",
    "        print(f'Processing: {file_name}')\n",
    "        groups_df = pd.read_csv(os.path.join('dfs', 'groups', dataset_name , f'{file_name}.csv'))\n",
    "        groups_df = groups_df.iloc[:, :load_group_size]\n",
    "        assert len(groups_df.columns) == load_group_size\n",
    "        \n",
    "        means, variances, pivot_means, pivot_vars = calculate_similarity_for_dataset(groups_df, ratings_sparse)\n",
    "        # append the data to results\n",
    "        results.append({\n",
    "            'dataset_name': dataset_name,\n",
    "            'name': name,\n",
    "            'intergroup_means': means,\n",
    "            'intergroup_variances': variances,\n",
    "            'pivot_means': pivot_means,\n",
    "            'pivot_variances': pivot_vars\n",
    "        })\n",
    "        \n",
    "# create datafrale from results\n",
    "results_df = pd.DataFrame(results)\n",
    "# create dir\n",
    "if not os.path.exists('dfs/results'):\n",
    "    os.makedirs('dfs/results')\n",
    "results_df.to_csv(os.path.join('dfs', 'results', f'inter_group_means_{group_size}_{load_group_size}.csv'), index=False)"
   ]
  },
  {
   "cell_type": "code",
   "execution_count": 235,
   "metadata": {},
   "outputs": [
    {
     "data": {
      "image/png": "[encoded data removed]",
      "text/plain": [
       "<Figure size 400x750 with 4 Axes>"
      ]
     },
     "metadata": {
      "needs_background": "light"
     },
     "output_type": "display_data"
    }
   ],
   "source": [
    "matplotlib.rcParams.update({\n",
    "    'font.family': 'serif',\n",
    "    'text.usetex': True,\n",
    "    'pgf.rcfonts': False,\n",
    "    })\n",
    "\n",
    "import seaborn as sns\n",
    "\n",
    "results_df = pd.read_csv(os.path.join('dfs', 'results', 'inter_group_means_10_5.csv'))\n",
    "\n",
    "results_df['intergroup_variances'] = results_df['intergroup_variances'].apply(lambda x: list(eval(x)))\n",
    "results_df['intergroup_means'] = results_df['intergroup_means'].apply(lambda x: list(eval(x)))\n",
    "results_df['pivot_means'] = results_df['pivot_means'].apply(lambda x: list(eval(x)))\n",
    "results_df['pivot_variances'] = results_df['pivot_variances'].apply(lambda x: list(eval(x)))\n",
    "\n",
    "\n",
    "x_df = results_df[['dataset_name', 'name', 'intergroup_means']].explode('intergroup_means')\n",
    "x_df['intergroup_means'] = x_df['intergroup_means'].astype(float)\n",
    "\n",
    "\n",
    "# map names\n",
    "map_dict = {\n",
    "    'random_groups': 'Random',\n",
    "    'top_k_groups': 'Top-k'\n",
    "}\n",
    "exps = [0.5, 1, 2, 4, 8]\n",
    "for exp in exps:\n",
    "    exp_param = f'($M$={str(exp).strip(\"0\")})'\n",
    "    map_dict[f'weighted_groups_{exp}'] = f'PRS {exp_param}'\n",
    "x_df['name'] = x_df['name'].map(map_dict)\n",
    "\n",
    "colors = [\n",
    "    '#6C7985',\n",
    "    *sns.color_palette('Blues', n_colors=len(exps)).as_hex(),\n",
    "    '#FAC9B8',\n",
    "]\n",
    "\n",
    "\n",
    "fig, axs = plt.subplots(4, 1, figsize=(4, 7.5), dpi=100)\n",
    "# fig, axs = plt.subplots(2, 2, figsize=(5.7, 4), dpi=100)\n",
    "\n",
    "\n",
    "for i, dataset_name in enumerate(dataset_names):\n",
    "    ax = axs[i]\n",
    "    # ax = axs[i//2, i%2]\n",
    "\n",
    "    data=x_df[x_df['dataset_name'] == dataset_name]\n",
    "    sns.boxplot(y=\"name\", x=\"intergroup_means\",\n",
    "                data=data,\n",
    "                ax=ax, orient='h', width=.6, palette=colors, showfliers = False, linewidth=1)\n",
    "    ax.set_ylabel('')\n",
    "    # set title centered on the whole figure\n",
    "    ax.set_title(dataset_name, loc='center', fontsize=12)\n",
    "\n",
    "    sns.despine(offset=2, trim=True, ax=ax)\n",
    "\n",
    "    ax.set_xlabel('Mean inter-group similarity')\n",
    "    # if(i == len(dataset_names) - 1):\n",
    "    #     ax.set_xlabel('Mean intergroup similarity')\n",
    "    # else:\n",
    "    #     ax.set_xlabel('')\n",
    "\n",
    "\n",
    "plt.suptitle('Comparison of group creation methods', fontsize=14, y=0.98)\n",
    "plt.tight_layout()\n",
    "# plt.savefig(os.path.join('..', 'figures', 'inter_group_means.png'), dpi=300)\n",
    "plt.savefig(os.path.join('..', 'figures', 'inter_group_means.pdf'), bbox_inches = 'tight', pad_inches=0.02)"
   ]
  },
  {
   "cell_type": "code",
   "execution_count": null,
   "metadata": {},
   "outputs": [],
   "source": []
  }
 ],
 "metadata": {
  "kernelspec": {
   "display_name": "Python 3.10.4 ('.venv': poetry)",
   "language": "python",
   "name": "python3"
  },
  "language_info": {
   "codemirror_mode": {
    "name": "ipython",
    "version": 3
   },
   "file_extension": ".py",
   "mimetype": "text/x-python",
   "name": "python",
   "nbconvert_exporter": "python",
   "pygments_lexer": "ipython3",
   "version": "3.9.13"
  },
  "orig_nbformat": 4,
  "vscode": {
   "interpreter": {
    "hash": "72e4c8b5f0869b81e3c54c1a9c17a5176fed7dccc000e70ae85e6cab596ae0d3"
   }
  }
 },
 "nbformat": 4,
 "nbformat_minor": 2
}
