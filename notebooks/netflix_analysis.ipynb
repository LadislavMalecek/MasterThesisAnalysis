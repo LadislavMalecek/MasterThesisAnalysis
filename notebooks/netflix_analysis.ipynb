{
 "cells": [
  {
   "cell_type": "code",
   "execution_count": null,
   "metadata": {},
   "outputs": [],
   "source": [
    "import pandas as pd"
   ]
  },
  {
   "cell_type": "code",
   "execution_count": null,
   "metadata": {},
   "outputs": [],
   "source": [
    "ratings_df = pd.read_csv(f'datasets/netflix/ratings.csv.gz')\n",
    "ratings_df"
   ]
  },
  {
   "cell_type": "code",
   "execution_count": null,
   "metadata": {},
   "outputs": [],
   "source": [
    "movies_df = pd.read_csv(f'datasets/netflix/movies.csv.gz')\n",
    "movies_df"
   ]
  },
  {
   "cell_type": "code",
   "execution_count": null,
   "metadata": {},
   "outputs": [],
   "source": [
    "num_of_users = ratings_df['user_id'].nunique()\n",
    "num_of_movies = ratings_df['movie_id'].nunique()\n",
    "num_of_ratings = ratings_df.shape[0]\n",
    "ratings = ratings_df['rating'].unique()\n",
    "ratings.sort()\n",
    "print(f'# users: {num_of_users}')\n",
    "print(f'# movies: {num_of_movies}')\n",
    "print(f'# ratings: {num_of_ratings}')\n",
    "print(ratings)"
   ]
  },
  {
   "cell_type": "code",
   "execution_count": null,
   "metadata": {},
   "outputs": [],
   "source": [
    "users_ratings = ratings_df.groupby('user_id').agg(\n",
    "    rating_count=('rating', 'count'),\n",
    "    rating_mean=('rating', 'mean'),\n",
    "    # rating_std=('rating', 'std'),\n",
    "    rating_var=('rating', 'var')\n",
    ")\n",
    "users_ratings.reset_index(inplace=True)\n",
    "users_ratings.head()\n"
   ]
  },
  {
   "cell_type": "code",
   "execution_count": null,
   "metadata": {},
   "outputs": [],
   "source": [
    "sorted = users_ratings.sort_values(by='rating_count')\n",
    "sorted['cumulative_rating_count'] = sorted['rating_count'].cumsum()\n",
    "sorted.reset_index(inplace=True)\n",
    "sorted\n",
    "sorted.plot.line(y='cumulative_rating_count')"
   ]
  },
  {
   "cell_type": "code",
   "execution_count": null,
   "metadata": {},
   "outputs": [],
   "source": [
    "# group_by_num_ratings['total_ratings'] = group_by_num_ratings['count'] * group_by_num_ratings['mean']\n",
    "# variances and means are uncorelated, and the users that we aggregate have the same amount of ratings\n",
    "# therefore we can aggregate their mean and variance\n",
    "group_by_num_ratings = users_ratings.groupby('rating_count').agg(\n",
    "    group_size=('rating_count', 'size'),\n",
    "    group_rating_mean=('rating_mean', 'mean'),\n",
    "    group_rating_var=('rating_var', 'mean')\n",
    ")\n",
    "group_by_num_ratings.reset_index(inplace=True)\n",
    "group_by_num_ratings['total_ratings'] = group_by_num_ratings['group_size'] * group_by_num_ratings['rating_count']\n",
    "group_by_num_ratings\n",
    "# group_by_num_ratings.head()\n",
    "# user_ratings_groups = pd.cut(users_ratings['count'], bins=10)\n",
    "# user_ratings_groups.head()"
   ]
  },
  {
   "cell_type": "code",
   "execution_count": null,
   "metadata": {},
   "outputs": [],
   "source": [
    "# group_by_num_ratings.describe()\n",
    "limit_to_max_1000_ratings = group_by_num_ratings.where(group_by_num_ratings['rating_count'] < 10000)\n",
    "limit_to_max_1000_ratings['cumulative_total_ratings'] = limit_to_max_1000_ratings['total_ratings'].cumsum()\n",
    "limit_to_max_1000_ratings['cumulative_group_size'] = limit_to_max_1000_ratings['group_size'].cumsum()\n",
    "# limit_to_max_1000_ratings['cumulative_total_ratings_sqrt'] = limit_to_max_1000_ratings['cumulative_total_ratings']\n",
    "# group_by_num_ratings['cumulative_total_ratings']\n",
    "limit_to_max_1000_ratings.plot.line(x='rating_count', y =['total_ratings'])"
   ]
  },
  {
   "cell_type": "code",
   "execution_count": null,
   "metadata": {},
   "outputs": [],
   "source": [
    "ratings_df.head()\n",
    "users_ratings = ratings_df.groupby('userId').agg({'rating': ['count', 'mean']})\n",
    "group_by_num_of_ratings =\n",
    "users_ratings.head()\n",
    "\n",
    "\n",
    "# unique, counts = np.unique(users_ratings, return_counts=True)\n",
    "# df = pd.DataFrame({'how_many_rated': unique, 'user_count': counts})\n",
    "# df['total_ratings'] = df['how_many_rated'] * df['user_count']\n",
    "# df.head()\n",
    "# ratings_distribution = [(u_item, u_item * c_item) for u_item, c_item in zip(unique, counts) if c_item < 10000]\n",
    "# ratings_distribution = pd.DataFrame(ratings_distribution, columns=['ratedCount', 'totalRatingsForGroup'])\n",
    "\n",
    "# ratings_distribution.plot.scatter(x='ratedCount', y='totalRatingsForGroup')\n",
    "\n",
    "\n",
    "# num_with_ratings = pd.DataFrame(zip(unique, counts), columns=['ratedCount', 'numUsers'])\n",
    "# num_with_ratings.head()\n",
    "# num_with_ratings.plot(x='ratedCount', y='numUsers')\n",
    "\n",
    "# num_users_with_num_ratings = users_ratings.groupby().size()\n",
    "# num_users_with_num_ratings.sort()\n",
    "# num_users_with_num_ratings"
   ]
  }
 ],
 "metadata": {
  "interpreter": {
   "hash": "72e4c8b5f0869b81e3c54c1a9c17a5176fed7dccc000e70ae85e6cab596ae0d3"
  },
  "kernelspec": {
   "display_name": "Python 3.10.2 ('.venv': poetry)",
   "language": "python",
   "name": "python3"
  },
  "language_info": {
   "codemirror_mode": {
    "name": "ipython",
    "version": 3
   },
   "file_extension": ".py",
   "mimetype": "text/x-python",
   "name": "python",
   "nbconvert_exporter": "python",
   "pygments_lexer": "ipython3",
   "version": "3.10.4"
  },
  "orig_nbformat": 4
 },
 "nbformat": 4,
 "nbformat_minor": 2
}
