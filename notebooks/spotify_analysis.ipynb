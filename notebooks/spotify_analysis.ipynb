{
 "cells": [
  {
   "cell_type": "code",
   "execution_count": null,
   "metadata": {},
   "outputs": [],
   "source": [
    "import os, sys\n",
    "sys.path.insert(0, os.getcwd()+ '/..') \n",
    "\n",
    "import pandas as pd\n",
    "import json\n",
    "from collections import namedtuple\n",
    "\n",
    "from gather_datasets.utils import get_files\n",
    "from sys import getsizeof\n",
    "\n",
    "from tqdm import tqdm"
   ]
  },
  {
   "cell_type": "code",
   "execution_count": null,
   "metadata": {},
   "outputs": [],
   "source": [
    "ratings_df = pd.read_csv(f'../datasets/spotify/ratings.csv.gz')\n",
    "ratings_df"
   ]
  },
  {
   "cell_type": "code",
   "execution_count": null,
   "metadata": {},
   "outputs": [],
   "source": [
    "tracks_df = pd.read_csv(f'../datasets/spotify/tracks.csv.gz')"
   ]
  },
  {
   "cell_type": "code",
   "execution_count": null,
   "metadata": {},
   "outputs": [],
   "source": [
    "pd.set_option('display.width', 300)\n",
    "tracks_df"
   ]
  },
  {
   "cell_type": "code",
   "execution_count": null,
   "metadata": {},
   "outputs": [],
   "source": [
    "TrackInfo = namedtuple('TrackInfo', ['track_id', 'track_uri', 'track_name', 'artist_uri', 'artist_name', 'album_uri'])\n",
    "\n",
    "tracks = {}\n",
    "playlists = []\n",
    "additional_playlist_info = []\n",
    "\n",
    "next_id = 0\n",
    "\n",
    "for file in tqdm(get_files('../datasets/downloads/spotify/data')):\n",
    "    with open(file, 'r') as f:\n",
    "        data = json.load(f)\n",
    "        playlists_data = data['playlists']\n",
    "        for playlist in playlists_data:\n",
    "            \n",
    "            pid = playlist['pid']\n",
    "            timestamp = playlist['modified_at']\n",
    "            collaborative = playlist['collaborative'] == 'true'\n",
    "            additional_playlist_info.append((pid, timestamp, collaborative))\n",
    "\n",
    "            tracks_data = playlist['tracks']\n",
    "            for track in tracks_data:\n",
    "                track_uri = track['track_uri']\n",
    "                \n",
    "                id = None\n",
    "                if track_uri in tracks:\n",
    "                    id = tracks[track_uri].track_id\n",
    "                else:\n",
    "                    id = next_id\n",
    "                    next_id += 1\n",
    "                    tracks[track_uri] = TrackInfo(id, track_uri, track['track_name'], track['artist_uri'], track['artist_name'], track['album_uri'])\n",
    "                playlists.append((pid, id))"
   ]
  },
  {
   "cell_type": "code",
   "execution_count": null,
   "metadata": {},
   "outputs": [],
   "source": [
    "playlists_df = pd.DataFrame.from_records(additional_playlist_info, columns=['playlist_id', 'timestamp', 'collaborative'])\n",
    "\n",
    "ratings_df = pd.DataFrame.from_records(playlists, columns=['playlist_id', 'track_id'])\n",
    "\n",
    "tracks_df = pd.DataFrame.from_records(list(tracks.values()), columns=TrackInfo._fields)\n",
    "tracks_df.reset_index(inplace=True, drop=True)\n",
    "tracks_df.set_index('track_id', inplace=True)\n"
   ]
  },
  {
   "cell_type": "code",
   "execution_count": null,
   "metadata": {},
   "outputs": [],
   "source": [
    "playlists_df.info()"
   ]
  },
  {
   "cell_type": "code",
   "execution_count": null,
   "metadata": {},
   "outputs": [],
   "source": [
    "value_counts = playlists_df['collaborative'].value_counts()\n",
    "print(f'Collaborative playlists ratio percent: {value_counts[True] / value_counts[False] * 100}%')"
   ]
  },
  {
   "cell_type": "code",
   "execution_count": null,
   "metadata": {},
   "outputs": [],
   "source": [
    "print(f'Number of ratings: {len(ratings_df)}')"
   ]
  },
  {
   "cell_type": "code",
   "execution_count": null,
   "metadata": {},
   "outputs": [],
   "source": [
    "print(f'Number of items: {len(tracks)}')"
   ]
  },
  {
   "cell_type": "code",
   "execution_count": null,
   "metadata": {},
   "outputs": [],
   "source": [
    "# size = getsizeof(tracks)\n",
    "# size += sum(map(getsizeof, tracks.values())) + sum(map(getsizeof, tracks.keys()))\n",
    "# print(f'{size/1024/1024} MB')\n"
   ]
  },
  {
   "cell_type": "code",
   "execution_count": null,
   "metadata": {},
   "outputs": [],
   "source": [
    "# size = getsizeof(playlists)\n",
    "# print(f'{size/1024/1024} MB')"
   ]
  },
  {
   "cell_type": "code",
   "execution_count": null,
   "metadata": {},
   "outputs": [],
   "source": [
    "# print(ratings_df.info())\n",
    "# print(tracks_df.info())"
   ]
  },
  {
   "cell_type": "code",
   "execution_count": null,
   "metadata": {},
   "outputs": [],
   "source": [
    "# tracks_df"
   ]
  },
  {
   "cell_type": "code",
   "execution_count": null,
   "metadata": {},
   "outputs": [],
   "source": [
    "# ratings_df"
   ]
  },
  {
   "cell_type": "code",
   "execution_count": null,
   "metadata": {},
   "outputs": [],
   "source": [
    "# ratings_df['pid'].nunique()"
   ]
  },
  {
   "cell_type": "code",
   "execution_count": null,
   "metadata": {},
   "outputs": [],
   "source": []
  }
 ],
 "metadata": {
  "interpreter": {
   "hash": "72e4c8b5f0869b81e3c54c1a9c17a5176fed7dccc000e70ae85e6cab596ae0d3"
  },
  "kernelspec": {
   "display_name": "Python 3.10.4 ('.venv': poetry)",
   "language": "python",
   "name": "python3"
  },
  "language_info": {
   "codemirror_mode": {
    "name": "ipython",
    "version": 3
   },
   "file_extension": ".py",
   "mimetype": "text/x-python",
   "name": "python",
   "nbconvert_exporter": "python",
   "pygments_lexer": "ipython3",
   "version": "3.8.13"
  },
  "orig_nbformat": 4
 },
 "nbformat": 4,
 "nbformat_minor": 2
}
