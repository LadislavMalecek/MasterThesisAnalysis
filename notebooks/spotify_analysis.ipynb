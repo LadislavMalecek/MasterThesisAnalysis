{
 "cells": [
  {
   "attachments": {},
   "cell_type": "markdown",
   "metadata": {},
   "source": [
    "# This notebook has been created to analyze the Spotify dataset"
   ]
  },
  {
   "cell_type": "code",
   "execution_count": 11,
   "metadata": {},
   "outputs": [],
   "source": [
    "import os, sys\n",
    "sys.path.insert(0, os.getcwd()+ '/..') \n",
    "\n",
    "import pandas as pd\n",
    "import json\n",
    "from collections import namedtuple\n",
    "\n",
    "from gather_datasets.utils import get_files\n",
    "from sys import getsizeof\n",
    "\n",
    "from tqdm import tqdm"
   ]
  },
  {
   "cell_type": "code",
   "execution_count": 12,
   "metadata": {},
   "outputs": [
    {
     "data": {
      "text/html": [
       "<div>\n",
       "<style scoped>\n",
       "    .dataframe tbody tr th:only-of-type {\n",
       "        vertical-align: middle;\n",
       "    }\n",
       "\n",
       "    .dataframe tbody tr th {\n",
       "        vertical-align: top;\n",
       "    }\n",
       "\n",
       "    .dataframe thead th {\n",
       "        text-align: right;\n",
       "    }\n",
       "</style>\n",
       "<table border=\"1\" class=\"dataframe\">\n",
       "  <thead>\n",
       "    <tr style=\"text-align: right;\">\n",
       "      <th></th>\n",
       "      <th>playlist_id</th>\n",
       "      <th>item_id</th>\n",
       "    </tr>\n",
       "  </thead>\n",
       "  <tbody>\n",
       "    <tr>\n",
       "      <th>0</th>\n",
       "      <td>549000</td>\n",
       "      <td>0</td>\n",
       "    </tr>\n",
       "    <tr>\n",
       "      <th>1</th>\n",
       "      <td>549000</td>\n",
       "      <td>1</td>\n",
       "    </tr>\n",
       "    <tr>\n",
       "      <th>2</th>\n",
       "      <td>549000</td>\n",
       "      <td>2</td>\n",
       "    </tr>\n",
       "    <tr>\n",
       "      <th>3</th>\n",
       "      <td>549000</td>\n",
       "      <td>3</td>\n",
       "    </tr>\n",
       "    <tr>\n",
       "      <th>4</th>\n",
       "      <td>549000</td>\n",
       "      <td>4</td>\n",
       "    </tr>\n",
       "    <tr>\n",
       "      <th>...</th>\n",
       "      <td>...</td>\n",
       "      <td>...</td>\n",
       "    </tr>\n",
       "    <tr>\n",
       "      <th>66346423</th>\n",
       "      <td>302999</td>\n",
       "      <td>399233</td>\n",
       "    </tr>\n",
       "    <tr>\n",
       "      <th>66346424</th>\n",
       "      <td>302999</td>\n",
       "      <td>11291</td>\n",
       "    </tr>\n",
       "    <tr>\n",
       "      <th>66346425</th>\n",
       "      <td>302999</td>\n",
       "      <td>93795</td>\n",
       "    </tr>\n",
       "    <tr>\n",
       "      <th>66346426</th>\n",
       "      <td>302999</td>\n",
       "      <td>133087</td>\n",
       "    </tr>\n",
       "    <tr>\n",
       "      <th>66346427</th>\n",
       "      <td>302999</td>\n",
       "      <td>133088</td>\n",
       "    </tr>\n",
       "  </tbody>\n",
       "</table>\n",
       "<p>66346428 rows × 2 columns</p>\n",
       "</div>"
      ],
      "text/plain": [
       "          playlist_id  item_id\n",
       "0              549000        0\n",
       "1              549000        1\n",
       "2              549000        2\n",
       "3              549000        3\n",
       "4              549000        4\n",
       "...               ...      ...\n",
       "66346423       302999   399233\n",
       "66346424       302999    11291\n",
       "66346425       302999    93795\n",
       "66346426       302999   133087\n",
       "66346427       302999   133088\n",
       "\n",
       "[66346428 rows x 2 columns]"
      ]
     },
     "execution_count": 12,
     "metadata": {},
     "output_type": "execute_result"
    }
   ],
   "source": [
    "ratings_df = pd.read_csv(f'../datasets/spotify/ratings.csv.gz')\n",
    "ratings_df"
   ]
  },
  {
   "cell_type": "code",
   "execution_count": 13,
   "metadata": {},
   "outputs": [],
   "source": [
    "tracks_df = pd.read_csv(f'../datasets/spotify/tracks.csv.gz')"
   ]
  },
  {
   "cell_type": "code",
   "execution_count": 14,
   "metadata": {},
   "outputs": [
    {
     "data": {
      "text/html": [
       "<div>\n",
       "<style scoped>\n",
       "    .dataframe tbody tr th:only-of-type {\n",
       "        vertical-align: middle;\n",
       "    }\n",
       "\n",
       "    .dataframe tbody tr th {\n",
       "        vertical-align: top;\n",
       "    }\n",
       "\n",
       "    .dataframe thead th {\n",
       "        text-align: right;\n",
       "    }\n",
       "</style>\n",
       "<table border=\"1\" class=\"dataframe\">\n",
       "  <thead>\n",
       "    <tr style=\"text-align: right;\">\n",
       "      <th></th>\n",
       "      <th>item_id</th>\n",
       "      <th>item_uri</th>\n",
       "      <th>item_name</th>\n",
       "      <th>artist_uri</th>\n",
       "      <th>artist_name</th>\n",
       "      <th>album_uri</th>\n",
       "    </tr>\n",
       "  </thead>\n",
       "  <tbody>\n",
       "    <tr>\n",
       "      <th>0</th>\n",
       "      <td>0</td>\n",
       "      <td>spotify:track:6QHYEZlm9wyfXfEM1vSu1P</td>\n",
       "      <td>Boots of Spanish Leather</td>\n",
       "      <td>spotify:artist:74ASZWbe4lXaubB36ztrGX</td>\n",
       "      <td>Bob Dylan</td>\n",
       "      <td>spotify:album:7DZeLXvr9eTVpyI1OlqtcS</td>\n",
       "    </tr>\n",
       "    <tr>\n",
       "      <th>1</th>\n",
       "      <td>1</td>\n",
       "      <td>spotify:track:3RkQ3UwOyPqpIiIvGVewuU</td>\n",
       "      <td>Mr. Tambourine Man</td>\n",
       "      <td>spotify:artist:74ASZWbe4lXaubB36ztrGX</td>\n",
       "      <td>Bob Dylan</td>\n",
       "      <td>spotify:album:1lPoRKSgZHQAYXxzBsOQ7v</td>\n",
       "    </tr>\n",
       "    <tr>\n",
       "      <th>2</th>\n",
       "      <td>2</td>\n",
       "      <td>spotify:track:0ju1jP0cSPJ8tmojYBEI89</td>\n",
       "      <td>Danny's Song</td>\n",
       "      <td>spotify:artist:7emRV8AluG3d4e5T0DZiK9</td>\n",
       "      <td>Loggins &amp; Messina</td>\n",
       "      <td>spotify:album:5BWgJaesMjpJWCTU9sgUPf</td>\n",
       "    </tr>\n",
       "    <tr>\n",
       "      <th>3</th>\n",
       "      <td>3</td>\n",
       "      <td>spotify:track:7ny2ATvjtKszCpLpfsGnVQ</td>\n",
       "      <td>A Hard Rain's A-Gonna Fall</td>\n",
       "      <td>spotify:artist:74ASZWbe4lXaubB36ztrGX</td>\n",
       "      <td>Bob Dylan</td>\n",
       "      <td>spotify:album:0o1uFxZ1VTviqvNaYkTJek</td>\n",
       "    </tr>\n",
       "    <tr>\n",
       "      <th>4</th>\n",
       "      <td>4</td>\n",
       "      <td>spotify:track:18GiV1BaXzPVYpp9rmOg0E</td>\n",
       "      <td>Blowin' In the Wind</td>\n",
       "      <td>spotify:artist:74ASZWbe4lXaubB36ztrGX</td>\n",
       "      <td>Bob Dylan</td>\n",
       "      <td>spotify:album:0o1uFxZ1VTviqvNaYkTJek</td>\n",
       "    </tr>\n",
       "    <tr>\n",
       "      <th>...</th>\n",
       "      <td>...</td>\n",
       "      <td>...</td>\n",
       "      <td>...</td>\n",
       "      <td>...</td>\n",
       "      <td>...</td>\n",
       "      <td>...</td>\n",
       "    </tr>\n",
       "    <tr>\n",
       "      <th>2262287</th>\n",
       "      <td>2262287</td>\n",
       "      <td>spotify:track:2wBZrBqWQ4eIhShITfUJ4c</td>\n",
       "      <td>My Favourite Muse</td>\n",
       "      <td>spotify:artist:6g8Jqb5JMfv92eB2r0awTN</td>\n",
       "      <td>Arab Strap</td>\n",
       "      <td>spotify:album:7maGHx2VJGTBPczcWT9JVm</td>\n",
       "    </tr>\n",
       "    <tr>\n",
       "      <th>2262288</th>\n",
       "      <td>2262288</td>\n",
       "      <td>spotify:track:2t7fotSpsiWHpSTySbSNZg</td>\n",
       "      <td>The Stars and Stripes Forever</td>\n",
       "      <td>spotify:artist:0LyfQWJT6nXafLPZqxe9Of</td>\n",
       "      <td>Various Artists</td>\n",
       "      <td>spotify:album:5HuTwuPKjQKNpmLmmi4Njx</td>\n",
       "    </tr>\n",
       "    <tr>\n",
       "      <th>2262289</th>\n",
       "      <td>2262289</td>\n",
       "      <td>spotify:track:0EW4RltERtn276lOi0DXQj</td>\n",
       "      <td>Killer</td>\n",
       "      <td>spotify:artist:6x3HJm6n40OUW2ZcmttBxQ</td>\n",
       "      <td>Faragó</td>\n",
       "      <td>spotify:album:5aauU2AK4iG01BxIchws8Q</td>\n",
       "    </tr>\n",
       "    <tr>\n",
       "      <th>2262290</th>\n",
       "      <td>2262290</td>\n",
       "      <td>spotify:track:5RiCId3jJs8D9g6Fv4A1Su</td>\n",
       "      <td>Robin Hood</td>\n",
       "      <td>spotify:artist:4UrrAgW6WW7UfZ760eyHe7</td>\n",
       "      <td>Crazy Fool</td>\n",
       "      <td>spotify:album:2MUG8V88S5mazH8n45AKuZ</td>\n",
       "    </tr>\n",
       "    <tr>\n",
       "      <th>2262291</th>\n",
       "      <td>2262291</td>\n",
       "      <td>spotify:track:6JVPoZpUZZJSQ39vsXhmcD</td>\n",
       "      <td>Guilttrip</td>\n",
       "      <td>spotify:artist:1Hv1EPuWXNVIQP4QVad7wH</td>\n",
       "      <td>Ace Reporter</td>\n",
       "      <td>spotify:album:7ohtvyVWbnRzFSdK31anNr</td>\n",
       "    </tr>\n",
       "  </tbody>\n",
       "</table>\n",
       "<p>2262292 rows × 6 columns</p>\n",
       "</div>"
      ],
      "text/plain": [
       "         item_id                              item_uri                      item_name                             artist_uri        artist_name                             album_uri\n",
       "0              0  spotify:track:6QHYEZlm9wyfXfEM1vSu1P       Boots of Spanish Leather  spotify:artist:74ASZWbe4lXaubB36ztrGX          Bob Dylan  spotify:album:7DZeLXvr9eTVpyI1OlqtcS\n",
       "1              1  spotify:track:3RkQ3UwOyPqpIiIvGVewuU             Mr. Tambourine Man  spotify:artist:74ASZWbe4lXaubB36ztrGX          Bob Dylan  spotify:album:1lPoRKSgZHQAYXxzBsOQ7v\n",
       "2              2  spotify:track:0ju1jP0cSPJ8tmojYBEI89                   Danny's Song  spotify:artist:7emRV8AluG3d4e5T0DZiK9  Loggins & Messina  spotify:album:5BWgJaesMjpJWCTU9sgUPf\n",
       "3              3  spotify:track:7ny2ATvjtKszCpLpfsGnVQ     A Hard Rain's A-Gonna Fall  spotify:artist:74ASZWbe4lXaubB36ztrGX          Bob Dylan  spotify:album:0o1uFxZ1VTviqvNaYkTJek\n",
       "4              4  spotify:track:18GiV1BaXzPVYpp9rmOg0E            Blowin' In the Wind  spotify:artist:74ASZWbe4lXaubB36ztrGX          Bob Dylan  spotify:album:0o1uFxZ1VTviqvNaYkTJek\n",
       "...          ...                                   ...                            ...                                    ...                ...                                   ...\n",
       "2262287  2262287  spotify:track:2wBZrBqWQ4eIhShITfUJ4c              My Favourite Muse  spotify:artist:6g8Jqb5JMfv92eB2r0awTN         Arab Strap  spotify:album:7maGHx2VJGTBPczcWT9JVm\n",
       "2262288  2262288  spotify:track:2t7fotSpsiWHpSTySbSNZg  The Stars and Stripes Forever  spotify:artist:0LyfQWJT6nXafLPZqxe9Of    Various Artists  spotify:album:5HuTwuPKjQKNpmLmmi4Njx\n",
       "2262289  2262289  spotify:track:0EW4RltERtn276lOi0DXQj                         Killer  spotify:artist:6x3HJm6n40OUW2ZcmttBxQ             Faragó  spotify:album:5aauU2AK4iG01BxIchws8Q\n",
       "2262290  2262290  spotify:track:5RiCId3jJs8D9g6Fv4A1Su                     Robin Hood  spotify:artist:4UrrAgW6WW7UfZ760eyHe7         Crazy Fool  spotify:album:2MUG8V88S5mazH8n45AKuZ\n",
       "2262291  2262291  spotify:track:6JVPoZpUZZJSQ39vsXhmcD                      Guilttrip  spotify:artist:1Hv1EPuWXNVIQP4QVad7wH       Ace Reporter  spotify:album:7ohtvyVWbnRzFSdK31anNr\n",
       "\n",
       "[2262292 rows x 6 columns]"
      ]
     },
     "execution_count": 14,
     "metadata": {},
     "output_type": "execute_result"
    }
   ],
   "source": [
    "pd.set_option('display.width', 300)\n",
    "tracks_df"
   ]
  },
  {
   "cell_type": "code",
   "execution_count": 15,
   "metadata": {},
   "outputs": [
    {
     "name": "stderr",
     "output_type": "stream",
     "text": [
      "100%|██████████| 1000/1000 [02:48<00:00,  5.94it/s]\n"
     ]
    }
   ],
   "source": [
    "TrackInfo = namedtuple('TrackInfo', ['track_id', 'track_uri', 'track_name', 'artist_uri', 'artist_name', 'album_uri'])\n",
    "\n",
    "tracks = {}\n",
    "playlists = []\n",
    "additional_playlist_info = []\n",
    "\n",
    "next_id = 0\n",
    "\n",
    "for file in tqdm(get_files('../datasets/downloads/spotify/data')):\n",
    "    with open(file, 'r') as f:\n",
    "        data = json.load(f)\n",
    "        playlists_data = data['playlists']\n",
    "        for playlist in playlists_data:\n",
    "            \n",
    "            pid = playlist['pid']\n",
    "            timestamp = playlist['modified_at']\n",
    "            collaborative = playlist['collaborative'] == 'true'\n",
    "            additional_playlist_info.append((pid, timestamp, collaborative))\n",
    "\n",
    "            tracks_data = playlist['tracks']\n",
    "            for track in tracks_data:\n",
    "                track_uri = track['track_uri']\n",
    "                \n",
    "                id = None\n",
    "                if track_uri in tracks:\n",
    "                    id = tracks[track_uri].track_id\n",
    "                else:\n",
    "                    id = next_id\n",
    "                    next_id += 1\n",
    "                    tracks[track_uri] = TrackInfo(id, track_uri, track['track_name'], track['artist_uri'], track['artist_name'], track['album_uri'])\n",
    "                playlists.append((pid, id))"
   ]
  },
  {
   "cell_type": "code",
   "execution_count": 16,
   "metadata": {},
   "outputs": [],
   "source": [
    "playlists_df = pd.DataFrame.from_records(additional_playlist_info, columns=['playlist_id', 'timestamp', 'collaborative'])\n",
    "\n",
    "ratings_df = pd.DataFrame.from_records(playlists, columns=['playlist_id', 'track_id'])\n",
    "\n",
    "tracks_df = pd.DataFrame.from_records(list(tracks.values()), columns=TrackInfo._fields)\n",
    "tracks_df.reset_index(inplace=True, drop=True)\n",
    "tracks_df.set_index('track_id', inplace=True)\n"
   ]
  },
  {
   "cell_type": "code",
   "execution_count": 17,
   "metadata": {},
   "outputs": [
    {
     "name": "stdout",
     "output_type": "stream",
     "text": [
      "<class 'pandas.core.frame.DataFrame'>\n",
      "RangeIndex: 1000000 entries, 0 to 999999\n",
      "Data columns (total 3 columns):\n",
      " #   Column         Non-Null Count    Dtype\n",
      "---  ------         --------------    -----\n",
      " 0   playlist_id    1000000 non-null  int64\n",
      " 1   timestamp      1000000 non-null  int64\n",
      " 2   collaborative  1000000 non-null  bool \n",
      "dtypes: bool(1), int64(2)\n",
      "memory usage: 16.2 MB\n"
     ]
    }
   ],
   "source": [
    "playlists_df.info()"
   ]
  },
  {
   "cell_type": "code",
   "execution_count": 18,
   "metadata": {},
   "outputs": [
    {
     "name": "stdout",
     "output_type": "stream",
     "text": [
      "Collaborative playlists ratio percent: 2.3090120939483194%\n"
     ]
    }
   ],
   "source": [
    "value_counts = playlists_df['collaborative'].value_counts()\n",
    "print(f'Collaborative playlists ratio percent: {value_counts[True] / value_counts[False] * 100}%')"
   ]
  },
  {
   "cell_type": "code",
   "execution_count": 19,
   "metadata": {},
   "outputs": [
    {
     "name": "stdout",
     "output_type": "stream",
     "text": [
      "Number of ratings: 66346428\n"
     ]
    }
   ],
   "source": [
    "print(f'Number of ratings: {len(ratings_df)}')"
   ]
  },
  {
   "cell_type": "code",
   "execution_count": 20,
   "metadata": {},
   "outputs": [
    {
     "name": "stdout",
     "output_type": "stream",
     "text": [
      "Number of items: 2262292\n"
     ]
    }
   ],
   "source": [
    "print(f'Number of items: {len(tracks)}')"
   ]
  }
 ],
 "metadata": {
  "interpreter": {
   "hash": "72e4c8b5f0869b81e3c54c1a9c17a5176fed7dccc000e70ae85e6cab596ae0d3"
  },
  "kernelspec": {
   "display_name": "Python 3.10.4 ('.venv': poetry)",
   "language": "python",
   "name": "python3"
  },
  "language_info": {
   "codemirror_mode": {
    "name": "ipython",
    "version": 3
   },
   "file_extension": ".py",
   "mimetype": "text/x-python",
   "name": "python",
   "nbconvert_exporter": "python",
   "pygments_lexer": "ipython3",
   "version": "3.9.13"
  },
  "orig_nbformat": 4
 },
 "nbformat": 4,
 "nbformat_minor": 2
}
