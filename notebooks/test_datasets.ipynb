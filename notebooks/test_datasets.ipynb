{
 "cells": [
  {
   "cell_type": "code",
   "execution_count": 1,
   "metadata": {},
   "outputs": [],
   "source": [
    "import pandas as pd\n",
    "import numpy as np\n",
    "import matplotlib.pyplot as plt\n",
    "import seaborn as sns\n",
    "import os\n",
    "import sys\n",
    "import random\n",
    "import time\n",
    "from tqdm import tqdm\n"
   ]
  },
  {
   "cell_type": "code",
   "execution_count": 2,
   "metadata": {},
   "outputs": [],
   "source": [
    "ml_df = pd.read_csv('../datasets/movie_lens/ratings.csv.gz')\n",
    "kgrec_music_df = pd.read_csv('../datasets/kgrec/music_ratings.csv.gz')\n",
    "# netflix_df = pd.read_csv(f'../datasets/netflix/ratings.csv.gz')\n",
    "# spotify_df = pd.read_csv(f'../datasets/spotify/ratings.csv.gz')\n",
    "# spotify_df.rename(columns={'playlist_id': 'user_id'}, inplace=True)\n",
    "\n",
    "ratings_datasets = [\n",
    "    # ('MovieLens', ml_df),\n",
    "    ('KGRec', kgrec_music_df),\n",
    "    # ('Netflix', netflix_df),\n",
    "    # ('Spotify', spotify_df),\n",
    "]"
   ]
  },
  {
   "cell_type": "code",
   "execution_count": 3,
   "metadata": {},
   "outputs": [
    {
     "name": "stdout",
     "output_type": "stream",
     "text": [
      "KGRec 0.01 gb\n"
     ]
    }
   ],
   "source": [
    "# check sizes of datasets in gb\n",
    "for dataset_name, dataset_df in ratings_datasets:\n",
    "    total_mem_usage = dataset_df.memory_usage(deep=True, index=True).sum()\n",
    "    total_mem_usage_gb = round(total_mem_usage / 1024 ** 3, 2)\n",
    "    print(f'{dataset_name} {total_mem_usage_gb} gb')\n"
   ]
  },
  {
   "cell_type": "code",
   "execution_count": 4,
   "metadata": {},
   "outputs": [
    {
     "name": "stdout",
     "output_type": "stream",
     "text": [
      "Checking if KGRec dataset is sequential...\n",
      "Max user id: 5198\n",
      "Max item id: 8639\n",
      "Count user id: 5199\n",
      "Count item id: 8640\n"
     ]
    }
   ],
   "source": [
    "def check_if_ids_sequential(dataset_df):\n",
    "    max_user_id = dataset_df['user_id'].max()\n",
    "    max_item_id = dataset_df['item_id'].max()\n",
    "    count_user_id = dataset_df['user_id'].nunique()\n",
    "    count_item_id = dataset_df['item_id'].nunique()\n",
    "\n",
    "    print(f'Max user id: {max_user_id}')\n",
    "    print(f'Max item id: {max_item_id}')\n",
    "    print(f'Count user id: {count_user_id}')\n",
    "    print(f'Count item id: {count_item_id}')\n",
    "\n",
    "    assert  max_user_id == (count_user_id - 1)\n",
    "    assert  max_item_id == (count_item_id - 1)\n",
    "\n",
    "for dataset_name, dataset_df in ratings_datasets:\n",
    "    print(f'Checking if {dataset_name} dataset is sequential...')\n",
    "    check_if_ids_sequential(dataset_df)"
   ]
  },
  {
   "cell_type": "code",
   "execution_count": 5,
   "metadata": {},
   "outputs": [
    {
     "name": "stderr",
     "output_type": "stream",
     "text": [
      "100%|██████████| 751531/751531 [00:01<00:00, 426049.63it/s]\n"
     ]
    }
   ],
   "source": [
    "from collections import defaultdict\n",
    "from scipy.sparse import lil_matrix\n",
    "\n",
    "class UserRatings:\n",
    "    items_rated = set()\n",
    "    ratings = dict()\n",
    "\n",
    "ratings_datasets_w_our_sparse = []\n",
    "\n",
    "def transform_to_sparse_representation(dataset_df):\n",
    "    max_user_id = dataset_df['user_id'].max()\n",
    "    max_item_id = dataset_df['item_id'].max()\n",
    "\n",
    "    has_rating = 'rating' in dataset_df.columns\n",
    "\n",
    "    users_to_items_ratings = defaultdict(UserRatings)\n",
    "    \n",
    "    if has_rating:\n",
    "        for user_id, item_id, rating, *_ in tqdm(dataset_df.itertuples(index=False), total=dataset_df.shape[0]):\n",
    "            users_to_items_ratings[user_id].items_rated.add(item_id)\n",
    "            users_to_items_ratings[user_id].ratings[item_id] = rating\n",
    "    else:\n",
    "        for user_id, item_id, *_ in tqdm(dataset_df.itertuples(index=False), total=dataset_df.shape[0]):\n",
    "            users_to_items_ratings[user_id].items_rated.add(item_id)\n",
    "    \n",
    "    return users_to_items_ratings\n",
    "\n",
    "for dataset_name, dataset_df in ratings_datasets:\n",
    "    ratings_datasets_w_our_sparse.append((dataset_name, dataset_df, transform_to_sparse_representation(dataset_df)))"
   ]
  },
  {
   "cell_type": "code",
   "execution_count": 6,
   "metadata": {},
   "outputs": [],
   "source": [
    "for _, dataset_df in ratings_datasets:\n",
    "    dataset_df.sort_values(by='user_id', inplace=True)"
   ]
  },
  {
   "cell_type": "code",
   "execution_count": 36,
   "metadata": {},
   "outputs": [
    {
     "name": "stdout",
     "output_type": "stream",
     "text": [
      "[0. 0. 0. ... 0. 0. 0.]\n",
      "97.0\n"
     ]
    }
   ],
   "source": [
    "sparse = ratings_datasets_w_sparse[0][2]\n",
    "# get 300th row and square values\n",
    "print(sparse[300, :].toarray().reshape(-1))\n",
    "\n",
    "# y = x.getrow(300)\n",
    "# print(y)"
   ]
  },
  {
   "cell_type": "code",
   "execution_count": null,
   "metadata": {},
   "outputs": [],
   "source": [
    "from scipy.spatial.distance import cosine\n",
    "import scipy.stats as ss\n",
    "\n",
    "def get_random_users(max):\n",
    "    while True:\n",
    "        u1, u2 = random.randint(0, max), random.randint(0, max)\n",
    "        if u1 != u2:\n",
    "            return u1, u2\n",
    "\n",
    "# def transform_to_sparse_matrix(dataset_df):\n",
    "#     max_user_id = dataset_df['user_id'].max()\n",
    "#     max_item_id = dataset_df['item_id'].max()\n",
    "#     users_to_items_ratings = lil_matrix((max_user_id + 1, max_item_id + 1), dtype=np.float32)\n",
    "#     for user_id, item_id, rating, _ in tqdm(dataset_df.itertuples(index=False), total=dataset_df.shape[0]):\n",
    "#         users_to_items_ratings[user_id, item_id] = rating\n",
    "#     return users_to_items_ratings\n",
    "\n",
    "\n",
    "def draw_random_samples(dataset_df, sparse_rating_dataset, num_samples):\n",
    "    max_user_id = dataset_df['user_id'].max()\n",
    "    samples = []\n",
    "\n",
    "    for _ in tqdm(range(num_samples), total=num_samples):\n",
    "        u1, u2 = get_random_users(max_user_id)\n",
    "\n",
    "        user_ratings = sparse_rating_dataset[u1, :].toarray().flatten()\n",
    "        other_user_ratings = sparse_rating_dataset[u2, :].toarray().flatten()\n",
    "\n",
    "        cosine_similarity = 1 - cosine(user_ratings, other_user_ratings)\n",
    "        samples.append(cosine_similarity)\n",
    "\n",
    "    return samples\n",
    "\n",
    "def model_using_exp(samples):\n",
    "    exp_params = ss.expon.fit(samples, method='MM')\n",
    "    # (e1, e2) = exp_params\n",
    "    # exp_params = (0, e2)\n",
    "    return exp_params\n",
    "\n",
    "datasets_modeled_params = {}\n",
    "\n",
    "for dataset_name, dataset_df, ratings in ratings_datasets_w_sparse:\n",
    "    samples = draw_random_samples(dataset_df, ratings, num_samples=1_000_000)\n",
    "    exp_params = model_using_exp(samples)\n",
    "    datasets_modeled_params[dataset_name] = exp_params\n",
    "    print(f'{dataset_name}: {exp_params}')"
   ]
  },
  {
   "cell_type": "code",
   "execution_count": null,
   "metadata": {},
   "outputs": [],
   "source": [
    "# datasets_modeled_params = {}\n",
    "\n",
    "# for dataset_name, dataset_df, ratings in ratings_datasets_w_sparse:\n",
    "#     samples = draw_random_samples(dataset_df, ratings, num_samples=1000)\n",
    "#     exp_params = model_using_exp(samples)\n",
    "#     datasets_modeled_params[dataset_name] = exp_params\n",
    "#     print(f'{dataset_name}: {exp_params}')"
   ]
  },
  {
   "cell_type": "code",
   "execution_count": null,
   "metadata": {},
   "outputs": [],
   "source": []
  }
 ],
 "metadata": {
  "kernelspec": {
   "display_name": "Python 3.10.4 ('.venv': poetry)",
   "language": "python",
   "name": "python3"
  },
  "language_info": {
   "codemirror_mode": {
    "name": "ipython",
    "version": 3
   },
   "file_extension": ".py",
   "mimetype": "text/x-python",
   "name": "python",
   "nbconvert_exporter": "python",
   "pygments_lexer": "ipython3",
   "version": "3.9.13"
  },
  "orig_nbformat": 4,
  "vscode": {
   "interpreter": {
    "hash": "72e4c8b5f0869b81e3c54c1a9c17a5176fed7dccc000e70ae85e6cab596ae0d3"
   }
  }
 },
 "nbformat": 4,
 "nbformat_minor": 2
}
