{
 "cells": [
  {
   "cell_type": "code",
   "execution_count": 49,
   "metadata": {},
   "outputs": [],
   "source": [
    "import pandas as pd\n",
    "from matplotlib import pyplot as plt\n",
    "import numpy as np\n",
    "import seaborn as sns\n",
    "import matplotlib\n",
    "\n",
    "def group_users_by_number_of_ratings(df):\n",
    "    users_ratings = df.groupby('user_id').agg(\n",
    "        rating_count=('item_id', 'count'),\n",
    "    )\n",
    "    users_ratings.sort_values(by='rating_count', inplace=True)\n",
    "    users_ratings.reset_index(inplace=True)\n",
    "\n",
    "    num_users_by_rating = users_ratings.groupby('rating_count').agg(\n",
    "        num_users=('user_id', 'count'),\n",
    "    )\n",
    "    num_users_by_rating.reset_index(inplace=True)\n",
    "    return num_users_by_rating\n",
    "    \n",
    "\n",
    "def group_users_by_number_of_plays(df):\n",
    "    user_plays = df.groupby('user_id').agg(\n",
    "        plays_count=('plays', 'sum'),\n",
    "    )\n",
    "    user_plays.sort_values(by='plays_count', inplace=True)\n",
    "    user_plays.reset_index(inplace=True)\n",
    "\n",
    "    num_users_by_plays = user_plays.groupby('plays_count').agg(\n",
    "        num_users=('user_id', 'count'),\n",
    "    )\n",
    "    num_users_by_plays.reset_index(inplace=True)\n",
    "    return num_users_by_plays"
   ]
  },
  {
   "cell_type": "code",
   "execution_count": null,
   "metadata": {},
   "outputs": [],
   "source": [
    "# read csv without header, columns are:  user_id \\t item_id \\t artist_name \\t plays\n",
    "music_ratings_df = pd.read_csv('../datasets/downloads/lastfm-dataset-360K/usersha1-artmbid-artname-plays.tsv', delimiter='\\t', header=None, names=['user_id', 'item_id', 'artist_name', 'plays'])\n",
    "music_ratings_df.drop(['artist_name'], axis=1, inplace=True)"
   ]
  },
  {
   "cell_type": "code",
   "execution_count": 50,
   "metadata": {},
   "outputs": [],
   "source": [
    "# read csv without header, columns are:  user_id \\t item_id \\t artist_name \\t plays\n",
    "dataset_user_count = group_users_by_number_of_ratings(music_ratings_df)\n",
    "dataset_user_play_count = group_users_by_number_of_plays(music_ratings_df)\n"
   ]
  },
  {
   "cell_type": "code",
   "execution_count": 51,
   "metadata": {},
   "outputs": [
    {
     "data": {
      "text/html": [
       "<div>\n",
       "<style scoped>\n",
       "    .dataframe tbody tr th:only-of-type {\n",
       "        vertical-align: middle;\n",
       "    }\n",
       "\n",
       "    .dataframe tbody tr th {\n",
       "        vertical-align: top;\n",
       "    }\n",
       "\n",
       "    .dataframe thead th {\n",
       "        text-align: right;\n",
       "    }\n",
       "</style>\n",
       "<table border=\"1\" class=\"dataframe\">\n",
       "  <thead>\n",
       "    <tr style=\"text-align: right;\">\n",
       "      <th></th>\n",
       "      <th>rating_count</th>\n",
       "      <th>num_users</th>\n",
       "    </tr>\n",
       "  </thead>\n",
       "  <tbody>\n",
       "    <tr>\n",
       "      <th>0</th>\n",
       "      <td>0</td>\n",
       "      <td>10</td>\n",
       "    </tr>\n",
       "    <tr>\n",
       "      <th>1</th>\n",
       "      <td>1</td>\n",
       "      <td>46</td>\n",
       "    </tr>\n",
       "    <tr>\n",
       "      <th>2</th>\n",
       "      <td>2</td>\n",
       "      <td>54</td>\n",
       "    </tr>\n",
       "    <tr>\n",
       "      <th>3</th>\n",
       "      <td>3</td>\n",
       "      <td>76</td>\n",
       "    </tr>\n",
       "    <tr>\n",
       "      <th>4</th>\n",
       "      <td>4</td>\n",
       "      <td>63</td>\n",
       "    </tr>\n",
       "    <tr>\n",
       "      <th>...</th>\n",
       "      <td>...</td>\n",
       "      <td>...</td>\n",
       "    </tr>\n",
       "    <tr>\n",
       "      <th>124</th>\n",
       "      <td>130</td>\n",
       "      <td>1</td>\n",
       "    </tr>\n",
       "    <tr>\n",
       "      <th>125</th>\n",
       "      <td>131</td>\n",
       "      <td>2</td>\n",
       "    </tr>\n",
       "    <tr>\n",
       "      <th>126</th>\n",
       "      <td>138</td>\n",
       "      <td>1</td>\n",
       "    </tr>\n",
       "    <tr>\n",
       "      <th>127</th>\n",
       "      <td>149</td>\n",
       "      <td>1</td>\n",
       "    </tr>\n",
       "    <tr>\n",
       "      <th>128</th>\n",
       "      <td>165</td>\n",
       "      <td>2</td>\n",
       "    </tr>\n",
       "  </tbody>\n",
       "</table>\n",
       "<p>129 rows × 2 columns</p>\n",
       "</div>"
      ],
      "text/plain": [
       "     rating_count  num_users\n",
       "0               0         10\n",
       "1               1         46\n",
       "2               2         54\n",
       "3               3         76\n",
       "4               4         63\n",
       "..            ...        ...\n",
       "124           130          1\n",
       "125           131          2\n",
       "126           138          1\n",
       "127           149          1\n",
       "128           165          2\n",
       "\n",
       "[129 rows x 2 columns]"
      ]
     },
     "execution_count": 51,
     "metadata": {},
     "output_type": "execute_result"
    }
   ],
   "source": [
    "dataset_user_count"
   ]
  },
  {
   "cell_type": "code",
   "execution_count": 57,
   "metadata": {},
   "outputs": [
    {
     "data": {
      "image/png": "[encoded data removed]",
      "text/plain": [
       "<Figure size 720x360 with 1 Axes>"
      ]
     },
     "metadata": {
      "needs_background": "light"
     },
     "output_type": "display_data"
    }
   ],
   "source": [
    "\n",
    "num_users_smooth_2 = dataset_user_count['num_users'].rolling(3).sum()\n",
    "\n",
    "fig, ax = plt.subplots(figsize=(10, 5))\n",
    "sns.lineplot(x=dataset_user_count['rating_count'], y=num_users_smooth_2, ax=ax, legend=False)\n",
    "plt.tight_layout()\n",
    "plt.show()\n",
    "fig.savefig('../figures/num_users_by_rating_count.pgf')"
   ]
  },
  {
   "cell_type": "code",
   "execution_count": 58,
   "metadata": {},
   "outputs": [
    {
     "data": {
      "image/png": "[encoded data removed]",
      "text/plain": [
       "<Figure size 720x360 with 1 Axes>"
      ]
     },
     "metadata": {
      "needs_background": "light"
     },
     "output_type": "display_data"
    }
   ],
   "source": [
    "\n",
    "num_plays_smooth = dataset_user_play_count['num_users'].rolling(40).sum()\n",
    "\n",
    "fig, ax = plt.subplots(figsize=(10, 5))\n",
    "sns.lineplot(x=dataset_user_play_count['plays_count'], y=num_plays_smooth, ax=ax, legend=False)\n",
    "# set x axes to log scale\n",
    "ax.set_xscale('log')\n",
    "plt.tight_layout()\n",
    "plt.show()\n",
    "fig.savefig('../figures/num_users_by_rating_count.pgf')"
   ]
  },
  {
   "cell_type": "code",
   "execution_count": null,
   "metadata": {},
   "outputs": [],
   "source": []
  }
 ],
 "metadata": {
  "interpreter": {
   "hash": "72e4c8b5f0869b81e3c54c1a9c17a5176fed7dccc000e70ae85e6cab596ae0d3"
  },
  "kernelspec": {
   "display_name": "Python 3.10.4 ('.venv': poetry)",
   "language": "python",
   "name": "python3"
  },
  "language_info": {
   "codemirror_mode": {
    "name": "ipython",
    "version": 3
   },
   "file_extension": ".py",
   "mimetype": "text/x-python",
   "name": "python",
   "nbconvert_exporter": "python",
   "pygments_lexer": "ipython3",
   "version": "3.10.4"
  },
  "orig_nbformat": 4
 },
 "nbformat": 4,
 "nbformat_minor": 2
}
