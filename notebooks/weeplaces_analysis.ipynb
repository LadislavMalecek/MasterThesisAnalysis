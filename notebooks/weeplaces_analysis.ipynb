{
 "cells": [
  {
   "cell_type": "code",
   "execution_count": 1,
   "metadata": {},
   "outputs": [],
   "source": [
    "import pandas as pd\n",
    "import numpy as np"
   ]
  },
  {
   "cell_type": "code",
   "execution_count": 2,
   "metadata": {},
   "outputs": [],
   "source": [
    "\n",
    "checkins_df = pd.read_csv(f'../datasets/downloads/weeplaces/weeplaces/weeplace_checkins.csv')"
   ]
  },
  {
   "cell_type": "code",
   "execution_count": 3,
   "metadata": {},
   "outputs": [],
   "source": [
    "friends_df = pd.read_csv(f'../datasets/downloads/weeplaces/weeplaces/weeplace_friends.csv')"
   ]
  },
  {
   "cell_type": "code",
   "execution_count": 4,
   "metadata": {},
   "outputs": [
    {
     "data": {
      "text/html": [
       "<div>\n",
       "<style scoped>\n",
       "    .dataframe tbody tr th:only-of-type {\n",
       "        vertical-align: middle;\n",
       "    }\n",
       "\n",
       "    .dataframe tbody tr th {\n",
       "        vertical-align: top;\n",
       "    }\n",
       "\n",
       "    .dataframe thead th {\n",
       "        text-align: right;\n",
       "    }\n",
       "</style>\n",
       "<table border=\"1\" class=\"dataframe\">\n",
       "  <thead>\n",
       "    <tr style=\"text-align: right;\">\n",
       "      <th></th>\n",
       "      <th>userid</th>\n",
       "      <th>placeid</th>\n",
       "      <th>datetime</th>\n",
       "      <th>lat</th>\n",
       "      <th>lon</th>\n",
       "      <th>city</th>\n",
       "      <th>category</th>\n",
       "    </tr>\n",
       "  </thead>\n",
       "  <tbody>\n",
       "    <tr>\n",
       "      <th>0</th>\n",
       "      <td>fred-wilson</td>\n",
       "      <td>tocqueville-new-york</td>\n",
       "      <td>2010-10-22T23:44:29</td>\n",
       "      <td>40.736300</td>\n",
       "      <td>-73.992200</td>\n",
       "      <td>New York</td>\n",
       "      <td>Food:American</td>\n",
       "    </tr>\n",
       "    <tr>\n",
       "      <th>1</th>\n",
       "      <td>fred-wilson</td>\n",
       "      <td>wesleyan-university-usdan-university-center-mi...</td>\n",
       "      <td>2010-10-23T17:00:24</td>\n",
       "      <td>41.556974</td>\n",
       "      <td>-72.657571</td>\n",
       "      <td>Middletown</td>\n",
       "      <td>College &amp; Education:Student Center</td>\n",
       "    </tr>\n",
       "    <tr>\n",
       "      <th>2</th>\n",
       "      <td>fred-wilson</td>\n",
       "      <td>javapalooza-middletown</td>\n",
       "      <td>2010-10-23T20:30:45</td>\n",
       "      <td>41.558853</td>\n",
       "      <td>-72.648618</td>\n",
       "      <td>Middletown</td>\n",
       "      <td>Food:Coffee Shop</td>\n",
       "    </tr>\n",
       "    <tr>\n",
       "      <th>3</th>\n",
       "      <td>fred-wilson</td>\n",
       "      <td>giorgione-new-york</td>\n",
       "      <td>2010-10-24T00:22:49</td>\n",
       "      <td>40.726144</td>\n",
       "      <td>-74.008348</td>\n",
       "      <td>New York</td>\n",
       "      <td>Food:Italian</td>\n",
       "    </tr>\n",
       "    <tr>\n",
       "      <th>4</th>\n",
       "      <td>fred-wilson</td>\n",
       "      <td>the-shala-new-york</td>\n",
       "      <td>2010-10-24T16:01:38</td>\n",
       "      <td>40.733075</td>\n",
       "      <td>-73.991478</td>\n",
       "      <td>New York</td>\n",
       "      <td>Home / Work / Other:Gym / Fitness:Yoga Studio</td>\n",
       "    </tr>\n",
       "    <tr>\n",
       "      <th>...</th>\n",
       "      <td>...</td>\n",
       "      <td>...</td>\n",
       "      <td>...</td>\n",
       "      <td>...</td>\n",
       "      <td>...</td>\n",
       "      <td>...</td>\n",
       "      <td>...</td>\n",
       "    </tr>\n",
       "    <tr>\n",
       "      <th>7658363</th>\n",
       "      <td>mark-van-der-poel</td>\n",
       "      <td>schiecentrale-rotterdam-rotterdam</td>\n",
       "      <td>2010-10-22T07:06:14</td>\n",
       "      <td>51.904231</td>\n",
       "      <td>4.459790</td>\n",
       "      <td>Rotterdam</td>\n",
       "      <td>Home / Work / Other:Corporate / Office</td>\n",
       "    </tr>\n",
       "    <tr>\n",
       "      <th>7658364</th>\n",
       "      <td>mark-van-der-poel</td>\n",
       "      <td>beukelsplein-rotterdam</td>\n",
       "      <td>2010-10-22T12:00:08</td>\n",
       "      <td>51.921256</td>\n",
       "      <td>4.455721</td>\n",
       "      <td>Rotterdam</td>\n",
       "      <td>Parks &amp; Outdoors:Playground</td>\n",
       "    </tr>\n",
       "    <tr>\n",
       "      <th>7658365</th>\n",
       "      <td>mark-van-der-poel</td>\n",
       "      <td>supersteil-rotterdam</td>\n",
       "      <td>2010-10-22T12:00:45</td>\n",
       "      <td>51.903001</td>\n",
       "      <td>4.458642</td>\n",
       "      <td>Rotterdam</td>\n",
       "      <td>Home / Work / Other:Corporate / Office</td>\n",
       "    </tr>\n",
       "    <tr>\n",
       "      <th>7658366</th>\n",
       "      <td>mark-van-der-poel</td>\n",
       "      <td>supersteil-rotterdam</td>\n",
       "      <td>2010-09-23T09:07:57</td>\n",
       "      <td>51.903001</td>\n",
       "      <td>4.458642</td>\n",
       "      <td>Rotterdam</td>\n",
       "      <td>Home / Work / Other:Corporate / Office</td>\n",
       "    </tr>\n",
       "    <tr>\n",
       "      <th>7658367</th>\n",
       "      <td>mark-van-der-poel</td>\n",
       "      <td>supersteil-rotterdam</td>\n",
       "      <td>2010-09-23T08:39:29</td>\n",
       "      <td>51.903001</td>\n",
       "      <td>4.458642</td>\n",
       "      <td>Rotterdam</td>\n",
       "      <td>Home / Work / Other:Corporate / Office</td>\n",
       "    </tr>\n",
       "  </tbody>\n",
       "</table>\n",
       "<p>7658368 rows × 7 columns</p>\n",
       "</div>"
      ],
      "text/plain": [
       "                    userid                                            placeid  \\\n",
       "0              fred-wilson                               tocqueville-new-york   \n",
       "1              fred-wilson  wesleyan-university-usdan-university-center-mi...   \n",
       "2              fred-wilson                             javapalooza-middletown   \n",
       "3              fred-wilson                                 giorgione-new-york   \n",
       "4              fred-wilson                                 the-shala-new-york   \n",
       "...                    ...                                                ...   \n",
       "7658363  mark-van-der-poel                  schiecentrale-rotterdam-rotterdam   \n",
       "7658364  mark-van-der-poel                             beukelsplein-rotterdam   \n",
       "7658365  mark-van-der-poel                               supersteil-rotterdam   \n",
       "7658366  mark-van-der-poel                               supersteil-rotterdam   \n",
       "7658367  mark-van-der-poel                               supersteil-rotterdam   \n",
       "\n",
       "                    datetime        lat        lon        city  \\\n",
       "0        2010-10-22T23:44:29  40.736300 -73.992200    New York   \n",
       "1        2010-10-23T17:00:24  41.556974 -72.657571  Middletown   \n",
       "2        2010-10-23T20:30:45  41.558853 -72.648618  Middletown   \n",
       "3        2010-10-24T00:22:49  40.726144 -74.008348    New York   \n",
       "4        2010-10-24T16:01:38  40.733075 -73.991478    New York   \n",
       "...                      ...        ...        ...         ...   \n",
       "7658363  2010-10-22T07:06:14  51.904231   4.459790   Rotterdam   \n",
       "7658364  2010-10-22T12:00:08  51.921256   4.455721   Rotterdam   \n",
       "7658365  2010-10-22T12:00:45  51.903001   4.458642   Rotterdam   \n",
       "7658366  2010-09-23T09:07:57  51.903001   4.458642   Rotterdam   \n",
       "7658367  2010-09-23T08:39:29  51.903001   4.458642   Rotterdam   \n",
       "\n",
       "                                              category  \n",
       "0                                        Food:American  \n",
       "1                   College & Education:Student Center  \n",
       "2                                     Food:Coffee Shop  \n",
       "3                                         Food:Italian  \n",
       "4        Home / Work / Other:Gym / Fitness:Yoga Studio  \n",
       "...                                                ...  \n",
       "7658363         Home / Work / Other:Corporate / Office  \n",
       "7658364                    Parks & Outdoors:Playground  \n",
       "7658365         Home / Work / Other:Corporate / Office  \n",
       "7658366         Home / Work / Other:Corporate / Office  \n",
       "7658367         Home / Work / Other:Corporate / Office  \n",
       "\n",
       "[7658368 rows x 7 columns]"
      ]
     },
     "execution_count": 4,
     "metadata": {},
     "output_type": "execute_result"
    }
   ],
   "source": [
    "checkins_df"
   ]
  },
  {
   "cell_type": "code",
   "execution_count": 5,
   "metadata": {},
   "outputs": [
    {
     "name": "stdout",
     "output_type": "stream",
     "text": [
      "       userid1              userid2\n",
      "114682      01                   ju\n",
      "114683      01  gregor-van-der-mark\n",
      "114684      01         ivan-ralchev\n",
      "                    userid1 userid2\n",
      "85623          ivan-ralchev      01\n",
      "85624                    ju      01\n",
      "119160  gregor-van-der-mark      01\n"
     ]
    }
   ],
   "source": [
    "x = friends_df[friends_df['userid1'] == '01']\n",
    "print(x)\n",
    "x = friends_df[friends_df['userid2'] == '01']\n",
    "print(x)\n",
    "\n",
    "# frinedlist contains directions of the relationship between users"
   ]
  },
  {
   "cell_type": "code",
   "execution_count": 6,
   "metadata": {},
   "outputs": [],
   "source": [
    "grouped_df = friends_df.groupby('userid1')['userid2'].agg(lambda x: set(x))\n",
    "# grouped_df.reset_index(inplace=True)\n",
    "# grouped_df.set_index('userid1', inplace=True)\n",
    "# grouped_df\n"
   ]
  },
  {
   "cell_type": "code",
   "execution_count": 7,
   "metadata": {},
   "outputs": [
    {
     "data": {
      "text/plain": [
       "userid1\n",
       "00-a           {keiichi-yoshipara, jin-shiiba, 337, hironao, ...\n",
       "0046aki                                                  {ihase}\n",
       "01                       {ju, ivan-ralchev, gregor-van-der-mark}\n",
       "0403                                         {rika, poppo-poppo}\n",
       "062            {kaichi-kuroda, red-bull, kuma, salsa-labs, st...\n",
       "                                     ...                        \n",
       "zulfan-tm      {fathiya-adisza, luna-fedrafaisya, zakwannur-o...\n",
       "zuntsuku                                        {stilo-kitagawa}\n",
       "zvi-band       {ben-kutil, justin-thorp, julie-minevich, davi...\n",
       "zviki-cohen              {roi-carthy, liran-zelkha, yosi-taguri}\n",
       "zwilling                      {daniel-pavlides, danielle-maveal}\n",
       "Name: userid2, Length: 16021, dtype: object"
      ]
     },
     "execution_count": 7,
     "metadata": {},
     "output_type": "execute_result"
    }
   ],
   "source": [
    "grouped_df"
   ]
  },
  {
   "cell_type": "code",
   "execution_count": 8,
   "metadata": {},
   "outputs": [],
   "source": [
    "count_friendship = friends_df.groupby('userid1')['userid2'].agg('count')"
   ]
  },
  {
   "cell_type": "code",
   "execution_count": 9,
   "metadata": {},
   "outputs": [
    {
     "data": {
      "text/plain": [
       "7.485799887647462"
      ]
     },
     "execution_count": 9,
     "metadata": {},
     "output_type": "execute_result"
    }
   ],
   "source": [
    "np.average(count_friendship)"
   ]
  }
 ],
 "metadata": {
  "interpreter": {
   "hash": "72e4c8b5f0869b81e3c54c1a9c17a5176fed7dccc000e70ae85e6cab596ae0d3"
  },
  "kernelspec": {
   "display_name": "Python 3.10.4 ('.venv': poetry)",
   "language": "python",
   "name": "python3"
  },
  "language_info": {
   "codemirror_mode": {
    "name": "ipython",
    "version": 3
   },
   "file_extension": ".py",
   "mimetype": "text/x-python",
   "name": "python",
   "nbconvert_exporter": "python",
   "pygments_lexer": "ipython3",
   "version": "3.10.4"
  },
  "orig_nbformat": 4
 },
 "nbformat": 4,
 "nbformat_minor": 2
}
